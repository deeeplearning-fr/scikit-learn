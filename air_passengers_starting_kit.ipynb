{
  "nbformat": 4,
  "nbformat_minor": 0,
  "metadata": {
    "kernelspec": {
      "display_name": "Python 3",
      "language": "python",
      "name": "python3"
    },
    "language_info": {
      "codemirror_mode": {
        "name": "ipython",
        "version": 3
      },
      "file_extension": ".py",
      "mimetype": "text/x-python",
      "name": "python",
      "nbconvert_exporter": "python",
      "pygments_lexer": "ipython3",
      "version": "3.8.5"
    },
    "colab": {
      "name": "air_passengers_starting_kit.ipynb",
      "provenance": [],
      "include_colab_link": true
    }
  },
  "cells": [
    {
      "cell_type": "markdown",
      "metadata": {
        "id": "view-in-github",
        "colab_type": "text"
      },
      "source": [
        "<a href=\"https://colab.research.google.com/github/deeeplearning-fr/scikit-learn/blob/main/air_passengers_starting_kit.ipynb\" target=\"_parent\"><img src=\"https://colab.research.google.com/assets/colab-badge.svg\" alt=\"Open In Colab\"/></a>"
      ]
    },
    {
      "cell_type": "markdown",
      "metadata": {
        "id": "p3Tc_AtvQDvk"
      },
      "source": [
        "# <a href=\"http://www.datascience-paris-saclay.fr\">Paris Saclay Center for Data Science</a>\n",
        "# <a href=https://www.ramp.studio/problems/air_passengers>RAMP</a> on predicting the number of air passengers\n",
        "\n",
        "<i> Balázs Kégl (LAL/CNRS), Alex Gramfort (Inria), Djalel Benbouzid (UPMC), Mehdi Cherti (LAL/CNRS) </i>"
      ]
    },
    {
      "cell_type": "markdown",
      "metadata": {
        "id": "4iQwWsNyQDvk"
      },
      "source": [
        "## Introduction\n",
        "The data set was donated to us by an unnamed company handling flight ticket reservations. The data is thin, it contains\n",
        "<ul>\n",
        "<li> the date of departure\n",
        "<li> the departure airport\n",
        "<li> the arrival airport\n",
        "<li> the mean and standard deviation of the number of weeks of the reservations made before the departure date\n",
        "<li> a field called <code>log_PAX</code> which is related to the number of passengers (the actual number were changed for privacy reasons)\n",
        "</ul>\n",
        "\n",
        "The goal is to predict the <code>log_PAX</code> column. The prediction quality is measured by RMSE. \n",
        "\n",
        "The data is obviously limited, but since data and location informations are available, it can be joined to external data sets. <b>The challenge in this RAMP is to find good data that can be correlated to flight traffic</b>."
      ]
    },
    {
      "cell_type": "code",
      "metadata": {
        "id": "OMurVLCfQDvk"
      },
      "source": [
        "%matplotlib inline\n",
        "import os\n",
        "import importlib\n",
        "import numpy as np\n",
        "import pandas as pd\n",
        "import matplotlib.pyplot as plt\n",
        "pd.set_option('display.max_columns', None)"
      ],
      "execution_count": null,
      "outputs": []
    },
    {
      "cell_type": "markdown",
      "metadata": {
        "id": "-AueR2JRQDvl"
      },
      "source": [
        "## Load the dataset using pandas"
      ]
    },
    {
      "cell_type": "markdown",
      "metadata": {
        "id": "Op01hHwuQDvl"
      },
      "source": [
        "The training and testing data are located in the folder `data`. They are compressed `csv` file (i.e. `csv.bz2`). We can load the dataset using pandas."
      ]
    },
    {
      "cell_type": "code",
      "metadata": {
        "id": "SVTReR9AQDvl"
      },
      "source": [
        "data = pd.read_csv(\n",
        "    os.path.join('data', 'train.csv.bz2'), parse_dates=[0]\n",
        ")"
      ],
      "execution_count": null,
      "outputs": []
    },
    {
      "cell_type": "code",
      "metadata": {
        "id": "fGOpISNzQDvl",
        "outputId": "0f3b5771-83d8-4b15-849c-5ee574cd6531"
      },
      "source": [
        "data.info()"
      ],
      "execution_count": null,
      "outputs": [
        {
          "output_type": "stream",
          "text": [
            "<class 'pandas.core.frame.DataFrame'>\n",
            "RangeIndex: 8902 entries, 0 to 8901\n",
            "Data columns (total 6 columns):\n",
            " #   Column            Non-Null Count  Dtype         \n",
            "---  ------            --------------  -----         \n",
            " 0   DateOfDeparture   8902 non-null   datetime64[ns]\n",
            " 1   Departure         8902 non-null   object        \n",
            " 2   Arrival           8902 non-null   object        \n",
            " 3   WeeksToDeparture  8902 non-null   float64       \n",
            " 4   log_PAX           8902 non-null   float64       \n",
            " 5   std_wtd           8902 non-null   float64       \n",
            "dtypes: datetime64[ns](1), float64(3), object(2)\n",
            "memory usage: 417.4+ KB\n"
          ],
          "name": "stdout"
        }
      ]
    },
    {
      "cell_type": "markdown",
      "metadata": {
        "id": "3fIDA9bTQDvm"
      },
      "source": [
        "So as stated earlier, the column `log_PAX` is the target for our regression problem. The other columns are the features which will be used for our prediction problem. If we focus on the data type of the column, we can see that `DateOfDeparture`, `Departure`, and `Arrival` are of `object` dtype, meaning they are strings."
      ]
    },
    {
      "cell_type": "code",
      "metadata": {
        "id": "Gf6eq5GUQDvm",
        "outputId": "396a1cc4-7edb-4af9-c34c-ed68e6b16c95"
      },
      "source": [
        "data[['DateOfDeparture', 'Departure', 'Arrival']].head()"
      ],
      "execution_count": null,
      "outputs": [
        {
          "output_type": "execute_result",
          "data": {
            "text/html": [
              "<div>\n",
              "<style scoped>\n",
              "    .dataframe tbody tr th:only-of-type {\n",
              "        vertical-align: middle;\n",
              "    }\n",
              "\n",
              "    .dataframe tbody tr th {\n",
              "        vertical-align: top;\n",
              "    }\n",
              "\n",
              "    .dataframe thead th {\n",
              "        text-align: right;\n",
              "    }\n",
              "</style>\n",
              "<table border=\"1\" class=\"dataframe\">\n",
              "  <thead>\n",
              "    <tr style=\"text-align: right;\">\n",
              "      <th></th>\n",
              "      <th>DateOfDeparture</th>\n",
              "      <th>Departure</th>\n",
              "      <th>Arrival</th>\n",
              "    </tr>\n",
              "  </thead>\n",
              "  <tbody>\n",
              "    <tr>\n",
              "      <th>0</th>\n",
              "      <td>2012-06-19</td>\n",
              "      <td>ORD</td>\n",
              "      <td>DFW</td>\n",
              "    </tr>\n",
              "    <tr>\n",
              "      <th>1</th>\n",
              "      <td>2012-09-10</td>\n",
              "      <td>LAS</td>\n",
              "      <td>DEN</td>\n",
              "    </tr>\n",
              "    <tr>\n",
              "      <th>2</th>\n",
              "      <td>2012-10-05</td>\n",
              "      <td>DEN</td>\n",
              "      <td>LAX</td>\n",
              "    </tr>\n",
              "    <tr>\n",
              "      <th>3</th>\n",
              "      <td>2011-10-09</td>\n",
              "      <td>ATL</td>\n",
              "      <td>ORD</td>\n",
              "    </tr>\n",
              "    <tr>\n",
              "      <th>4</th>\n",
              "      <td>2012-02-21</td>\n",
              "      <td>DEN</td>\n",
              "      <td>SFO</td>\n",
              "    </tr>\n",
              "  </tbody>\n",
              "</table>\n",
              "</div>"
            ],
            "text/plain": [
              "  DateOfDeparture Departure Arrival\n",
              "0      2012-06-19       ORD     DFW\n",
              "1      2012-09-10       LAS     DEN\n",
              "2      2012-10-05       DEN     LAX\n",
              "3      2011-10-09       ATL     ORD\n",
              "4      2012-02-21       DEN     SFO"
            ]
          },
          "metadata": {
            "tags": []
          },
          "execution_count": 4
        }
      ]
    },
    {
      "cell_type": "markdown",
      "metadata": {
        "id": "UULabDzTQDvm"
      },
      "source": [
        "While it makes `Departure` and `Arrival` are the code of the airport, we see that the `DateOfDeparture` should be a date instead of string. We can use pandas to convert this data."
      ]
    },
    {
      "cell_type": "code",
      "metadata": {
        "id": "yoIRq4MUQDvm"
      },
      "source": [
        "data.loc[:, 'DateOfDeparture'] = pd.to_datetime(data.loc[:, 'DateOfDeparture'])"
      ],
      "execution_count": null,
      "outputs": []
    },
    {
      "cell_type": "code",
      "metadata": {
        "id": "0GSPK9R1QDvm",
        "outputId": "76ce27d4-4597-4ac9-b6ef-a23b52090b39"
      },
      "source": [
        "data.info()"
      ],
      "execution_count": null,
      "outputs": [
        {
          "output_type": "stream",
          "text": [
            "<class 'pandas.core.frame.DataFrame'>\n",
            "RangeIndex: 8902 entries, 0 to 8901\n",
            "Data columns (total 6 columns):\n",
            " #   Column            Non-Null Count  Dtype         \n",
            "---  ------            --------------  -----         \n",
            " 0   DateOfDeparture   8902 non-null   datetime64[ns]\n",
            " 1   Departure         8902 non-null   object        \n",
            " 2   Arrival           8902 non-null   object        \n",
            " 3   WeeksToDeparture  8902 non-null   float64       \n",
            " 4   log_PAX           8902 non-null   float64       \n",
            " 5   std_wtd           8902 non-null   float64       \n",
            "dtypes: datetime64[ns](1), float64(3), object(2)\n",
            "memory usage: 417.4+ KB\n"
          ],
          "name": "stdout"
        }
      ]
    },
    {
      "cell_type": "markdown",
      "metadata": {
        "id": "XqzYNRERQDvm"
      },
      "source": [
        "When you will create a submission, `ramp-workflow` will load the data for you and split into a data matrix `X` and a target vector `y`. It will also take care about splitting the data into a training and testing set. These utilities are available in the module `problem.py` which we will load."
      ]
    },
    {
      "cell_type": "code",
      "metadata": {
        "id": "gYyU6Fv7QDvn"
      },
      "source": [
        "import problem"
      ],
      "execution_count": null,
      "outputs": []
    },
    {
      "cell_type": "markdown",
      "metadata": {
        "id": "hKyndjn7QDvn"
      },
      "source": [
        "The function `get_train_data()` loads the training data and returns a pandas dataframe `X` and a numpy vector `y`."
      ]
    },
    {
      "cell_type": "code",
      "metadata": {
        "id": "_Xk8TqNUQDvn"
      },
      "source": [
        "X, y = problem.get_train_data()"
      ],
      "execution_count": null,
      "outputs": []
    },
    {
      "cell_type": "code",
      "metadata": {
        "id": "gauVFnZrQDvn",
        "outputId": "575234b4-65e9-4fe2-f50a-9d5d3620c539"
      },
      "source": [
        "type(X)"
      ],
      "execution_count": null,
      "outputs": [
        {
          "output_type": "execute_result",
          "data": {
            "text/plain": [
              "pandas.core.frame.DataFrame"
            ]
          },
          "metadata": {
            "tags": []
          },
          "execution_count": 9
        }
      ]
    },
    {
      "cell_type": "code",
      "metadata": {
        "id": "SAH1to32QDvn",
        "outputId": "43708ae2-3307-4b72-d583-0814d65184da"
      },
      "source": [
        "type(y)"
      ],
      "execution_count": null,
      "outputs": [
        {
          "output_type": "execute_result",
          "data": {
            "text/plain": [
              "numpy.ndarray"
            ]
          },
          "metadata": {
            "tags": []
          },
          "execution_count": 10
        }
      ]
    },
    {
      "cell_type": "markdown",
      "metadata": {
        "id": "eD07VpcDQDvn"
      },
      "source": [
        "We can check the information of the data `X`"
      ]
    },
    {
      "cell_type": "code",
      "metadata": {
        "id": "cir7VpvZQDvn",
        "outputId": "11662a7b-4c9b-4591-86ba-4fc928fd29ed"
      },
      "source": [
        "X.info()"
      ],
      "execution_count": null,
      "outputs": [
        {
          "output_type": "stream",
          "text": [
            "<class 'pandas.core.frame.DataFrame'>\n",
            "RangeIndex: 8902 entries, 0 to 8901\n",
            "Data columns (total 5 columns):\n",
            " #   Column            Non-Null Count  Dtype  \n",
            "---  ------            --------------  -----  \n",
            " 0   DateOfDeparture   8902 non-null   object \n",
            " 1   Departure         8902 non-null   object \n",
            " 2   Arrival           8902 non-null   object \n",
            " 3   WeeksToDeparture  8902 non-null   float64\n",
            " 4   std_wtd           8902 non-null   float64\n",
            "dtypes: float64(2), object(3)\n",
            "memory usage: 347.9+ KB\n"
          ],
          "name": "stdout"
        }
      ]
    },
    {
      "cell_type": "markdown",
      "metadata": {
        "id": "E5gfgJKwQDvn"
      },
      "source": [
        "Thus, this is important to see that `ramp-workflow` does not convert the `DateOfDeparture` column into a `datetime` format. Thus, keep in mind that you might need to make a conversion when prototyping your machine learning pipeline later on. Let's check some statistics regarding our dataset."
      ]
    },
    {
      "cell_type": "code",
      "metadata": {
        "id": "xiW_GsYSQDvn",
        "outputId": "6b565199-7700-473c-bcf9-7ff0f7dc82ba"
      },
      "source": [
        "print(min(X['DateOfDeparture']))\n",
        "print(max(X['DateOfDeparture']))"
      ],
      "execution_count": null,
      "outputs": [
        {
          "output_type": "stream",
          "text": [
            "2011-09-01\n",
            "2013-03-05\n"
          ],
          "name": "stdout"
        }
      ]
    },
    {
      "cell_type": "code",
      "metadata": {
        "id": "mK0ow2uRQDvn",
        "outputId": "050039e7-bf6e-467c-8766-dd6feccfe898"
      },
      "source": [
        "X['Departure'].unique()"
      ],
      "execution_count": null,
      "outputs": [
        {
          "output_type": "execute_result",
          "data": {
            "text/plain": [
              "array(['ORD', 'LAS', 'DEN', 'ATL', 'SFO', 'EWR', 'IAH', 'LAX', 'DFW',\n",
              "       'SEA', 'JFK', 'PHL', 'MIA', 'DTW', 'BOS', 'MSP', 'CLT', 'MCO',\n",
              "       'PHX', 'LGA'], dtype=object)"
            ]
          },
          "metadata": {
            "tags": []
          },
          "execution_count": 13
        }
      ]
    },
    {
      "cell_type": "code",
      "metadata": {
        "id": "9ZBHCdZxQDvn",
        "outputId": "02205b97-b8cc-444d-dd17-daf45bba6fac"
      },
      "source": [
        "_ = plt.hist(y, bins=50)"
      ],
      "execution_count": null,
      "outputs": [
        {
          "output_type": "display_data",
          "data": {
            "image/png": "[encoded data removed]",
            "text/plain": [
              "<Figure size 432x288 with 1 Axes>"
            ]
          },
          "metadata": {
            "tags": [],
            "needs_background": "light"
          }
        }
      ]
    },
    {
      "cell_type": "code",
      "metadata": {
        "id": "scdiRu_DQDvn",
        "outputId": "8b48f3fc-23c4-49da-fac8-c0d99bb25b56"
      },
      "source": [
        "_ = X.hist('std_wtd', bins=50)"
      ],
      "execution_count": null,
      "outputs": [
        {
          "output_type": "display_data",
          "data": {
            "image/png": "[encoded data removed]",
            "text/plain": [
              "<Figure size 432x288 with 1 Axes>"
            ]
          },
          "metadata": {
            "tags": [],
            "needs_background": "light"
          }
        }
      ]
    },
    {
      "cell_type": "code",
      "metadata": {
        "id": "DhJEvx-kQDvn",
        "outputId": "fd1e724e-502b-4bce-dc0d-83ec00623b01"
      },
      "source": [
        "_ = X.hist('WeeksToDeparture', bins=50)"
      ],
      "execution_count": null,
      "outputs": [
        {
          "output_type": "display_data",
          "data": {
            "image/png": "[encoded data removed]",
            "text/plain": [
              "<Figure size 432x288 with 1 Axes>"
            ]
          },
          "metadata": {
            "tags": [],
            "needs_background": "light"
          }
        }
      ]
    },
    {
      "cell_type": "code",
      "metadata": {
        "id": "1bq5q5IUQDvn",
        "outputId": "e88648ec-c788-4d90-ca51-99b0974fb272"
      },
      "source": [
        "X.describe()"
      ],
      "execution_count": null,
      "outputs": [
        {
          "output_type": "execute_result",
          "data": {
            "text/html": [
              "<div>\n",
              "<style scoped>\n",
              "    .dataframe tbody tr th:only-of-type {\n",
              "        vertical-align: middle;\n",
              "    }\n",
              "\n",
              "    .dataframe tbody tr th {\n",
              "        vertical-align: top;\n",
              "    }\n",
              "\n",
              "    .dataframe thead th {\n",
              "        text-align: right;\n",
              "    }\n",
              "</style>\n",
              "<table border=\"1\" class=\"dataframe\">\n",
              "  <thead>\n",
              "    <tr style=\"text-align: right;\">\n",
              "      <th></th>\n",
              "      <th>WeeksToDeparture</th>\n",
              "      <th>std_wtd</th>\n",
              "    </tr>\n",
              "  </thead>\n",
              "  <tbody>\n",
              "    <tr>\n",
              "      <th>count</th>\n",
              "      <td>8902.000000</td>\n",
              "      <td>8902.000000</td>\n",
              "    </tr>\n",
              "    <tr>\n",
              "      <th>mean</th>\n",
              "      <td>11.446469</td>\n",
              "      <td>8.617773</td>\n",
              "    </tr>\n",
              "    <tr>\n",
              "      <th>std</th>\n",
              "      <td>2.787140</td>\n",
              "      <td>2.139604</td>\n",
              "    </tr>\n",
              "    <tr>\n",
              "      <th>min</th>\n",
              "      <td>2.625000</td>\n",
              "      <td>2.160247</td>\n",
              "    </tr>\n",
              "    <tr>\n",
              "      <th>25%</th>\n",
              "      <td>9.523810</td>\n",
              "      <td>7.089538</td>\n",
              "    </tr>\n",
              "    <tr>\n",
              "      <th>50%</th>\n",
              "      <td>11.300000</td>\n",
              "      <td>8.571116</td>\n",
              "    </tr>\n",
              "    <tr>\n",
              "      <th>75%</th>\n",
              "      <td>13.240000</td>\n",
              "      <td>10.140521</td>\n",
              "    </tr>\n",
              "    <tr>\n",
              "      <th>max</th>\n",
              "      <td>23.163265</td>\n",
              "      <td>15.862216</td>\n",
              "    </tr>\n",
              "  </tbody>\n",
              "</table>\n",
              "</div>"
            ],
            "text/plain": [
              "       WeeksToDeparture      std_wtd\n",
              "count       8902.000000  8902.000000\n",
              "mean          11.446469     8.617773\n",
              "std            2.787140     2.139604\n",
              "min            2.625000     2.160247\n",
              "25%            9.523810     7.089538\n",
              "50%           11.300000     8.571116\n",
              "75%           13.240000    10.140521\n",
              "max           23.163265    15.862216"
            ]
          },
          "metadata": {
            "tags": []
          },
          "execution_count": 17
        }
      ]
    },
    {
      "cell_type": "code",
      "metadata": {
        "id": "oTgso1jYQDvo",
        "outputId": "fab8235e-6183-4ef1-9374-d316214c21e5"
      },
      "source": [
        "X.shape"
      ],
      "execution_count": null,
      "outputs": [
        {
          "output_type": "execute_result",
          "data": {
            "text/plain": [
              "(8902, 5)"
            ]
          },
          "metadata": {
            "tags": []
          },
          "execution_count": 18
        }
      ]
    },
    {
      "cell_type": "code",
      "metadata": {
        "id": "uawDw1i0QDvo",
        "outputId": "54388804-a071-471f-da02-bf20c924e2db"
      },
      "source": [
        "print(y.mean())\n",
        "print(y.std())"
      ],
      "execution_count": null,
      "outputs": [
        {
          "output_type": "stream",
          "text": [
            "10.99904767212102\n",
            "0.9938894125318564\n"
          ],
          "name": "stdout"
        }
      ]
    },
    {
      "cell_type": "markdown",
      "metadata": {
        "id": "9OpFzGQ7QDvo"
      },
      "source": [
        "## Preprocessing dates"
      ]
    },
    {
      "cell_type": "markdown",
      "metadata": {
        "id": "SpPGUb_SQDvo"
      },
      "source": [
        "Getting dates into numerical columns is a common operation when time series data is analyzed with non-parametric predictors. The code below makes the following transformations:\n",
        "\n",
        "- numerical columns for year (2011-2012), month (1-12), day of the month (1-31), day of the week (0-6), and week of the year (1-52)\n",
        "- number of days since 1970-01-01"
      ]
    },
    {
      "cell_type": "code",
      "metadata": {
        "id": "0v3f1DfBQDvo"
      },
      "source": [
        "# Make a copy of the original data to avoid writing on the original data\n",
        "X_encoded = X.copy()\n",
        "\n",
        "# following http://stackoverflow.com/questions/16453644/regression-with-date-variable-using-scikit-learn\n",
        "X_encoded['DateOfDeparture'] = pd.to_datetime(X_encoded['DateOfDeparture'])\n",
        "X_encoded['year'] = X_encoded['DateOfDeparture'].dt.year\n",
        "X_encoded['month'] = X_encoded['DateOfDeparture'].dt.month\n",
        "X_encoded['day'] = X_encoded['DateOfDeparture'].dt.day\n",
        "X_encoded['weekday'] = X_encoded['DateOfDeparture'].dt.weekday\n",
        "X_encoded['week'] = X_encoded['DateOfDeparture'].dt.isocalendar().week\n",
        "X_encoded['n_days'] = X_encoded['DateOfDeparture'].apply(lambda date: (date - pd.to_datetime(\"1970-01-01\")).days)"
      ],
      "execution_count": null,
      "outputs": []
    },
    {
      "cell_type": "code",
      "metadata": {
        "id": "jaDMDmqYQDvo",
        "outputId": "363ba237-6aeb-41fa-81a1-da9abeb3524f"
      },
      "source": [
        "X_encoded.tail(5)"
      ],
      "execution_count": null,
      "outputs": [
        {
          "output_type": "execute_result",
          "data": {
            "text/html": [
              "<div>\n",
              "<style scoped>\n",
              "    .dataframe tbody tr th:only-of-type {\n",
              "        vertical-align: middle;\n",
              "    }\n",
              "\n",
              "    .dataframe tbody tr th {\n",
              "        vertical-align: top;\n",
              "    }\n",
              "\n",
              "    .dataframe thead th {\n",
              "        text-align: right;\n",
              "    }\n",
              "</style>\n",
              "<table border=\"1\" class=\"dataframe\">\n",
              "  <thead>\n",
              "    <tr style=\"text-align: right;\">\n",
              "      <th></th>\n",
              "      <th>DateOfDeparture</th>\n",
              "      <th>Departure</th>\n",
              "      <th>Arrival</th>\n",
              "      <th>WeeksToDeparture</th>\n",
              "      <th>std_wtd</th>\n",
              "      <th>year</th>\n",
              "      <th>month</th>\n",
              "      <th>day</th>\n",
              "      <th>weekday</th>\n",
              "      <th>week</th>\n",
              "      <th>n_days</th>\n",
              "    </tr>\n",
              "  </thead>\n",
              "  <tbody>\n",
              "    <tr>\n",
              "      <th>8897</th>\n",
              "      <td>2011-10-02</td>\n",
              "      <td>DTW</td>\n",
              "      <td>ATL</td>\n",
              "      <td>9.263158</td>\n",
              "      <td>7.316967</td>\n",
              "      <td>2011</td>\n",
              "      <td>10</td>\n",
              "      <td>2</td>\n",
              "      <td>6</td>\n",
              "      <td>39</td>\n",
              "      <td>15249</td>\n",
              "    </tr>\n",
              "    <tr>\n",
              "      <th>8898</th>\n",
              "      <td>2012-09-25</td>\n",
              "      <td>DFW</td>\n",
              "      <td>ORD</td>\n",
              "      <td>12.772727</td>\n",
              "      <td>10.641034</td>\n",
              "      <td>2012</td>\n",
              "      <td>9</td>\n",
              "      <td>25</td>\n",
              "      <td>1</td>\n",
              "      <td>39</td>\n",
              "      <td>15608</td>\n",
              "    </tr>\n",
              "    <tr>\n",
              "      <th>8899</th>\n",
              "      <td>2012-01-19</td>\n",
              "      <td>SFO</td>\n",
              "      <td>LAS</td>\n",
              "      <td>11.047619</td>\n",
              "      <td>7.908705</td>\n",
              "      <td>2012</td>\n",
              "      <td>1</td>\n",
              "      <td>19</td>\n",
              "      <td>3</td>\n",
              "      <td>3</td>\n",
              "      <td>15358</td>\n",
              "    </tr>\n",
              "    <tr>\n",
              "      <th>8900</th>\n",
              "      <td>2013-02-03</td>\n",
              "      <td>ORD</td>\n",
              "      <td>PHL</td>\n",
              "      <td>6.076923</td>\n",
              "      <td>4.030334</td>\n",
              "      <td>2013</td>\n",
              "      <td>2</td>\n",
              "      <td>3</td>\n",
              "      <td>6</td>\n",
              "      <td>5</td>\n",
              "      <td>15739</td>\n",
              "    </tr>\n",
              "    <tr>\n",
              "      <th>8901</th>\n",
              "      <td>2011-11-26</td>\n",
              "      <td>DTW</td>\n",
              "      <td>ATL</td>\n",
              "      <td>9.526316</td>\n",
              "      <td>6.167733</td>\n",
              "      <td>2011</td>\n",
              "      <td>11</td>\n",
              "      <td>26</td>\n",
              "      <td>5</td>\n",
              "      <td>47</td>\n",
              "      <td>15304</td>\n",
              "    </tr>\n",
              "  </tbody>\n",
              "</table>\n",
              "</div>"
            ],
            "text/plain": [
              "     DateOfDeparture Departure Arrival  WeeksToDeparture    std_wtd  year  \\\n",
              "8897      2011-10-02       DTW     ATL          9.263158   7.316967  2011   \n",
              "8898      2012-09-25       DFW     ORD         12.772727  10.641034  2012   \n",
              "8899      2012-01-19       SFO     LAS         11.047619   7.908705  2012   \n",
              "8900      2013-02-03       ORD     PHL          6.076923   4.030334  2013   \n",
              "8901      2011-11-26       DTW     ATL          9.526316   6.167733  2011   \n",
              "\n",
              "      month  day  weekday  week  n_days  \n",
              "8897     10    2        6    39   15249  \n",
              "8898      9   25        1    39   15608  \n",
              "8899      1   19        3     3   15358  \n",
              "8900      2    3        6     5   15739  \n",
              "8901     11   26        5    47   15304  "
            ]
          },
          "metadata": {
            "tags": []
          },
          "execution_count": 21
        }
      ]
    },
    {
      "cell_type": "markdown",
      "metadata": {
        "id": "LZZM_nijQDvo"
      },
      "source": [
        "We will perform all preprocessing steps within a scikit-learn [pipeline](https://scikit-learn.org/stable/modules/compose.html) which chains together tranformation and estimator steps. This offers offers convenience and safety (help avoid leaking statistics from your test data into the trained model in cross-validation) and the whole pipeline can be evaluated with `cross_val_score`.\n",
        "\n",
        "To perform the above encoding within a scikit-learn [pipeline](https://scikit-learn.org/stable/modules/compose.html) we will a function and using `FunctionTransformer` to make it compatible with scikit-learn API."
      ]
    },
    {
      "cell_type": "code",
      "metadata": {
        "id": "KPQR23dFQDvo"
      },
      "source": [
        "from sklearn.preprocessing import FunctionTransformer\n",
        "import holidays\n",
        "\n",
        "def _encode_dates(X):\n",
        "    # With pandas < 1.0, we wil get a SettingWithCopyWarning\n",
        "    # In our case, we will avoid this warning by triggering a copy\n",
        "    # More information can be found at:\n",
        "    # https://github.com/scikit-learn/scikit-learn/issues/16191\n",
        "    X_encoded = X.copy()\n",
        "    us_holidays = holidays.US()\n",
        "    \n",
        "    # Make sure that DateOfDeparture is of datetime format\n",
        "    X_encoded.loc[:, 'DateOfDeparture'] = pd.to_datetime(X_encoded['DateOfDeparture'])\n",
        "    # Encode the DateOfDeparture\n",
        "    X_encoded.loc[:, 'year'] = X_encoded['DateOfDeparture'].dt.year\n",
        "    X_encoded.loc[:, 'month'] = X_encoded['DateOfDeparture'].dt.month\n",
        "    X_encoded.loc[:, 'day'] = X_encoded['DateOfDeparture'].dt.day\n",
        "    X_encoded.loc[:, 'weekday'] = X_encoded['DateOfDeparture'].dt.weekday\n",
        "    X_encoded.loc[:, 'week'] = X_encoded['DateOfDeparture'].dt.isocalendar().week\n",
        "    X_encoded.loc[:, 'n_days'] = X_encoded['DateOfDeparture'].apply(\n",
        "        lambda date: (date - pd.to_datetime(\"1970-01-01\")).days\n",
        "    )\n",
        "    X_encoded.loc[:, 'hol_days'] = X_encoded['DateOfDeparture'].apply(\n",
        "        lambda date: 1 if (date in holidays.US()) else 0)\n",
        "    # Once we did the encoding, we will not need DateOfDeparture\n",
        "    return X_encoded.drop(columns=[\"DateOfDeparture\"])\n",
        "\n",
        "date_encoder = FunctionTransformer(_encode_dates)"
      ],
      "execution_count": null,
      "outputs": []
    },
    {
      "cell_type": "code",
      "metadata": {
        "id": "zv2tmA9sQDvo"
      },
      "source": [
        "tmp = date_encoder.fit_transform(X)"
      ],
      "execution_count": null,
      "outputs": []
    },
    {
      "cell_type": "code",
      "metadata": {
        "id": "MqnaVEBWQDvo",
        "outputId": "75e7ae43-a726-456f-ce67-033c368f01f1"
      },
      "source": [
        "tmp[tmp[\"hol_days\"]==1]"
      ],
      "execution_count": null,
      "outputs": [
        {
          "output_type": "execute_result",
          "data": {
            "text/html": [
              "<div>\n",
              "<style scoped>\n",
              "    .dataframe tbody tr th:only-of-type {\n",
              "        vertical-align: middle;\n",
              "    }\n",
              "\n",
              "    .dataframe tbody tr th {\n",
              "        vertical-align: top;\n",
              "    }\n",
              "\n",
              "    .dataframe thead th {\n",
              "        text-align: right;\n",
              "    }\n",
              "</style>\n",
              "<table border=\"1\" class=\"dataframe\">\n",
              "  <thead>\n",
              "    <tr style=\"text-align: right;\">\n",
              "      <th></th>\n",
              "      <th>Departure</th>\n",
              "      <th>Arrival</th>\n",
              "      <th>WeeksToDeparture</th>\n",
              "      <th>std_wtd</th>\n",
              "      <th>year</th>\n",
              "      <th>month</th>\n",
              "      <th>day</th>\n",
              "      <th>weekday</th>\n",
              "      <th>week</th>\n",
              "      <th>n_days</th>\n",
              "      <th>hol_days</th>\n",
              "    </tr>\n",
              "  </thead>\n",
              "  <tbody>\n",
              "    <tr>\n",
              "      <th>24</th>\n",
              "      <td>EWR</td>\n",
              "      <td>BOS</td>\n",
              "      <td>11.000000</td>\n",
              "      <td>8.711759</td>\n",
              "      <td>2012</td>\n",
              "      <td>11</td>\n",
              "      <td>12</td>\n",
              "      <td>0</td>\n",
              "      <td>46</td>\n",
              "      <td>15656</td>\n",
              "      <td>1</td>\n",
              "    </tr>\n",
              "    <tr>\n",
              "      <th>54</th>\n",
              "      <td>EWR</td>\n",
              "      <td>LAX</td>\n",
              "      <td>12.818182</td>\n",
              "      <td>8.671993</td>\n",
              "      <td>2011</td>\n",
              "      <td>12</td>\n",
              "      <td>25</td>\n",
              "      <td>6</td>\n",
              "      <td>51</td>\n",
              "      <td>15333</td>\n",
              "      <td>1</td>\n",
              "    </tr>\n",
              "    <tr>\n",
              "      <th>68</th>\n",
              "      <td>DEN</td>\n",
              "      <td>LAX</td>\n",
              "      <td>15.034483</td>\n",
              "      <td>11.890821</td>\n",
              "      <td>2012</td>\n",
              "      <td>12</td>\n",
              "      <td>25</td>\n",
              "      <td>1</td>\n",
              "      <td>52</td>\n",
              "      <td>15699</td>\n",
              "      <td>1</td>\n",
              "    </tr>\n",
              "    <tr>\n",
              "      <th>77</th>\n",
              "      <td>DEN</td>\n",
              "      <td>ORD</td>\n",
              "      <td>9.631579</td>\n",
              "      <td>7.158604</td>\n",
              "      <td>2013</td>\n",
              "      <td>1</td>\n",
              "      <td>21</td>\n",
              "      <td>0</td>\n",
              "      <td>4</td>\n",
              "      <td>15726</td>\n",
              "      <td>1</td>\n",
              "    </tr>\n",
              "    <tr>\n",
              "      <th>119</th>\n",
              "      <td>DEN</td>\n",
              "      <td>ORD</td>\n",
              "      <td>10.176471</td>\n",
              "      <td>7.307832</td>\n",
              "      <td>2011</td>\n",
              "      <td>11</td>\n",
              "      <td>24</td>\n",
              "      <td>3</td>\n",
              "      <td>47</td>\n",
              "      <td>15302</td>\n",
              "      <td>1</td>\n",
              "    </tr>\n",
              "    <tr>\n",
              "      <th>...</th>\n",
              "      <td>...</td>\n",
              "      <td>...</td>\n",
              "      <td>...</td>\n",
              "      <td>...</td>\n",
              "      <td>...</td>\n",
              "      <td>...</td>\n",
              "      <td>...</td>\n",
              "      <td>...</td>\n",
              "      <td>...</td>\n",
              "      <td>...</td>\n",
              "      <td>...</td>\n",
              "    </tr>\n",
              "    <tr>\n",
              "      <th>8817</th>\n",
              "      <td>JFK</td>\n",
              "      <td>MIA</td>\n",
              "      <td>15.733333</td>\n",
              "      <td>12.564134</td>\n",
              "      <td>2011</td>\n",
              "      <td>12</td>\n",
              "      <td>25</td>\n",
              "      <td>6</td>\n",
              "      <td>51</td>\n",
              "      <td>15333</td>\n",
              "      <td>1</td>\n",
              "    </tr>\n",
              "    <tr>\n",
              "      <th>8819</th>\n",
              "      <td>SFO</td>\n",
              "      <td>JFK</td>\n",
              "      <td>16.096774</td>\n",
              "      <td>11.249755</td>\n",
              "      <td>2012</td>\n",
              "      <td>5</td>\n",
              "      <td>28</td>\n",
              "      <td>0</td>\n",
              "      <td>22</td>\n",
              "      <td>15488</td>\n",
              "      <td>1</td>\n",
              "    </tr>\n",
              "    <tr>\n",
              "      <th>8843</th>\n",
              "      <td>SFO</td>\n",
              "      <td>LAX</td>\n",
              "      <td>17.705882</td>\n",
              "      <td>11.645078</td>\n",
              "      <td>2012</td>\n",
              "      <td>12</td>\n",
              "      <td>25</td>\n",
              "      <td>1</td>\n",
              "      <td>52</td>\n",
              "      <td>15699</td>\n",
              "      <td>1</td>\n",
              "    </tr>\n",
              "    <tr>\n",
              "      <th>8844</th>\n",
              "      <td>MCO</td>\n",
              "      <td>PHL</td>\n",
              "      <td>9.526316</td>\n",
              "      <td>6.432283</td>\n",
              "      <td>2011</td>\n",
              "      <td>12</td>\n",
              "      <td>25</td>\n",
              "      <td>6</td>\n",
              "      <td>51</td>\n",
              "      <td>15333</td>\n",
              "      <td>1</td>\n",
              "    </tr>\n",
              "    <tr>\n",
              "      <th>8857</th>\n",
              "      <td>PHX</td>\n",
              "      <td>ORD</td>\n",
              "      <td>8.888889</td>\n",
              "      <td>6.182412</td>\n",
              "      <td>2011</td>\n",
              "      <td>10</td>\n",
              "      <td>10</td>\n",
              "      <td>0</td>\n",
              "      <td>41</td>\n",
              "      <td>15257</td>\n",
              "      <td>1</td>\n",
              "    </tr>\n",
              "  </tbody>\n",
              "</table>\n",
              "<p>363 rows × 11 columns</p>\n",
              "</div>"
            ],
            "text/plain": [
              "     Departure Arrival  WeeksToDeparture    std_wtd  year  month  day  \\\n",
              "24         EWR     BOS         11.000000   8.711759  2012     11   12   \n",
              "54         EWR     LAX         12.818182   8.671993  2011     12   25   \n",
              "68         DEN     LAX         15.034483  11.890821  2012     12   25   \n",
              "77         DEN     ORD          9.631579   7.158604  2013      1   21   \n",
              "119        DEN     ORD         10.176471   7.307832  2011     11   24   \n",
              "...        ...     ...               ...        ...   ...    ...  ...   \n",
              "8817       JFK     MIA         15.733333  12.564134  2011     12   25   \n",
              "8819       SFO     JFK         16.096774  11.249755  2012      5   28   \n",
              "8843       SFO     LAX         17.705882  11.645078  2012     12   25   \n",
              "8844       MCO     PHL          9.526316   6.432283  2011     12   25   \n",
              "8857       PHX     ORD          8.888889   6.182412  2011     10   10   \n",
              "\n",
              "      weekday  week  n_days  hol_days  \n",
              "24          0    46   15656         1  \n",
              "54          6    51   15333         1  \n",
              "68          1    52   15699         1  \n",
              "77          0     4   15726         1  \n",
              "119         3    47   15302         1  \n",
              "...       ...   ...     ...       ...  \n",
              "8817        6    51   15333         1  \n",
              "8819        0    22   15488         1  \n",
              "8843        1    52   15699         1  \n",
              "8844        6    51   15333         1  \n",
              "8857        0    41   15257         1  \n",
              "\n",
              "[363 rows x 11 columns]"
            ]
          },
          "metadata": {
            "tags": []
          },
          "execution_count": 25
        }
      ]
    },
    {
      "cell_type": "markdown",
      "metadata": {
        "id": "W2GWGCyAQDvo"
      },
      "source": [
        "## Random Forests"
      ]
    },
    {
      "cell_type": "markdown",
      "metadata": {
        "id": "PoeNMaBUQDvo"
      },
      "source": [
        "Tree-based algorithms requires less complex preprocessing than linear-models. We will first present a machine-learning pipeline where we will use a random forest. In this pipeline, we will need to:\n",
        "\n",
        "- encode the date to numerical values (as presented in the section above);\n",
        "- oridinal encode the other categorical values to get numerical number;\n",
        "- keep numerical features as they are.\n",
        "\n",
        "Thus, we want to perform three different processes on different columns of the original data `X`. In scikit-learn, we can use [`make_column_transformer`](https://scikit-learn.org/stable/modules/generated/sklearn.compose.make_column_transformer.html) to perform such processing."
      ]
    },
    {
      "cell_type": "code",
      "metadata": {
        "id": "wLVdYRZ-QDvo"
      },
      "source": [
        "from sklearn.preprocessing import OrdinalEncoder\n",
        "from sklearn.compose import make_column_transformer\n",
        "\n",
        "categorical_encoder = OrdinalEncoder()\n",
        "categorical_cols = [\"Arrival\", \"Departure\"]\n",
        "\n",
        "preprocessor = make_column_transformer(\n",
        "    (categorical_encoder, categorical_cols),\n",
        "    remainder='passthrough',  # passthrough numerical columns as they are\n",
        ")"
      ],
      "execution_count": null,
      "outputs": []
    },
    {
      "cell_type": "markdown",
      "metadata": {
        "id": "Nb-UbLO4QDvo"
      },
      "source": [
        "We can combine our preprocessor with an estimator (`RandomForestRegressor` in this case), allowing us to make predictions."
      ]
    },
    {
      "cell_type": "code",
      "metadata": {
        "id": "E77tt4bfQDvo"
      },
      "source": [
        "from sklearn.ensemble import RandomForestRegressor\n",
        "from sklearn.pipeline import make_pipeline\n",
        "\n",
        "n_estimators = 10\n",
        "max_depth = 10\n",
        "max_features = 10\n",
        "\n",
        "regressor = RandomForestRegressor(\n",
        "    n_estimators=n_estimators, max_depth=max_depth, max_features=max_features#,min_samples_leaf=5\n",
        ")\n",
        "\n",
        "pipeline = make_pipeline(date_encoder, preprocessor, regressor)"
      ],
      "execution_count": null,
      "outputs": []
    },
    {
      "cell_type": "markdown",
      "metadata": {
        "id": "qNrWke6tQDvo"
      },
      "source": [
        "We can cross-validate our `pipeline` using `cross_val_score`. Below we will have specified `cv=5` meaning KFold cross-valdiation splitting will be used, with 8 folds. The mean squared error regression loss is calculated for each split. The output `score` will be an array of 5 scores from each KFold. The score mean and standard deviation of the 5 scores is printed at the end."
      ]
    },
    {
      "cell_type": "code",
      "metadata": {
        "id": "brBJcnj4QDvo",
        "outputId": "feb56505-2c8f-4acb-b641-ca2ef54c0359"
      },
      "source": [
        "from sklearn.model_selection import cross_val_score\n",
        "\n",
        "scores = cross_val_score(\n",
        "    pipeline, X, y, cv=5, scoring='neg_mean_squared_error'\n",
        ")\n",
        "rmse_scores = np.sqrt(-scores)\n",
        "\n",
        "print(\n",
        "    f\"RMSE: {np.mean(rmse_scores):.4f} +/- {np.std(rmse_scores):.4f}\"\n",
        ")"
      ],
      "execution_count": null,
      "outputs": [
        {
          "output_type": "stream",
          "text": [
            "RMSE: 0.6283 +/- 0.0250\n"
          ],
          "name": "stdout"
        }
      ]
    },
    {
      "cell_type": "code",
      "metadata": {
        "id": "_wVMgsqIQDvo"
      },
      "source": [
        "#!ramp-test --submission starting_kit"
      ],
      "execution_count": null,
      "outputs": []
    },
    {
      "cell_type": "markdown",
      "metadata": {
        "id": "eB9yU78BQDvo"
      },
      "source": [
        "## Linear regressor\n",
        "\n",
        "When dealing with a linear model, we need to one-hot encode categorical variables instead of ordinal encoding and standardize numerical variables. Thus we will:\n",
        "\n",
        "- encode the date;\n",
        "- then, one-hot encode all categorical columns, including the encoded date as well;\n",
        "- standardize the numerical columns."
      ]
    },
    {
      "cell_type": "code",
      "metadata": {
        "id": "QSPD2yeIQDvo"
      },
      "source": [
        "from sklearn.preprocessing import OneHotEncoder\n",
        "from sklearn.preprocessing import StandardScaler\n",
        "\n",
        "categorical_encoder = OneHotEncoder(handle_unknown=\"ignore\")\n",
        "categorical_cols = [\n",
        "    \"Arrival\", \"Departure\", \"year\", \"month\", \"day\",\n",
        "    \"weekday\", \"week\", \"n_days\"\n",
        "]\n",
        "\n",
        "numerical_scaler = StandardScaler()\n",
        "numerical_cols = [\"WeeksToDeparture\", \"std_wtd\"]\n",
        "\n",
        "preprocessor = make_column_transformer(\n",
        "    (categorical_encoder, categorical_cols),\n",
        "    (numerical_scaler, numerical_cols)\n",
        ")"
      ],
      "execution_count": null,
      "outputs": []
    },
    {
      "cell_type": "markdown",
      "metadata": {
        "id": "05Wqmuf6QDvo"
      },
      "source": [
        "We can now combine our `preprocessor` with the `LinearRegression` estimator in a `Pipeline`:"
      ]
    },
    {
      "cell_type": "code",
      "metadata": {
        "id": "ehJJ03BdQDvo"
      },
      "source": [
        "from sklearn.linear_model import LinearRegression\n",
        "\n",
        "regressor = LinearRegression()\n",
        "\n",
        "pipeline = make_pipeline(date_encoder, preprocessor, regressor)"
      ],
      "execution_count": null,
      "outputs": []
    },
    {
      "cell_type": "markdown",
      "metadata": {
        "id": "MoM5q6ZYQDvo"
      },
      "source": [
        "And we can evaluate our linear-model pipeline:"
      ]
    },
    {
      "cell_type": "code",
      "metadata": {
        "id": "AVjuAEdtQDvo",
        "outputId": "ae455b4f-d741-4812-9af4-4b8e4ec08b5d"
      },
      "source": [
        "scores = cross_val_score(\n",
        "    pipeline, X, y, cv=5, scoring='neg_mean_squared_error'\n",
        ")\n",
        "rmse_scores = np.sqrt(-scores)\n",
        "\n",
        "print(\n",
        "    f\"RMSE: {np.mean(rmse_scores):.4f} +/- {np.std(rmse_scores):.4f}\"\n",
        ")"
      ],
      "execution_count": null,
      "outputs": [
        {
          "output_type": "stream",
          "text": [
            "RMSE: 0.6117 +/- 0.0149\n"
          ],
          "name": "stdout"
        }
      ]
    },
    {
      "cell_type": "markdown",
      "metadata": {
        "id": "4nUQsrhbQDvo"
      },
      "source": [
        "### Test grid search and Lasso"
      ]
    },
    {
      "cell_type": "code",
      "metadata": {
        "id": "p3GKarZ5QDvo"
      },
      "source": [
        "from sklearn.linear_model import Lasso\n",
        "from sklearn.model_selection import GridSearchCV, train_test_split\n",
        "lasso=Lasso()\n",
        "pipL = make_pipeline( date_encoder, preprocessor, lasso)\n",
        "pipL_gs = GridSearchCV(\n",
        "    pipL,\n",
        "    {\"lasso__alpha\":[0.00001, 0.0001, 0.01]}\n",
        ")\n",
        "X_train, X_test, y_train, y_test = train_test_split(X,y,test_size=.10)\n",
        "pipL_gs.fit(X_train, y_train)"
      ],
      "execution_count": null,
      "outputs": []
    },
    {
      "cell_type": "code",
      "metadata": {
        "id": "M_epPk2NQDvo"
      },
      "source": [
        "lasso=Lasso()\n",
        "pipL = make_pipeline( date_encoder, preprocessor, lasso)\n",
        "pipL_gs = GridSearchCV(\n",
        "    pipL,\n",
        "    {\"lasso__alpha\":[0.00001, 0.0001, 0.01]}\n",
        ")"
      ],
      "execution_count": null,
      "outputs": []
    },
    {
      "cell_type": "code",
      "metadata": {
        "id": "QMjqiDCPQDvo"
      },
      "source": [
        "X_train, X_test, y_train, y_test = train_test_split(X,y,test_size=.10)"
      ],
      "execution_count": null,
      "outputs": []
    },
    {
      "cell_type": "code",
      "metadata": {
        "id": "7JzTwaq8QDvo",
        "outputId": "e15bd89e-ed2b-4c48-96b9-bb24926b1a8f"
      },
      "source": [
        "pipL_gs.fit(X_train, y_train)"
      ],
      "execution_count": null,
      "outputs": [
        {
          "output_type": "stream",
          "text": [
            "/home/peter/anaconda3/lib/python3.8/site-packages/sklearn/linear_model/_coordinate_descent.py:512: ConvergenceWarning: Objective did not converge. You might want to increase the number of iterations. Duality gap: 320.22821354759185, tolerance: 0.6387185401787862\n",
            "  model = cd_fast.sparse_enet_coordinate_descent(\n",
            "/home/peter/anaconda3/lib/python3.8/site-packages/sklearn/linear_model/_coordinate_descent.py:512: ConvergenceWarning: Objective did not converge. You might want to increase the number of iterations. Duality gap: 331.01463346245384, tolerance: 0.6371123962129355\n",
            "  model = cd_fast.sparse_enet_coordinate_descent(\n",
            "/home/peter/anaconda3/lib/python3.8/site-packages/sklearn/linear_model/_coordinate_descent.py:512: ConvergenceWarning: Objective did not converge. You might want to increase the number of iterations. Duality gap: 316.01636597892013, tolerance: 0.6285972686841081\n",
            "  model = cd_fast.sparse_enet_coordinate_descent(\n",
            "/home/peter/anaconda3/lib/python3.8/site-packages/sklearn/linear_model/_coordinate_descent.py:512: ConvergenceWarning: Objective did not converge. You might want to increase the number of iterations. Duality gap: 319.04254662657195, tolerance: 0.6494295581882294\n",
            "  model = cd_fast.sparse_enet_coordinate_descent(\n",
            "/home/peter/anaconda3/lib/python3.8/site-packages/sklearn/linear_model/_coordinate_descent.py:512: ConvergenceWarning: Objective did not converge. You might want to increase the number of iterations. Duality gap: 319.1290676773982, tolerance: 0.6395733622019132\n",
            "  model = cd_fast.sparse_enet_coordinate_descent(\n",
            "/home/peter/anaconda3/lib/python3.8/site-packages/sklearn/linear_model/_coordinate_descent.py:512: ConvergenceWarning: Objective did not converge. You might want to increase the number of iterations. Duality gap: 14.942635417884276, tolerance: 0.6371123962129355\n",
            "  model = cd_fast.sparse_enet_coordinate_descent(\n"
          ],
          "name": "stderr"
        },
        {
          "output_type": "execute_result",
          "data": {
            "text/plain": [
              "GridSearchCV(estimator=Pipeline(steps=[('functiontransformer',\n",
              "                                        FunctionTransformer(func=<function _encode_dates at 0x7fec3149caf0>)),\n",
              "                                       ('columntransformer',\n",
              "                                        ColumnTransformer(transformers=[('onehotencoder',\n",
              "                                                                         OneHotEncoder(handle_unknown='ignore'),\n",
              "                                                                         ['Arrival',\n",
              "                                                                          'Departure',\n",
              "                                                                          'year',\n",
              "                                                                          'month',\n",
              "                                                                          'day',\n",
              "                                                                          'weekday',\n",
              "                                                                          'week',\n",
              "                                                                          'n_days']),\n",
              "                                                                        ('standardscaler',\n",
              "                                                                         StandardScaler(),\n",
              "                                                                         ['WeeksToDeparture',\n",
              "                                                                          'std_wtd'])])),\n",
              "                                       ('lasso', Lasso())]),\n",
              "             param_grid={'lasso__alpha': [1e-05, 0.0001, 0.01]})"
            ]
          },
          "metadata": {
            "tags": []
          },
          "execution_count": 36
        }
      ]
    },
    {
      "cell_type": "code",
      "metadata": {
        "id": "PmgChpThQDvo",
        "outputId": "0275ae40-1a98-4d54-87be-796986c1242a"
      },
      "source": [
        "pipL_gs.best_params_"
      ],
      "execution_count": null,
      "outputs": [
        {
          "output_type": "execute_result",
          "data": {
            "text/plain": [
              "{'lasso__alpha': 0.0001}"
            ]
          },
          "metadata": {
            "tags": []
          },
          "execution_count": 37
        }
      ]
    },
    {
      "cell_type": "code",
      "metadata": {
        "id": "jJ4uxR2pQDvo",
        "outputId": "22b19529-4f3a-48cf-b4dd-722867e67bf9"
      },
      "source": [
        "pipL_gs.best_estimator_.steps[-1][1].alpha"
      ],
      "execution_count": null,
      "outputs": [
        {
          "output_type": "execute_result",
          "data": {
            "text/plain": [
              "0.0001"
            ]
          },
          "metadata": {
            "tags": []
          },
          "execution_count": 38
        }
      ]
    },
    {
      "cell_type": "code",
      "metadata": {
        "id": "b6rI0JSaQDvp",
        "outputId": "19b030cf-57a6-4f2b-f710-29e5b0eb2b59"
      },
      "source": [
        "pipL_gs.cv_results_"
      ],
      "execution_count": null,
      "outputs": [
        {
          "output_type": "execute_result",
          "data": {
            "text/plain": [
              "{'mean_fit_time': array([7.13713937, 6.03071251, 1.12473645]),\n",
              " 'std_fit_time': array([0.03533106, 0.28460367, 0.01887271]),\n",
              " 'mean_score_time': array([0.25607538, 0.2563077 , 0.25720119]),\n",
              " 'std_score_time': array([0.0008828 , 0.00213678, 0.00135228]),\n",
              " 'param_lasso__alpha': masked_array(data=[1e-05, 0.0001, 0.01],\n",
              "              mask=[False, False, False],\n",
              "        fill_value='?',\n",
              "             dtype=object),\n",
              " 'params': [{'lasso__alpha': 1e-05},\n",
              "  {'lasso__alpha': 0.0001},\n",
              "  {'lasso__alpha': 0.01}],\n",
              " 'split0_test_score': array([0.62011337, 0.62706323, 0.41771701]),\n",
              " 'split1_test_score': array([0.64666052, 0.65529856, 0.46811574]),\n",
              " 'split2_test_score': array([0.60801378, 0.61410272, 0.42689959]),\n",
              " 'split3_test_score': array([0.60262507, 0.61203399, 0.43874222]),\n",
              " 'split4_test_score': array([0.61859979, 0.62804545, 0.44002117]),\n",
              " 'mean_test_score': array([0.61920251, 0.62730879, 0.43829915]),\n",
              " 'std_test_score': array([0.01519957, 0.01543859, 0.0170045 ]),\n",
              " 'rank_test_score': array([2, 1, 3], dtype=int32)}"
            ]
          },
          "metadata": {
            "tags": []
          },
          "execution_count": 39
        }
      ]
    },
    {
      "cell_type": "code",
      "metadata": {
        "id": "E7zd8cirQDvp"
      },
      "source": [
        "#!ramp-test --submission starting_kit_lin"
      ],
      "execution_count": null,
      "outputs": []
    },
    {
      "cell_type": "code",
      "metadata": {
        "id": "oztJAuOcQDvp"
      },
      "source": [
        "#!ramp-test --submission starting_kit_Ridge"
      ],
      "execution_count": null,
      "outputs": []
    },
    {
      "cell_type": "markdown",
      "metadata": {
        "id": "wvkONZwIQDvp"
      },
      "source": [
        "# Merging external data"
      ]
    },
    {
      "cell_type": "markdown",
      "metadata": {
        "id": "ow51I0kpQDvp"
      },
      "source": [
        "The objective in this RAMP data challenge is to find good data that can be correlated to flight traffic. We will use some weather data (saved in `submissions/starting_kit`) to provide an example of how to merge external data in a scikit-learn pipeline.\n",
        "\n",
        "Your external data will need to be included in your submissions folder - see [RAMP submissions](#RAMP-submissions) for more details.\n",
        "\n",
        "First we will define a function that merges the external data to our feature data."
      ]
    },
    {
      "cell_type": "code",
      "metadata": {
        "id": "5SIkB3FjQDvp",
        "outputId": "a1540af1-5727-42a7-b14d-f68efe12868d"
      },
      "source": [
        "# when submitting a kit, the `__file__` variable will corresponds to the\n",
        "# path to `estimator.py`. However, this variable is not defined in the\n",
        "# notebook and thus we must define the `__file__` variable to imitate\n",
        "# how a submission `.py` would work.\n",
        "__file__ = os.path.join('submissions', 'starting_kit', 'estimator.py')\n",
        "filepath = os.path.join(os.path.dirname(__file__), 'external_data.csv')\n",
        "filepath"
      ],
      "execution_count": null,
      "outputs": [
        {
          "output_type": "execute_result",
          "data": {
            "text/plain": [
              "'submissions/starting_kit/external_data.csv'"
            ]
          },
          "metadata": {
            "tags": []
          },
          "execution_count": 42
        }
      ]
    },
    {
      "cell_type": "code",
      "metadata": {
        "id": "0h0guGV-QDvp",
        "outputId": "8b640c3a-015b-4165-a89a-cd9ac4117595"
      },
      "source": [
        "pd.read_csv(filepath).tail(20)"
      ],
      "execution_count": null,
      "outputs": [
        {
          "output_type": "execute_result",
          "data": {
            "text/html": [
              "<div>\n",
              "<style scoped>\n",
              "    .dataframe tbody tr th:only-of-type {\n",
              "        vertical-align: middle;\n",
              "    }\n",
              "\n",
              "    .dataframe tbody tr th {\n",
              "        vertical-align: top;\n",
              "    }\n",
              "\n",
              "    .dataframe thead th {\n",
              "        text-align: right;\n",
              "    }\n",
              "</style>\n",
              "<table border=\"1\" class=\"dataframe\">\n",
              "  <thead>\n",
              "    <tr style=\"text-align: right;\">\n",
              "      <th></th>\n",
              "      <th>Date</th>\n",
              "      <th>AirPort</th>\n",
              "      <th>Max TemperatureC</th>\n",
              "      <th>Mean TemperatureC</th>\n",
              "      <th>Min TemperatureC</th>\n",
              "      <th>Dew PointC</th>\n",
              "      <th>MeanDew PointC</th>\n",
              "      <th>Min DewpointC</th>\n",
              "      <th>Max Humidity</th>\n",
              "      <th>Mean Humidity</th>\n",
              "      <th>Min Humidity</th>\n",
              "      <th>Max Sea Level PressurehPa</th>\n",
              "      <th>Mean Sea Level PressurehPa</th>\n",
              "      <th>Min Sea Level PressurehPa</th>\n",
              "      <th>Max VisibilityKm</th>\n",
              "      <th>Mean VisibilityKm</th>\n",
              "      <th>Min VisibilitykM</th>\n",
              "      <th>Max Wind SpeedKm/h</th>\n",
              "      <th>Mean Wind SpeedKm/h</th>\n",
              "      <th>Max Gust SpeedKm/h</th>\n",
              "      <th>Precipitationmm</th>\n",
              "      <th>CloudCover</th>\n",
              "      <th>Events</th>\n",
              "      <th>WindDirDegrees</th>\n",
              "    </tr>\n",
              "  </thead>\n",
              "  <tbody>\n",
              "    <tr>\n",
              "      <th>11020</th>\n",
              "      <td>2013-02-14</td>\n",
              "      <td>LGA</td>\n",
              "      <td>8</td>\n",
              "      <td>4</td>\n",
              "      <td>1</td>\n",
              "      <td>1</td>\n",
              "      <td>-2</td>\n",
              "      <td>-6</td>\n",
              "      <td>82</td>\n",
              "      <td>60</td>\n",
              "      <td>37</td>\n",
              "      <td>1016</td>\n",
              "      <td>1012</td>\n",
              "      <td>1006</td>\n",
              "      <td>16</td>\n",
              "      <td>16</td>\n",
              "      <td>10</td>\n",
              "      <td>26</td>\n",
              "      <td>13</td>\n",
              "      <td>29.0</td>\n",
              "      <td>T</td>\n",
              "      <td>4</td>\n",
              "      <td>Rain-Snow</td>\n",
              "      <td>295</td>\n",
              "    </tr>\n",
              "    <tr>\n",
              "      <th>11021</th>\n",
              "      <td>2013-02-15</td>\n",
              "      <td>LGA</td>\n",
              "      <td>12</td>\n",
              "      <td>7</td>\n",
              "      <td>3</td>\n",
              "      <td>2</td>\n",
              "      <td>0</td>\n",
              "      <td>-3</td>\n",
              "      <td>76</td>\n",
              "      <td>60</td>\n",
              "      <td>44</td>\n",
              "      <td>1016</td>\n",
              "      <td>1015</td>\n",
              "      <td>1013</td>\n",
              "      <td>16</td>\n",
              "      <td>15</td>\n",
              "      <td>11</td>\n",
              "      <td>37</td>\n",
              "      <td>13</td>\n",
              "      <td>42.0</td>\n",
              "      <td>0.00</td>\n",
              "      <td>4</td>\n",
              "      <td>NaN</td>\n",
              "      <td>210</td>\n",
              "    </tr>\n",
              "    <tr>\n",
              "      <th>11022</th>\n",
              "      <td>2013-02-16</td>\n",
              "      <td>LGA</td>\n",
              "      <td>6</td>\n",
              "      <td>3</td>\n",
              "      <td>0</td>\n",
              "      <td>1</td>\n",
              "      <td>-4</td>\n",
              "      <td>-10</td>\n",
              "      <td>82</td>\n",
              "      <td>64</td>\n",
              "      <td>45</td>\n",
              "      <td>1014</td>\n",
              "      <td>1012</td>\n",
              "      <td>1007</td>\n",
              "      <td>16</td>\n",
              "      <td>16</td>\n",
              "      <td>13</td>\n",
              "      <td>39</td>\n",
              "      <td>20</td>\n",
              "      <td>52.0</td>\n",
              "      <td>0.51</td>\n",
              "      <td>8</td>\n",
              "      <td>Rain-Snow</td>\n",
              "      <td>2</td>\n",
              "    </tr>\n",
              "    <tr>\n",
              "      <th>11023</th>\n",
              "      <td>2013-02-17</td>\n",
              "      <td>LGA</td>\n",
              "      <td>0</td>\n",
              "      <td>-3</td>\n",
              "      <td>-7</td>\n",
              "      <td>-11</td>\n",
              "      <td>-14</td>\n",
              "      <td>-17</td>\n",
              "      <td>49</td>\n",
              "      <td>40</td>\n",
              "      <td>31</td>\n",
              "      <td>1016</td>\n",
              "      <td>1008</td>\n",
              "      <td>1004</td>\n",
              "      <td>16</td>\n",
              "      <td>16</td>\n",
              "      <td>16</td>\n",
              "      <td>58</td>\n",
              "      <td>40</td>\n",
              "      <td>72.0</td>\n",
              "      <td>0.00</td>\n",
              "      <td>5</td>\n",
              "      <td>NaN</td>\n",
              "      <td>321</td>\n",
              "    </tr>\n",
              "    <tr>\n",
              "      <th>11024</th>\n",
              "      <td>2013-02-18</td>\n",
              "      <td>LGA</td>\n",
              "      <td>2</td>\n",
              "      <td>-2</td>\n",
              "      <td>-7</td>\n",
              "      <td>-12</td>\n",
              "      <td>-15</td>\n",
              "      <td>-17</td>\n",
              "      <td>51</td>\n",
              "      <td>39</td>\n",
              "      <td>26</td>\n",
              "      <td>1024</td>\n",
              "      <td>1022</td>\n",
              "      <td>1016</td>\n",
              "      <td>16</td>\n",
              "      <td>16</td>\n",
              "      <td>16</td>\n",
              "      <td>50</td>\n",
              "      <td>26</td>\n",
              "      <td>64.0</td>\n",
              "      <td>0.00</td>\n",
              "      <td>1</td>\n",
              "      <td>NaN</td>\n",
              "      <td>278</td>\n",
              "    </tr>\n",
              "    <tr>\n",
              "      <th>11025</th>\n",
              "      <td>2013-02-19</td>\n",
              "      <td>LGA</td>\n",
              "      <td>8</td>\n",
              "      <td>4</td>\n",
              "      <td>1</td>\n",
              "      <td>5</td>\n",
              "      <td>-2</td>\n",
              "      <td>-12</td>\n",
              "      <td>89</td>\n",
              "      <td>62</td>\n",
              "      <td>35</td>\n",
              "      <td>1023</td>\n",
              "      <td>1012</td>\n",
              "      <td>1005</td>\n",
              "      <td>16</td>\n",
              "      <td>15</td>\n",
              "      <td>6</td>\n",
              "      <td>40</td>\n",
              "      <td>18</td>\n",
              "      <td>56.0</td>\n",
              "      <td>4.06</td>\n",
              "      <td>6</td>\n",
              "      <td>Rain</td>\n",
              "      <td>195</td>\n",
              "    </tr>\n",
              "    <tr>\n",
              "      <th>11026</th>\n",
              "      <td>2013-02-20</td>\n",
              "      <td>LGA</td>\n",
              "      <td>4</td>\n",
              "      <td>1</td>\n",
              "      <td>-3</td>\n",
              "      <td>-7</td>\n",
              "      <td>-11</td>\n",
              "      <td>-14</td>\n",
              "      <td>52</td>\n",
              "      <td>43</td>\n",
              "      <td>33</td>\n",
              "      <td>1015</td>\n",
              "      <td>1011</td>\n",
              "      <td>1006</td>\n",
              "      <td>16</td>\n",
              "      <td>16</td>\n",
              "      <td>16</td>\n",
              "      <td>50</td>\n",
              "      <td>33</td>\n",
              "      <td>64.0</td>\n",
              "      <td>0.00</td>\n",
              "      <td>4</td>\n",
              "      <td>NaN</td>\n",
              "      <td>284</td>\n",
              "    </tr>\n",
              "    <tr>\n",
              "      <th>11027</th>\n",
              "      <td>2013-02-21</td>\n",
              "      <td>LGA</td>\n",
              "      <td>2</td>\n",
              "      <td>-1</td>\n",
              "      <td>-4</td>\n",
              "      <td>-10</td>\n",
              "      <td>-11</td>\n",
              "      <td>-13</td>\n",
              "      <td>55</td>\n",
              "      <td>48</td>\n",
              "      <td>41</td>\n",
              "      <td>1025</td>\n",
              "      <td>1018</td>\n",
              "      <td>1015</td>\n",
              "      <td>16</td>\n",
              "      <td>16</td>\n",
              "      <td>16</td>\n",
              "      <td>50</td>\n",
              "      <td>32</td>\n",
              "      <td>64.0</td>\n",
              "      <td>0.00</td>\n",
              "      <td>2</td>\n",
              "      <td>NaN</td>\n",
              "      <td>306</td>\n",
              "    </tr>\n",
              "    <tr>\n",
              "      <th>11028</th>\n",
              "      <td>2013-02-22</td>\n",
              "      <td>LGA</td>\n",
              "      <td>4</td>\n",
              "      <td>1</td>\n",
              "      <td>-3</td>\n",
              "      <td>-1</td>\n",
              "      <td>-7</td>\n",
              "      <td>-9</td>\n",
              "      <td>70</td>\n",
              "      <td>63</td>\n",
              "      <td>56</td>\n",
              "      <td>1029</td>\n",
              "      <td>1027</td>\n",
              "      <td>1025</td>\n",
              "      <td>16</td>\n",
              "      <td>16</td>\n",
              "      <td>16</td>\n",
              "      <td>29</td>\n",
              "      <td>14</td>\n",
              "      <td>39.0</td>\n",
              "      <td>T</td>\n",
              "      <td>6</td>\n",
              "      <td>NaN</td>\n",
              "      <td>50</td>\n",
              "    </tr>\n",
              "    <tr>\n",
              "      <th>11029</th>\n",
              "      <td>2013-02-23</td>\n",
              "      <td>LGA</td>\n",
              "      <td>4</td>\n",
              "      <td>3</td>\n",
              "      <td>2</td>\n",
              "      <td>2</td>\n",
              "      <td>1</td>\n",
              "      <td>-1</td>\n",
              "      <td>92</td>\n",
              "      <td>84</td>\n",
              "      <td>76</td>\n",
              "      <td>1025</td>\n",
              "      <td>1017</td>\n",
              "      <td>1009</td>\n",
              "      <td>16</td>\n",
              "      <td>7</td>\n",
              "      <td>0</td>\n",
              "      <td>34</td>\n",
              "      <td>18</td>\n",
              "      <td>42.0</td>\n",
              "      <td>6.86</td>\n",
              "      <td>8</td>\n",
              "      <td>Rain</td>\n",
              "      <td>53</td>\n",
              "    </tr>\n",
              "    <tr>\n",
              "      <th>11030</th>\n",
              "      <td>2013-02-24</td>\n",
              "      <td>LGA</td>\n",
              "      <td>8</td>\n",
              "      <td>5</td>\n",
              "      <td>2</td>\n",
              "      <td>2</td>\n",
              "      <td>-1</td>\n",
              "      <td>-6</td>\n",
              "      <td>92</td>\n",
              "      <td>73</td>\n",
              "      <td>53</td>\n",
              "      <td>1014</td>\n",
              "      <td>1009</td>\n",
              "      <td>1007</td>\n",
              "      <td>16</td>\n",
              "      <td>14</td>\n",
              "      <td>5</td>\n",
              "      <td>45</td>\n",
              "      <td>22</td>\n",
              "      <td>56.0</td>\n",
              "      <td>0.76</td>\n",
              "      <td>7</td>\n",
              "      <td>Rain-Snow</td>\n",
              "      <td>327</td>\n",
              "    </tr>\n",
              "    <tr>\n",
              "      <th>11031</th>\n",
              "      <td>2013-02-25</td>\n",
              "      <td>LGA</td>\n",
              "      <td>7</td>\n",
              "      <td>4</td>\n",
              "      <td>1</td>\n",
              "      <td>-2</td>\n",
              "      <td>-4</td>\n",
              "      <td>-6</td>\n",
              "      <td>69</td>\n",
              "      <td>57</td>\n",
              "      <td>45</td>\n",
              "      <td>1024</td>\n",
              "      <td>1020</td>\n",
              "      <td>1015</td>\n",
              "      <td>16</td>\n",
              "      <td>16</td>\n",
              "      <td>16</td>\n",
              "      <td>29</td>\n",
              "      <td>12</td>\n",
              "      <td>35.0</td>\n",
              "      <td>0.00</td>\n",
              "      <td>4</td>\n",
              "      <td>NaN</td>\n",
              "      <td>335</td>\n",
              "    </tr>\n",
              "    <tr>\n",
              "      <th>11032</th>\n",
              "      <td>2013-02-26</td>\n",
              "      <td>LGA</td>\n",
              "      <td>7</td>\n",
              "      <td>4</td>\n",
              "      <td>1</td>\n",
              "      <td>1</td>\n",
              "      <td>-1</td>\n",
              "      <td>-3</td>\n",
              "      <td>92</td>\n",
              "      <td>73</td>\n",
              "      <td>53</td>\n",
              "      <td>1026</td>\n",
              "      <td>1022</td>\n",
              "      <td>1013</td>\n",
              "      <td>16</td>\n",
              "      <td>15</td>\n",
              "      <td>8</td>\n",
              "      <td>37</td>\n",
              "      <td>19</td>\n",
              "      <td>45.0</td>\n",
              "      <td>3.05</td>\n",
              "      <td>6</td>\n",
              "      <td>Rain</td>\n",
              "      <td>65</td>\n",
              "    </tr>\n",
              "    <tr>\n",
              "      <th>11033</th>\n",
              "      <td>2013-02-27</td>\n",
              "      <td>LGA</td>\n",
              "      <td>9</td>\n",
              "      <td>6</td>\n",
              "      <td>2</td>\n",
              "      <td>6</td>\n",
              "      <td>3</td>\n",
              "      <td>1</td>\n",
              "      <td>100</td>\n",
              "      <td>80</td>\n",
              "      <td>60</td>\n",
              "      <td>1012</td>\n",
              "      <td>1003</td>\n",
              "      <td>999</td>\n",
              "      <td>16</td>\n",
              "      <td>7</td>\n",
              "      <td>2</td>\n",
              "      <td>47</td>\n",
              "      <td>26</td>\n",
              "      <td>58.0</td>\n",
              "      <td>28.19</td>\n",
              "      <td>8</td>\n",
              "      <td>Rain</td>\n",
              "      <td>31</td>\n",
              "    </tr>\n",
              "    <tr>\n",
              "      <th>11034</th>\n",
              "      <td>2013-02-28</td>\n",
              "      <td>LGA</td>\n",
              "      <td>12</td>\n",
              "      <td>8</td>\n",
              "      <td>4</td>\n",
              "      <td>2</td>\n",
              "      <td>0</td>\n",
              "      <td>-2</td>\n",
              "      <td>76</td>\n",
              "      <td>61</td>\n",
              "      <td>46</td>\n",
              "      <td>1003</td>\n",
              "      <td>1002</td>\n",
              "      <td>1000</td>\n",
              "      <td>16</td>\n",
              "      <td>16</td>\n",
              "      <td>16</td>\n",
              "      <td>29</td>\n",
              "      <td>12</td>\n",
              "      <td>39.0</td>\n",
              "      <td>T</td>\n",
              "      <td>7</td>\n",
              "      <td>Rain</td>\n",
              "      <td>285</td>\n",
              "    </tr>\n",
              "    <tr>\n",
              "      <th>11035</th>\n",
              "      <td>2013-03-01</td>\n",
              "      <td>LGA</td>\n",
              "      <td>7</td>\n",
              "      <td>5</td>\n",
              "      <td>3</td>\n",
              "      <td>-1</td>\n",
              "      <td>-3</td>\n",
              "      <td>-4</td>\n",
              "      <td>76</td>\n",
              "      <td>63</td>\n",
              "      <td>49</td>\n",
              "      <td>1008</td>\n",
              "      <td>1005</td>\n",
              "      <td>1002</td>\n",
              "      <td>16</td>\n",
              "      <td>16</td>\n",
              "      <td>16</td>\n",
              "      <td>34</td>\n",
              "      <td>21</td>\n",
              "      <td>42.0</td>\n",
              "      <td>0.00</td>\n",
              "      <td>6</td>\n",
              "      <td>NaN</td>\n",
              "      <td>320</td>\n",
              "    </tr>\n",
              "    <tr>\n",
              "      <th>11036</th>\n",
              "      <td>2013-03-02</td>\n",
              "      <td>LGA</td>\n",
              "      <td>4</td>\n",
              "      <td>2</td>\n",
              "      <td>0</td>\n",
              "      <td>-2</td>\n",
              "      <td>-5</td>\n",
              "      <td>-6</td>\n",
              "      <td>82</td>\n",
              "      <td>65</td>\n",
              "      <td>48</td>\n",
              "      <td>1008</td>\n",
              "      <td>1007</td>\n",
              "      <td>1006</td>\n",
              "      <td>16</td>\n",
              "      <td>15</td>\n",
              "      <td>6</td>\n",
              "      <td>34</td>\n",
              "      <td>20</td>\n",
              "      <td>40.0</td>\n",
              "      <td>T</td>\n",
              "      <td>8</td>\n",
              "      <td>Snow</td>\n",
              "      <td>317</td>\n",
              "    </tr>\n",
              "    <tr>\n",
              "      <th>11037</th>\n",
              "      <td>2013-03-03</td>\n",
              "      <td>LGA</td>\n",
              "      <td>4</td>\n",
              "      <td>2</td>\n",
              "      <td>-1</td>\n",
              "      <td>-5</td>\n",
              "      <td>-8</td>\n",
              "      <td>-9</td>\n",
              "      <td>69</td>\n",
              "      <td>55</td>\n",
              "      <td>40</td>\n",
              "      <td>1008</td>\n",
              "      <td>1006</td>\n",
              "      <td>1004</td>\n",
              "      <td>16</td>\n",
              "      <td>15</td>\n",
              "      <td>8</td>\n",
              "      <td>39</td>\n",
              "      <td>24</td>\n",
              "      <td>50.0</td>\n",
              "      <td>T</td>\n",
              "      <td>6</td>\n",
              "      <td>Snow</td>\n",
              "      <td>314</td>\n",
              "    </tr>\n",
              "    <tr>\n",
              "      <th>11038</th>\n",
              "      <td>2013-03-04</td>\n",
              "      <td>LGA</td>\n",
              "      <td>5</td>\n",
              "      <td>2</td>\n",
              "      <td>-2</td>\n",
              "      <td>-7</td>\n",
              "      <td>-8</td>\n",
              "      <td>-9</td>\n",
              "      <td>63</td>\n",
              "      <td>54</td>\n",
              "      <td>44</td>\n",
              "      <td>1012</td>\n",
              "      <td>1009</td>\n",
              "      <td>1008</td>\n",
              "      <td>16</td>\n",
              "      <td>16</td>\n",
              "      <td>16</td>\n",
              "      <td>47</td>\n",
              "      <td>31</td>\n",
              "      <td>60.0</td>\n",
              "      <td>0.00</td>\n",
              "      <td>3</td>\n",
              "      <td>NaN</td>\n",
              "      <td>313</td>\n",
              "    </tr>\n",
              "    <tr>\n",
              "      <th>11039</th>\n",
              "      <td>2013-03-05</td>\n",
              "      <td>LGA</td>\n",
              "      <td>9</td>\n",
              "      <td>5</td>\n",
              "      <td>1</td>\n",
              "      <td>-3</td>\n",
              "      <td>-5</td>\n",
              "      <td>-7</td>\n",
              "      <td>61</td>\n",
              "      <td>49</td>\n",
              "      <td>37</td>\n",
              "      <td>1016</td>\n",
              "      <td>1015</td>\n",
              "      <td>1013</td>\n",
              "      <td>16</td>\n",
              "      <td>16</td>\n",
              "      <td>16</td>\n",
              "      <td>39</td>\n",
              "      <td>16</td>\n",
              "      <td>48.0</td>\n",
              "      <td>0.00</td>\n",
              "      <td>2</td>\n",
              "      <td>NaN</td>\n",
              "      <td>5</td>\n",
              "    </tr>\n",
              "  </tbody>\n",
              "</table>\n",
              "</div>"
            ],
            "text/plain": [
              "             Date AirPort  Max TemperatureC  Mean TemperatureC  \\\n",
              "11020  2013-02-14     LGA                 8                  4   \n",
              "11021  2013-02-15     LGA                12                  7   \n",
              "11022  2013-02-16     LGA                 6                  3   \n",
              "11023  2013-02-17     LGA                 0                 -3   \n",
              "11024  2013-02-18     LGA                 2                 -2   \n",
              "11025  2013-02-19     LGA                 8                  4   \n",
              "11026  2013-02-20     LGA                 4                  1   \n",
              "11027  2013-02-21     LGA                 2                 -1   \n",
              "11028  2013-02-22     LGA                 4                  1   \n",
              "11029  2013-02-23     LGA                 4                  3   \n",
              "11030  2013-02-24     LGA                 8                  5   \n",
              "11031  2013-02-25     LGA                 7                  4   \n",
              "11032  2013-02-26     LGA                 7                  4   \n",
              "11033  2013-02-27     LGA                 9                  6   \n",
              "11034  2013-02-28     LGA                12                  8   \n",
              "11035  2013-03-01     LGA                 7                  5   \n",
              "11036  2013-03-02     LGA                 4                  2   \n",
              "11037  2013-03-03     LGA                 4                  2   \n",
              "11038  2013-03-04     LGA                 5                  2   \n",
              "11039  2013-03-05     LGA                 9                  5   \n",
              "\n",
              "       Min TemperatureC  Dew PointC  MeanDew PointC  Min DewpointC  \\\n",
              "11020                 1           1              -2             -6   \n",
              "11021                 3           2               0             -3   \n",
              "11022                 0           1              -4            -10   \n",
              "11023                -7         -11             -14            -17   \n",
              "11024                -7         -12             -15            -17   \n",
              "11025                 1           5              -2            -12   \n",
              "11026                -3          -7             -11            -14   \n",
              "11027                -4         -10             -11            -13   \n",
              "11028                -3          -1              -7             -9   \n",
              "11029                 2           2               1             -1   \n",
              "11030                 2           2              -1             -6   \n",
              "11031                 1          -2              -4             -6   \n",
              "11032                 1           1              -1             -3   \n",
              "11033                 2           6               3              1   \n",
              "11034                 4           2               0             -2   \n",
              "11035                 3          -1              -3             -4   \n",
              "11036                 0          -2              -5             -6   \n",
              "11037                -1          -5              -8             -9   \n",
              "11038                -2          -7              -8             -9   \n",
              "11039                 1          -3              -5             -7   \n",
              "\n",
              "       Max Humidity  Mean Humidity  Min Humidity  Max Sea Level PressurehPa  \\\n",
              "11020            82             60            37                       1016   \n",
              "11021            76             60            44                       1016   \n",
              "11022            82             64            45                       1014   \n",
              "11023            49             40            31                       1016   \n",
              "11024            51             39            26                       1024   \n",
              "11025            89             62            35                       1023   \n",
              "11026            52             43            33                       1015   \n",
              "11027            55             48            41                       1025   \n",
              "11028            70             63            56                       1029   \n",
              "11029            92             84            76                       1025   \n",
              "11030            92             73            53                       1014   \n",
              "11031            69             57            45                       1024   \n",
              "11032            92             73            53                       1026   \n",
              "11033           100             80            60                       1012   \n",
              "11034            76             61            46                       1003   \n",
              "11035            76             63            49                       1008   \n",
              "11036            82             65            48                       1008   \n",
              "11037            69             55            40                       1008   \n",
              "11038            63             54            44                       1012   \n",
              "11039            61             49            37                       1016   \n",
              "\n",
              "       Mean Sea Level PressurehPa  Min Sea Level PressurehPa  \\\n",
              "11020                        1012                       1006   \n",
              "11021                        1015                       1013   \n",
              "11022                        1012                       1007   \n",
              "11023                        1008                       1004   \n",
              "11024                        1022                       1016   \n",
              "11025                        1012                       1005   \n",
              "11026                        1011                       1006   \n",
              "11027                        1018                       1015   \n",
              "11028                        1027                       1025   \n",
              "11029                        1017                       1009   \n",
              "11030                        1009                       1007   \n",
              "11031                        1020                       1015   \n",
              "11032                        1022                       1013   \n",
              "11033                        1003                        999   \n",
              "11034                        1002                       1000   \n",
              "11035                        1005                       1002   \n",
              "11036                        1007                       1006   \n",
              "11037                        1006                       1004   \n",
              "11038                        1009                       1008   \n",
              "11039                        1015                       1013   \n",
              "\n",
              "       Max VisibilityKm  Mean VisibilityKm  Min VisibilitykM  \\\n",
              "11020                16                 16                10   \n",
              "11021                16                 15                11   \n",
              "11022                16                 16                13   \n",
              "11023                16                 16                16   \n",
              "11024                16                 16                16   \n",
              "11025                16                 15                 6   \n",
              "11026                16                 16                16   \n",
              "11027                16                 16                16   \n",
              "11028                16                 16                16   \n",
              "11029                16                  7                 0   \n",
              "11030                16                 14                 5   \n",
              "11031                16                 16                16   \n",
              "11032                16                 15                 8   \n",
              "11033                16                  7                 2   \n",
              "11034                16                 16                16   \n",
              "11035                16                 16                16   \n",
              "11036                16                 15                 6   \n",
              "11037                16                 15                 8   \n",
              "11038                16                 16                16   \n",
              "11039                16                 16                16   \n",
              "\n",
              "       Max Wind SpeedKm/h  Mean Wind SpeedKm/h  Max Gust SpeedKm/h  \\\n",
              "11020                  26                   13                29.0   \n",
              "11021                  37                   13                42.0   \n",
              "11022                  39                   20                52.0   \n",
              "11023                  58                   40                72.0   \n",
              "11024                  50                   26                64.0   \n",
              "11025                  40                   18                56.0   \n",
              "11026                  50                   33                64.0   \n",
              "11027                  50                   32                64.0   \n",
              "11028                  29                   14                39.0   \n",
              "11029                  34                   18                42.0   \n",
              "11030                  45                   22                56.0   \n",
              "11031                  29                   12                35.0   \n",
              "11032                  37                   19                45.0   \n",
              "11033                  47                   26                58.0   \n",
              "11034                  29                   12                39.0   \n",
              "11035                  34                   21                42.0   \n",
              "11036                  34                   20                40.0   \n",
              "11037                  39                   24                50.0   \n",
              "11038                  47                   31                60.0   \n",
              "11039                  39                   16                48.0   \n",
              "\n",
              "      Precipitationmm  CloudCover     Events  WindDirDegrees  \n",
              "11020               T           4  Rain-Snow             295  \n",
              "11021            0.00           4        NaN             210  \n",
              "11022            0.51           8  Rain-Snow               2  \n",
              "11023            0.00           5        NaN             321  \n",
              "11024            0.00           1        NaN             278  \n",
              "11025            4.06           6       Rain             195  \n",
              "11026            0.00           4        NaN             284  \n",
              "11027            0.00           2        NaN             306  \n",
              "11028               T           6        NaN              50  \n",
              "11029            6.86           8       Rain              53  \n",
              "11030            0.76           7  Rain-Snow             327  \n",
              "11031            0.00           4        NaN             335  \n",
              "11032            3.05           6       Rain              65  \n",
              "11033           28.19           8       Rain              31  \n",
              "11034               T           7       Rain             285  \n",
              "11035            0.00           6        NaN             320  \n",
              "11036               T           8       Snow             317  \n",
              "11037               T           6       Snow             314  \n",
              "11038            0.00           3        NaN             313  \n",
              "11039            0.00           2        NaN               5  "
            ]
          },
          "metadata": {
            "tags": []
          },
          "execution_count": 98
        }
      ]
    },
    {
      "cell_type": "code",
      "metadata": {
        "id": "AxAEUSP8QDvp"
      },
      "source": [
        "def _merge_external_data(X):\n",
        "    filepath = os.path.join(\n",
        "        os.path.dirname(__file__), 'external_data.csv'\n",
        "    )\n",
        "    \n",
        "    X = X.copy()  # to avoid raising SettingOnCopyWarning\n",
        "    # Make sure that DateOfDeparture is of dtype datetime\n",
        "    X.loc[:, \"DateOfDeparture\"] = pd.to_datetime(X['DateOfDeparture'])\n",
        "    # Parse date to also be of dtype datetime\n",
        "    data_weather = pd.read_csv(filepath, parse_dates=[\"Date\"])\n",
        "\n",
        "    X_weather = data_weather[['Date', 'AirPort', 'Max TemperatureC', 'Events']]\n",
        "    X_weather = X_weather.rename(\n",
        "        columns={'Date': 'DateOfDeparture', 'AirPort': 'Arrival', 'Max TemperatureC': 'MaxTempArriv', 'Events':'EventsArr'})\n",
        "    X_merged = pd.merge(\n",
        "        X, X_weather, how='left', on=['DateOfDeparture', 'Arrival'], sort=False\n",
        "    )\n",
        "    # add temp of the departure\n",
        "    X_weather = data_weather[['Date', 'AirPort', 'Min TemperatureC', 'Events']]\n",
        "    X_weather = X_weather.rename(\n",
        "        columns={'Date': 'DateOfDeparture', 'AirPort': 'Departure', 'Min TemperatureC': 'MinTempArriv', 'Events':'EventsDep'})\n",
        "    X_merged = pd.merge(\n",
        "        X_merged, X_weather, how='left', on=['DateOfDeparture', 'Departure'], sort=False\n",
        "    )\n",
        "    X_merged.loc[:,[\"EventsArr\",\"EventsDep\"]]=X_merged.loc[:,[\"EventsArr\",\"EventsDep\"]].fillna(value=\"good\")\n",
        "    return X_merged\n",
        "\n",
        "data_merger = FunctionTransformer(_merge_external_data)"
      ],
      "execution_count": null,
      "outputs": []
    },
    {
      "cell_type": "markdown",
      "metadata": {
        "id": "qIx6u6rEQDvp"
      },
      "source": [
        "Double check that our function works:"
      ]
    },
    {
      "cell_type": "code",
      "metadata": {
        "id": "Z-36MndLQDvp",
        "outputId": "03f195f7-9ef2-4c71-a8bb-bad9646f442d"
      },
      "source": [
        "data_merger.fit_transform(X).head()"
      ],
      "execution_count": null,
      "outputs": [
        {
          "output_type": "execute_result",
          "data": {
            "text/html": [
              "<div>\n",
              "<style scoped>\n",
              "    .dataframe tbody tr th:only-of-type {\n",
              "        vertical-align: middle;\n",
              "    }\n",
              "\n",
              "    .dataframe tbody tr th {\n",
              "        vertical-align: top;\n",
              "    }\n",
              "\n",
              "    .dataframe thead th {\n",
              "        text-align: right;\n",
              "    }\n",
              "</style>\n",
              "<table border=\"1\" class=\"dataframe\">\n",
              "  <thead>\n",
              "    <tr style=\"text-align: right;\">\n",
              "      <th></th>\n",
              "      <th>DateOfDeparture</th>\n",
              "      <th>Departure</th>\n",
              "      <th>Arrival</th>\n",
              "      <th>WeeksToDeparture</th>\n",
              "      <th>std_wtd</th>\n",
              "      <th>MaxTempArriv</th>\n",
              "      <th>EventsArr</th>\n",
              "      <th>MinTempArriv</th>\n",
              "      <th>EventsDep</th>\n",
              "    </tr>\n",
              "  </thead>\n",
              "  <tbody>\n",
              "    <tr>\n",
              "      <th>0</th>\n",
              "      <td>2012-06-19</td>\n",
              "      <td>ORD</td>\n",
              "      <td>DFW</td>\n",
              "      <td>12.875000</td>\n",
              "      <td>9.812647</td>\n",
              "      <td>34</td>\n",
              "      <td>good</td>\n",
              "      <td>26</td>\n",
              "      <td>good</td>\n",
              "    </tr>\n",
              "    <tr>\n",
              "      <th>1</th>\n",
              "      <td>2012-09-10</td>\n",
              "      <td>LAS</td>\n",
              "      <td>DEN</td>\n",
              "      <td>14.285714</td>\n",
              "      <td>9.466734</td>\n",
              "      <td>33</td>\n",
              "      <td>good</td>\n",
              "      <td>27</td>\n",
              "      <td>good</td>\n",
              "    </tr>\n",
              "    <tr>\n",
              "      <th>2</th>\n",
              "      <td>2012-10-05</td>\n",
              "      <td>DEN</td>\n",
              "      <td>LAX</td>\n",
              "      <td>10.863636</td>\n",
              "      <td>9.035883</td>\n",
              "      <td>22</td>\n",
              "      <td>Fog</td>\n",
              "      <td>-1</td>\n",
              "      <td>Rain-Snow</td>\n",
              "    </tr>\n",
              "    <tr>\n",
              "      <th>3</th>\n",
              "      <td>2011-10-09</td>\n",
              "      <td>ATL</td>\n",
              "      <td>ORD</td>\n",
              "      <td>11.480000</td>\n",
              "      <td>7.990202</td>\n",
              "      <td>27</td>\n",
              "      <td>good</td>\n",
              "      <td>16</td>\n",
              "      <td>good</td>\n",
              "    </tr>\n",
              "    <tr>\n",
              "      <th>4</th>\n",
              "      <td>2012-02-21</td>\n",
              "      <td>DEN</td>\n",
              "      <td>SFO</td>\n",
              "      <td>11.450000</td>\n",
              "      <td>9.517159</td>\n",
              "      <td>16</td>\n",
              "      <td>good</td>\n",
              "      <td>-4</td>\n",
              "      <td>good</td>\n",
              "    </tr>\n",
              "  </tbody>\n",
              "</table>\n",
              "</div>"
            ],
            "text/plain": [
              "  DateOfDeparture Departure Arrival  WeeksToDeparture   std_wtd  MaxTempArriv  \\\n",
              "0      2012-06-19       ORD     DFW         12.875000  9.812647            34   \n",
              "1      2012-09-10       LAS     DEN         14.285714  9.466734            33   \n",
              "2      2012-10-05       DEN     LAX         10.863636  9.035883            22   \n",
              "3      2011-10-09       ATL     ORD         11.480000  7.990202            27   \n",
              "4      2012-02-21       DEN     SFO         11.450000  9.517159            16   \n",
              "\n",
              "  EventsArr  MinTempArriv  EventsDep  \n",
              "0      good            26       good  \n",
              "1      good            27       good  \n",
              "2       Fog            -1  Rain-Snow  \n",
              "3      good            16       good  \n",
              "4      good            -4       good  "
            ]
          },
          "metadata": {
            "tags": []
          },
          "execution_count": 76
        }
      ]
    },
    {
      "cell_type": "markdown",
      "metadata": {
        "id": "WIJ7VY0NQDvp"
      },
      "source": [
        "Use `FunctionTransformer` to make our function compatible with scikit-learn API:"
      ]
    },
    {
      "cell_type": "markdown",
      "metadata": {
        "id": "1zqMSQ6LQDvp"
      },
      "source": [
        "We can now assemble our pipeline using the same `data_merger` and `preprocessor` as above:"
      ]
    },
    {
      "cell_type": "code",
      "metadata": {
        "id": "ufpx9c55QDvp",
        "outputId": "e040f13f-6eda-4e5c-ece3-fd3cfa824ea2"
      },
      "source": [
        "from sklearn.preprocessing import OrdinalEncoder\n",
        "from sklearn.compose import make_column_transformer\n",
        "\n",
        "categorical_encoder = OrdinalEncoder()\n",
        "categorical_cols = [\"Arrival\", \"Departure\", \"EventsArr\", \"EventsDep\"]\n",
        "\n",
        "mymd=data_merger.fit_transform(X)[[\"EventsArr\", \"EventsDep\"]]\n",
        "enc = OrdinalEncoder()\n",
        "enc.fit(mymd)\n",
        "print(enc.categories_)\n",
        "\n",
        "preprocessor = make_column_transformer(\n",
        "    (categorical_encoder, categorical_cols),\n",
        "    remainder='passthrough',  # passthrough numerical columns as they are\n",
        ")"
      ],
      "execution_count": null,
      "outputs": [
        {
          "output_type": "stream",
          "text": [
            "[array(['Fog', 'Fog-Rain', 'Fog-Rain-Hail-Thunderstorm', 'Fog-Rain-Snow',\n",
            "       'Fog-Rain-Snow-Thunderstorm', 'Fog-Rain-Thunderstorm', 'Fog-Snow',\n",
            "       'Rain', 'Rain-Hail-Thunderstorm', 'Rain-Snow',\n",
            "       'Rain-Snow-Thunderstorm', 'Rain-Thunderstorm', 'Snow',\n",
            "       'Thunderstorm', 'good'], dtype=object), array(['Fog', 'Fog-Rain', 'Fog-Rain-Hail-Thunderstorm', 'Fog-Rain-Snow',\n",
            "       'Fog-Rain-Snow-Thunderstorm', 'Fog-Rain-Thunderstorm', 'Fog-Snow',\n",
            "       'Rain', 'Rain-Hail-Thunderstorm', 'Rain-Snow',\n",
            "       'Rain-Snow-Thunderstorm', 'Rain-Thunderstorm',\n",
            "       'Rain-Thunderstorm-Tornado', 'Snow', 'Thunderstorm', 'good'],\n",
            "      dtype=object)]\n"
          ],
          "name": "stdout"
        }
      ]
    },
    {
      "cell_type": "code",
      "metadata": {
        "id": "c1JKG-z2QDvp"
      },
      "source": [
        "n_estimators = 10\n",
        "max_depth = 10\n",
        "max_features = 10\n",
        "\n",
        "regressor = RandomForestRegressor(\n",
        "    n_estimators=n_estimators, max_depth=max_depth, max_features=max_features\n",
        ")\n",
        "\n",
        "pipeline = make_pipeline(data_merger, date_encoder, preprocessor, regressor)"
      ],
      "execution_count": null,
      "outputs": []
    },
    {
      "cell_type": "code",
      "metadata": {
        "id": "z70pSZqyQDvp",
        "outputId": "ab4627cf-8ed3-434d-eb71-843d779f9bb6"
      },
      "source": [
        "scores = cross_val_score(\n",
        "    pipeline, X, y, cv=5, scoring='neg_mean_squared_error'\n",
        ")\n",
        "rmse_scores = np.sqrt(-scores)\n",
        "\n",
        "print(\n",
        "    f\"RMSE: {np.mean(rmse_scores):.4f} +/- {np.std(rmse_scores):.4f}\"\n",
        ")"
      ],
      "execution_count": null,
      "outputs": [
        {
          "output_type": "error",
          "ename": "ValueError",
          "evalue": "Found unknown categories ['Rain-Thunderstorm-Tornado'] in column 3 during transform",
          "traceback": [
            "\u001b[0;31m---------------------------------------------------------------------------\u001b[0m",
            "\u001b[0;31mValueError\u001b[0m                                Traceback (most recent call last)",
            "\u001b[0;32m~/workspace/dataScience/ca_2020/air_passengers-master/submissions/starting_kit/estimator.py\u001b[0m in \u001b[0;36m<module>\u001b[0;34m\u001b[0m\n\u001b[0;32m----> 1\u001b[0;31m scores = cross_val_score(\n\u001b[0m\u001b[1;32m      2\u001b[0m     \u001b[0mpipeline\u001b[0m\u001b[0;34m,\u001b[0m \u001b[0mX\u001b[0m\u001b[0;34m,\u001b[0m \u001b[0my\u001b[0m\u001b[0;34m,\u001b[0m \u001b[0mcv\u001b[0m\u001b[0;34m=\u001b[0m\u001b[0;36m5\u001b[0m\u001b[0;34m,\u001b[0m \u001b[0mscoring\u001b[0m\u001b[0;34m=\u001b[0m\u001b[0;34m'neg_mean_squared_error'\u001b[0m\u001b[0;34m\u001b[0m\u001b[0;34m\u001b[0m\u001b[0m\n\u001b[1;32m      3\u001b[0m )\n\u001b[1;32m      4\u001b[0m \u001b[0mrmse_scores\u001b[0m \u001b[0;34m=\u001b[0m \u001b[0mnp\u001b[0m\u001b[0;34m.\u001b[0m\u001b[0msqrt\u001b[0m\u001b[0;34m(\u001b[0m\u001b[0;34m-\u001b[0m\u001b[0mscores\u001b[0m\u001b[0;34m)\u001b[0m\u001b[0;34m\u001b[0m\u001b[0;34m\u001b[0m\u001b[0m\n\u001b[1;32m      5\u001b[0m \u001b[0;34m\u001b[0m\u001b[0m\n",
            "\u001b[0;32m~/anaconda3/lib/python3.8/site-packages/sklearn/utils/validation.py\u001b[0m in \u001b[0;36minner_f\u001b[0;34m(*args, **kwargs)\u001b[0m\n\u001b[1;32m     70\u001b[0m                           FutureWarning)\n\u001b[1;32m     71\u001b[0m         \u001b[0mkwargs\u001b[0m\u001b[0;34m.\u001b[0m\u001b[0mupdate\u001b[0m\u001b[0;34m(\u001b[0m\u001b[0;34m{\u001b[0m\u001b[0mk\u001b[0m\u001b[0;34m:\u001b[0m \u001b[0marg\u001b[0m \u001b[0;32mfor\u001b[0m \u001b[0mk\u001b[0m\u001b[0;34m,\u001b[0m \u001b[0marg\u001b[0m \u001b[0;32min\u001b[0m \u001b[0mzip\u001b[0m\u001b[0;34m(\u001b[0m\u001b[0msig\u001b[0m\u001b[0;34m.\u001b[0m\u001b[0mparameters\u001b[0m\u001b[0;34m,\u001b[0m \u001b[0margs\u001b[0m\u001b[0;34m)\u001b[0m\u001b[0;34m}\u001b[0m\u001b[0;34m)\u001b[0m\u001b[0;34m\u001b[0m\u001b[0;34m\u001b[0m\u001b[0m\n\u001b[0;32m---> 72\u001b[0;31m         \u001b[0;32mreturn\u001b[0m \u001b[0mf\u001b[0m\u001b[0;34m(\u001b[0m\u001b[0;34m**\u001b[0m\u001b[0mkwargs\u001b[0m\u001b[0;34m)\u001b[0m\u001b[0;34m\u001b[0m\u001b[0;34m\u001b[0m\u001b[0m\n\u001b[0m\u001b[1;32m     73\u001b[0m     \u001b[0;32mreturn\u001b[0m \u001b[0minner_f\u001b[0m\u001b[0;34m\u001b[0m\u001b[0;34m\u001b[0m\u001b[0m\n\u001b[1;32m     74\u001b[0m \u001b[0;34m\u001b[0m\u001b[0m\n",
            "\u001b[0;32m~/anaconda3/lib/python3.8/site-packages/sklearn/model_selection/_validation.py\u001b[0m in \u001b[0;36mcross_val_score\u001b[0;34m(estimator, X, y, groups, scoring, cv, n_jobs, verbose, fit_params, pre_dispatch, error_score)\u001b[0m\n\u001b[1;32m    399\u001b[0m     \u001b[0mscorer\u001b[0m \u001b[0;34m=\u001b[0m \u001b[0mcheck_scoring\u001b[0m\u001b[0;34m(\u001b[0m\u001b[0mestimator\u001b[0m\u001b[0;34m,\u001b[0m \u001b[0mscoring\u001b[0m\u001b[0;34m=\u001b[0m\u001b[0mscoring\u001b[0m\u001b[0;34m)\u001b[0m\u001b[0;34m\u001b[0m\u001b[0;34m\u001b[0m\u001b[0m\n\u001b[1;32m    400\u001b[0m \u001b[0;34m\u001b[0m\u001b[0m\n\u001b[0;32m--> 401\u001b[0;31m     cv_results = cross_validate(estimator=estimator, X=X, y=y, groups=groups,\n\u001b[0m\u001b[1;32m    402\u001b[0m                                 \u001b[0mscoring\u001b[0m\u001b[0;34m=\u001b[0m\u001b[0;34m{\u001b[0m\u001b[0;34m'score'\u001b[0m\u001b[0;34m:\u001b[0m \u001b[0mscorer\u001b[0m\u001b[0;34m}\u001b[0m\u001b[0;34m,\u001b[0m \u001b[0mcv\u001b[0m\u001b[0;34m=\u001b[0m\u001b[0mcv\u001b[0m\u001b[0;34m,\u001b[0m\u001b[0;34m\u001b[0m\u001b[0;34m\u001b[0m\u001b[0m\n\u001b[1;32m    403\u001b[0m                                 \u001b[0mn_jobs\u001b[0m\u001b[0;34m=\u001b[0m\u001b[0mn_jobs\u001b[0m\u001b[0;34m,\u001b[0m \u001b[0mverbose\u001b[0m\u001b[0;34m=\u001b[0m\u001b[0mverbose\u001b[0m\u001b[0;34m,\u001b[0m\u001b[0;34m\u001b[0m\u001b[0;34m\u001b[0m\u001b[0m\n",
            "\u001b[0;32m~/anaconda3/lib/python3.8/site-packages/sklearn/utils/validation.py\u001b[0m in \u001b[0;36minner_f\u001b[0;34m(*args, **kwargs)\u001b[0m\n\u001b[1;32m     70\u001b[0m                           FutureWarning)\n\u001b[1;32m     71\u001b[0m         \u001b[0mkwargs\u001b[0m\u001b[0;34m.\u001b[0m\u001b[0mupdate\u001b[0m\u001b[0;34m(\u001b[0m\u001b[0;34m{\u001b[0m\u001b[0mk\u001b[0m\u001b[0;34m:\u001b[0m \u001b[0marg\u001b[0m \u001b[0;32mfor\u001b[0m \u001b[0mk\u001b[0m\u001b[0;34m,\u001b[0m \u001b[0marg\u001b[0m \u001b[0;32min\u001b[0m \u001b[0mzip\u001b[0m\u001b[0;34m(\u001b[0m\u001b[0msig\u001b[0m\u001b[0;34m.\u001b[0m\u001b[0mparameters\u001b[0m\u001b[0;34m,\u001b[0m \u001b[0margs\u001b[0m\u001b[0;34m)\u001b[0m\u001b[0;34m}\u001b[0m\u001b[0;34m)\u001b[0m\u001b[0;34m\u001b[0m\u001b[0;34m\u001b[0m\u001b[0m\n\u001b[0;32m---> 72\u001b[0;31m         \u001b[0;32mreturn\u001b[0m \u001b[0mf\u001b[0m\u001b[0;34m(\u001b[0m\u001b[0;34m**\u001b[0m\u001b[0mkwargs\u001b[0m\u001b[0;34m)\u001b[0m\u001b[0;34m\u001b[0m\u001b[0;34m\u001b[0m\u001b[0m\n\u001b[0m\u001b[1;32m     73\u001b[0m     \u001b[0;32mreturn\u001b[0m \u001b[0minner_f\u001b[0m\u001b[0;34m\u001b[0m\u001b[0;34m\u001b[0m\u001b[0m\n\u001b[1;32m     74\u001b[0m \u001b[0;34m\u001b[0m\u001b[0m\n",
            "\u001b[0;32m~/anaconda3/lib/python3.8/site-packages/sklearn/model_selection/_validation.py\u001b[0m in \u001b[0;36mcross_validate\u001b[0;34m(estimator, X, y, groups, scoring, cv, n_jobs, verbose, fit_params, pre_dispatch, return_train_score, return_estimator, error_score)\u001b[0m\n\u001b[1;32m    240\u001b[0m     parallel = Parallel(n_jobs=n_jobs, verbose=verbose,\n\u001b[1;32m    241\u001b[0m                         pre_dispatch=pre_dispatch)\n\u001b[0;32m--> 242\u001b[0;31m     scores = parallel(\n\u001b[0m\u001b[1;32m    243\u001b[0m         delayed(_fit_and_score)(\n\u001b[1;32m    244\u001b[0m             \u001b[0mclone\u001b[0m\u001b[0;34m(\u001b[0m\u001b[0mestimator\u001b[0m\u001b[0;34m)\u001b[0m\u001b[0;34m,\u001b[0m \u001b[0mX\u001b[0m\u001b[0;34m,\u001b[0m \u001b[0my\u001b[0m\u001b[0;34m,\u001b[0m \u001b[0mscorers\u001b[0m\u001b[0;34m,\u001b[0m \u001b[0mtrain\u001b[0m\u001b[0;34m,\u001b[0m \u001b[0mtest\u001b[0m\u001b[0;34m,\u001b[0m \u001b[0mverbose\u001b[0m\u001b[0;34m,\u001b[0m \u001b[0;32mNone\u001b[0m\u001b[0;34m,\u001b[0m\u001b[0;34m\u001b[0m\u001b[0;34m\u001b[0m\u001b[0m\n",
            "\u001b[0;32m~/anaconda3/lib/python3.8/site-packages/joblib/parallel.py\u001b[0m in \u001b[0;36m__call__\u001b[0;34m(self, iterable)\u001b[0m\n\u001b[1;32m   1046\u001b[0m             \u001b[0;31m# remaining jobs.\u001b[0m\u001b[0;34m\u001b[0m\u001b[0;34m\u001b[0m\u001b[0;34m\u001b[0m\u001b[0m\n\u001b[1;32m   1047\u001b[0m             \u001b[0mself\u001b[0m\u001b[0;34m.\u001b[0m\u001b[0m_iterating\u001b[0m \u001b[0;34m=\u001b[0m \u001b[0;32mFalse\u001b[0m\u001b[0;34m\u001b[0m\u001b[0;34m\u001b[0m\u001b[0m\n\u001b[0;32m-> 1048\u001b[0;31m             \u001b[0;32mif\u001b[0m \u001b[0mself\u001b[0m\u001b[0;34m.\u001b[0m\u001b[0mdispatch_one_batch\u001b[0m\u001b[0;34m(\u001b[0m\u001b[0miterator\u001b[0m\u001b[0;34m)\u001b[0m\u001b[0;34m:\u001b[0m\u001b[0;34m\u001b[0m\u001b[0;34m\u001b[0m\u001b[0m\n\u001b[0m\u001b[1;32m   1049\u001b[0m                 \u001b[0mself\u001b[0m\u001b[0;34m.\u001b[0m\u001b[0m_iterating\u001b[0m \u001b[0;34m=\u001b[0m \u001b[0mself\u001b[0m\u001b[0;34m.\u001b[0m\u001b[0m_original_iterator\u001b[0m \u001b[0;32mis\u001b[0m \u001b[0;32mnot\u001b[0m \u001b[0;32mNone\u001b[0m\u001b[0;34m\u001b[0m\u001b[0;34m\u001b[0m\u001b[0m\n\u001b[1;32m   1050\u001b[0m \u001b[0;34m\u001b[0m\u001b[0m\n",
            "\u001b[0;32m~/anaconda3/lib/python3.8/site-packages/joblib/parallel.py\u001b[0m in \u001b[0;36mdispatch_one_batch\u001b[0;34m(self, iterator)\u001b[0m\n\u001b[1;32m    864\u001b[0m                 \u001b[0;32mreturn\u001b[0m \u001b[0;32mFalse\u001b[0m\u001b[0;34m\u001b[0m\u001b[0;34m\u001b[0m\u001b[0m\n\u001b[1;32m    865\u001b[0m             \u001b[0;32melse\u001b[0m\u001b[0;34m:\u001b[0m\u001b[0;34m\u001b[0m\u001b[0;34m\u001b[0m\u001b[0m\n\u001b[0;32m--> 866\u001b[0;31m                 \u001b[0mself\u001b[0m\u001b[0;34m.\u001b[0m\u001b[0m_dispatch\u001b[0m\u001b[0;34m(\u001b[0m\u001b[0mtasks\u001b[0m\u001b[0;34m)\u001b[0m\u001b[0;34m\u001b[0m\u001b[0;34m\u001b[0m\u001b[0m\n\u001b[0m\u001b[1;32m    867\u001b[0m                 \u001b[0;32mreturn\u001b[0m \u001b[0;32mTrue\u001b[0m\u001b[0;34m\u001b[0m\u001b[0;34m\u001b[0m\u001b[0m\n\u001b[1;32m    868\u001b[0m \u001b[0;34m\u001b[0m\u001b[0m\n",
            "\u001b[0;32m~/anaconda3/lib/python3.8/site-packages/joblib/parallel.py\u001b[0m in \u001b[0;36m_dispatch\u001b[0;34m(self, batch)\u001b[0m\n\u001b[1;32m    782\u001b[0m         \u001b[0;32mwith\u001b[0m \u001b[0mself\u001b[0m\u001b[0;34m.\u001b[0m\u001b[0m_lock\u001b[0m\u001b[0;34m:\u001b[0m\u001b[0;34m\u001b[0m\u001b[0;34m\u001b[0m\u001b[0m\n\u001b[1;32m    783\u001b[0m             \u001b[0mjob_idx\u001b[0m \u001b[0;34m=\u001b[0m \u001b[0mlen\u001b[0m\u001b[0;34m(\u001b[0m\u001b[0mself\u001b[0m\u001b[0;34m.\u001b[0m\u001b[0m_jobs\u001b[0m\u001b[0;34m)\u001b[0m\u001b[0;34m\u001b[0m\u001b[0;34m\u001b[0m\u001b[0m\n\u001b[0;32m--> 784\u001b[0;31m             \u001b[0mjob\u001b[0m \u001b[0;34m=\u001b[0m \u001b[0mself\u001b[0m\u001b[0;34m.\u001b[0m\u001b[0m_backend\u001b[0m\u001b[0;34m.\u001b[0m\u001b[0mapply_async\u001b[0m\u001b[0;34m(\u001b[0m\u001b[0mbatch\u001b[0m\u001b[0;34m,\u001b[0m \u001b[0mcallback\u001b[0m\u001b[0;34m=\u001b[0m\u001b[0mcb\u001b[0m\u001b[0;34m)\u001b[0m\u001b[0;34m\u001b[0m\u001b[0;34m\u001b[0m\u001b[0m\n\u001b[0m\u001b[1;32m    785\u001b[0m             \u001b[0;31m# A job can complete so quickly than its callback is\u001b[0m\u001b[0;34m\u001b[0m\u001b[0;34m\u001b[0m\u001b[0;34m\u001b[0m\u001b[0m\n\u001b[1;32m    786\u001b[0m             \u001b[0;31m# called before we get here, causing self._jobs to\u001b[0m\u001b[0;34m\u001b[0m\u001b[0;34m\u001b[0m\u001b[0;34m\u001b[0m\u001b[0m\n",
            "\u001b[0;32m~/anaconda3/lib/python3.8/site-packages/joblib/_parallel_backends.py\u001b[0m in \u001b[0;36mapply_async\u001b[0;34m(self, func, callback)\u001b[0m\n\u001b[1;32m    206\u001b[0m     \u001b[0;32mdef\u001b[0m \u001b[0mapply_async\u001b[0m\u001b[0;34m(\u001b[0m\u001b[0mself\u001b[0m\u001b[0;34m,\u001b[0m \u001b[0mfunc\u001b[0m\u001b[0;34m,\u001b[0m \u001b[0mcallback\u001b[0m\u001b[0;34m=\u001b[0m\u001b[0;32mNone\u001b[0m\u001b[0;34m)\u001b[0m\u001b[0;34m:\u001b[0m\u001b[0;34m\u001b[0m\u001b[0;34m\u001b[0m\u001b[0m\n\u001b[1;32m    207\u001b[0m         \u001b[0;34m\"\"\"Schedule a func to be run\"\"\"\u001b[0m\u001b[0;34m\u001b[0m\u001b[0;34m\u001b[0m\u001b[0m\n\u001b[0;32m--> 208\u001b[0;31m         \u001b[0mresult\u001b[0m \u001b[0;34m=\u001b[0m \u001b[0mImmediateResult\u001b[0m\u001b[0;34m(\u001b[0m\u001b[0mfunc\u001b[0m\u001b[0;34m)\u001b[0m\u001b[0;34m\u001b[0m\u001b[0;34m\u001b[0m\u001b[0m\n\u001b[0m\u001b[1;32m    209\u001b[0m         \u001b[0;32mif\u001b[0m \u001b[0mcallback\u001b[0m\u001b[0;34m:\u001b[0m\u001b[0;34m\u001b[0m\u001b[0;34m\u001b[0m\u001b[0m\n\u001b[1;32m    210\u001b[0m             \u001b[0mcallback\u001b[0m\u001b[0;34m(\u001b[0m\u001b[0mresult\u001b[0m\u001b[0;34m)\u001b[0m\u001b[0;34m\u001b[0m\u001b[0;34m\u001b[0m\u001b[0m\n",
            "\u001b[0;32m~/anaconda3/lib/python3.8/site-packages/joblib/_parallel_backends.py\u001b[0m in \u001b[0;36m__init__\u001b[0;34m(self, batch)\u001b[0m\n\u001b[1;32m    570\u001b[0m         \u001b[0;31m# Don't delay the application, to avoid keeping the input\u001b[0m\u001b[0;34m\u001b[0m\u001b[0;34m\u001b[0m\u001b[0;34m\u001b[0m\u001b[0m\n\u001b[1;32m    571\u001b[0m         \u001b[0;31m# arguments in memory\u001b[0m\u001b[0;34m\u001b[0m\u001b[0;34m\u001b[0m\u001b[0;34m\u001b[0m\u001b[0m\n\u001b[0;32m--> 572\u001b[0;31m         \u001b[0mself\u001b[0m\u001b[0;34m.\u001b[0m\u001b[0mresults\u001b[0m \u001b[0;34m=\u001b[0m \u001b[0mbatch\u001b[0m\u001b[0;34m(\u001b[0m\u001b[0;34m)\u001b[0m\u001b[0;34m\u001b[0m\u001b[0;34m\u001b[0m\u001b[0m\n\u001b[0m\u001b[1;32m    573\u001b[0m \u001b[0;34m\u001b[0m\u001b[0m\n\u001b[1;32m    574\u001b[0m     \u001b[0;32mdef\u001b[0m \u001b[0mget\u001b[0m\u001b[0;34m(\u001b[0m\u001b[0mself\u001b[0m\u001b[0;34m)\u001b[0m\u001b[0;34m:\u001b[0m\u001b[0;34m\u001b[0m\u001b[0;34m\u001b[0m\u001b[0m\n",
            "\u001b[0;32m~/anaconda3/lib/python3.8/site-packages/joblib/parallel.py\u001b[0m in \u001b[0;36m__call__\u001b[0;34m(self)\u001b[0m\n\u001b[1;32m    260\u001b[0m         \u001b[0;31m# change the default number of processes to -1\u001b[0m\u001b[0;34m\u001b[0m\u001b[0;34m\u001b[0m\u001b[0;34m\u001b[0m\u001b[0m\n\u001b[1;32m    261\u001b[0m         \u001b[0;32mwith\u001b[0m \u001b[0mparallel_backend\u001b[0m\u001b[0;34m(\u001b[0m\u001b[0mself\u001b[0m\u001b[0;34m.\u001b[0m\u001b[0m_backend\u001b[0m\u001b[0;34m,\u001b[0m \u001b[0mn_jobs\u001b[0m\u001b[0;34m=\u001b[0m\u001b[0mself\u001b[0m\u001b[0;34m.\u001b[0m\u001b[0m_n_jobs\u001b[0m\u001b[0;34m)\u001b[0m\u001b[0;34m:\u001b[0m\u001b[0;34m\u001b[0m\u001b[0;34m\u001b[0m\u001b[0m\n\u001b[0;32m--> 262\u001b[0;31m             return [func(*args, **kwargs)\n\u001b[0m\u001b[1;32m    263\u001b[0m                     for func, args, kwargs in self.items]\n\u001b[1;32m    264\u001b[0m \u001b[0;34m\u001b[0m\u001b[0m\n",
            "\u001b[0;32m~/anaconda3/lib/python3.8/site-packages/joblib/parallel.py\u001b[0m in \u001b[0;36m<listcomp>\u001b[0;34m(.0)\u001b[0m\n\u001b[1;32m    260\u001b[0m         \u001b[0;31m# change the default number of processes to -1\u001b[0m\u001b[0;34m\u001b[0m\u001b[0;34m\u001b[0m\u001b[0;34m\u001b[0m\u001b[0m\n\u001b[1;32m    261\u001b[0m         \u001b[0;32mwith\u001b[0m \u001b[0mparallel_backend\u001b[0m\u001b[0;34m(\u001b[0m\u001b[0mself\u001b[0m\u001b[0;34m.\u001b[0m\u001b[0m_backend\u001b[0m\u001b[0;34m,\u001b[0m \u001b[0mn_jobs\u001b[0m\u001b[0;34m=\u001b[0m\u001b[0mself\u001b[0m\u001b[0;34m.\u001b[0m\u001b[0m_n_jobs\u001b[0m\u001b[0;34m)\u001b[0m\u001b[0;34m:\u001b[0m\u001b[0;34m\u001b[0m\u001b[0;34m\u001b[0m\u001b[0m\n\u001b[0;32m--> 262\u001b[0;31m             return [func(*args, **kwargs)\n\u001b[0m\u001b[1;32m    263\u001b[0m                     for func, args, kwargs in self.items]\n\u001b[1;32m    264\u001b[0m \u001b[0;34m\u001b[0m\u001b[0m\n",
            "\u001b[0;32m~/anaconda3/lib/python3.8/site-packages/sklearn/model_selection/_validation.py\u001b[0m in \u001b[0;36m_fit_and_score\u001b[0;34m(estimator, X, y, scorer, train, test, verbose, parameters, fit_params, return_train_score, return_parameters, return_n_test_samples, return_times, return_estimator, error_score)\u001b[0m\n\u001b[1;32m    558\u001b[0m     \u001b[0;32melse\u001b[0m\u001b[0;34m:\u001b[0m\u001b[0;34m\u001b[0m\u001b[0;34m\u001b[0m\u001b[0m\n\u001b[1;32m    559\u001b[0m         \u001b[0mfit_time\u001b[0m \u001b[0;34m=\u001b[0m \u001b[0mtime\u001b[0m\u001b[0;34m.\u001b[0m\u001b[0mtime\u001b[0m\u001b[0;34m(\u001b[0m\u001b[0;34m)\u001b[0m \u001b[0;34m-\u001b[0m \u001b[0mstart_time\u001b[0m\u001b[0;34m\u001b[0m\u001b[0;34m\u001b[0m\u001b[0m\n\u001b[0;32m--> 560\u001b[0;31m         \u001b[0mtest_scores\u001b[0m \u001b[0;34m=\u001b[0m \u001b[0m_score\u001b[0m\u001b[0;34m(\u001b[0m\u001b[0mestimator\u001b[0m\u001b[0;34m,\u001b[0m \u001b[0mX_test\u001b[0m\u001b[0;34m,\u001b[0m \u001b[0my_test\u001b[0m\u001b[0;34m,\u001b[0m \u001b[0mscorer\u001b[0m\u001b[0;34m)\u001b[0m\u001b[0;34m\u001b[0m\u001b[0;34m\u001b[0m\u001b[0m\n\u001b[0m\u001b[1;32m    561\u001b[0m         \u001b[0mscore_time\u001b[0m \u001b[0;34m=\u001b[0m \u001b[0mtime\u001b[0m\u001b[0;34m.\u001b[0m\u001b[0mtime\u001b[0m\u001b[0;34m(\u001b[0m\u001b[0;34m)\u001b[0m \u001b[0;34m-\u001b[0m \u001b[0mstart_time\u001b[0m \u001b[0;34m-\u001b[0m \u001b[0mfit_time\u001b[0m\u001b[0;34m\u001b[0m\u001b[0;34m\u001b[0m\u001b[0m\n\u001b[1;32m    562\u001b[0m         \u001b[0;32mif\u001b[0m \u001b[0mreturn_train_score\u001b[0m\u001b[0;34m:\u001b[0m\u001b[0;34m\u001b[0m\u001b[0;34m\u001b[0m\u001b[0m\n",
            "\u001b[0;32m~/anaconda3/lib/python3.8/site-packages/sklearn/model_selection/_validation.py\u001b[0m in \u001b[0;36m_score\u001b[0;34m(estimator, X_test, y_test, scorer)\u001b[0m\n\u001b[1;32m    605\u001b[0m         \u001b[0mscores\u001b[0m \u001b[0;34m=\u001b[0m \u001b[0mscorer\u001b[0m\u001b[0;34m(\u001b[0m\u001b[0mestimator\u001b[0m\u001b[0;34m,\u001b[0m \u001b[0mX_test\u001b[0m\u001b[0;34m)\u001b[0m\u001b[0;34m\u001b[0m\u001b[0;34m\u001b[0m\u001b[0m\n\u001b[1;32m    606\u001b[0m     \u001b[0;32melse\u001b[0m\u001b[0;34m:\u001b[0m\u001b[0;34m\u001b[0m\u001b[0;34m\u001b[0m\u001b[0m\n\u001b[0;32m--> 607\u001b[0;31m         \u001b[0mscores\u001b[0m \u001b[0;34m=\u001b[0m \u001b[0mscorer\u001b[0m\u001b[0;34m(\u001b[0m\u001b[0mestimator\u001b[0m\u001b[0;34m,\u001b[0m \u001b[0mX_test\u001b[0m\u001b[0;34m,\u001b[0m \u001b[0my_test\u001b[0m\u001b[0;34m)\u001b[0m\u001b[0;34m\u001b[0m\u001b[0;34m\u001b[0m\u001b[0m\n\u001b[0m\u001b[1;32m    608\u001b[0m \u001b[0;34m\u001b[0m\u001b[0m\n\u001b[1;32m    609\u001b[0m     error_msg = (\"scoring must return a number, got %s (%s) \"\n",
            "\u001b[0;32m~/anaconda3/lib/python3.8/site-packages/sklearn/metrics/_scorer.py\u001b[0m in \u001b[0;36m__call__\u001b[0;34m(self, estimator, *args, **kwargs)\u001b[0m\n\u001b[1;32m     85\u001b[0m         \u001b[0;32mfor\u001b[0m \u001b[0mname\u001b[0m\u001b[0;34m,\u001b[0m \u001b[0mscorer\u001b[0m \u001b[0;32min\u001b[0m \u001b[0mself\u001b[0m\u001b[0;34m.\u001b[0m\u001b[0m_scorers\u001b[0m\u001b[0;34m.\u001b[0m\u001b[0mitems\u001b[0m\u001b[0;34m(\u001b[0m\u001b[0;34m)\u001b[0m\u001b[0;34m:\u001b[0m\u001b[0;34m\u001b[0m\u001b[0;34m\u001b[0m\u001b[0m\n\u001b[1;32m     86\u001b[0m             \u001b[0;32mif\u001b[0m \u001b[0misinstance\u001b[0m\u001b[0;34m(\u001b[0m\u001b[0mscorer\u001b[0m\u001b[0;34m,\u001b[0m \u001b[0m_BaseScorer\u001b[0m\u001b[0;34m)\u001b[0m\u001b[0;34m:\u001b[0m\u001b[0;34m\u001b[0m\u001b[0;34m\u001b[0m\u001b[0m\n\u001b[0;32m---> 87\u001b[0;31m                 score = scorer._score(cached_call, estimator,\n\u001b[0m\u001b[1;32m     88\u001b[0m                                       *args, **kwargs)\n\u001b[1;32m     89\u001b[0m             \u001b[0;32melse\u001b[0m\u001b[0;34m:\u001b[0m\u001b[0;34m\u001b[0m\u001b[0;34m\u001b[0m\u001b[0m\n",
            "\u001b[0;32m~/anaconda3/lib/python3.8/site-packages/sklearn/metrics/_scorer.py\u001b[0m in \u001b[0;36m_score\u001b[0;34m(self, method_caller, estimator, X, y_true, sample_weight)\u001b[0m\n\u001b[1;32m    204\u001b[0m         \"\"\"\n\u001b[1;32m    205\u001b[0m \u001b[0;34m\u001b[0m\u001b[0m\n\u001b[0;32m--> 206\u001b[0;31m         \u001b[0my_pred\u001b[0m \u001b[0;34m=\u001b[0m \u001b[0mmethod_caller\u001b[0m\u001b[0;34m(\u001b[0m\u001b[0mestimator\u001b[0m\u001b[0;34m,\u001b[0m \u001b[0;34m\"predict\"\u001b[0m\u001b[0;34m,\u001b[0m \u001b[0mX\u001b[0m\u001b[0;34m)\u001b[0m\u001b[0;34m\u001b[0m\u001b[0;34m\u001b[0m\u001b[0m\n\u001b[0m\u001b[1;32m    207\u001b[0m         \u001b[0;32mif\u001b[0m \u001b[0msample_weight\u001b[0m \u001b[0;32mis\u001b[0m \u001b[0;32mnot\u001b[0m \u001b[0;32mNone\u001b[0m\u001b[0;34m:\u001b[0m\u001b[0;34m\u001b[0m\u001b[0;34m\u001b[0m\u001b[0m\n\u001b[1;32m    208\u001b[0m             return self._sign * self._score_func(y_true, y_pred,\n",
            "\u001b[0;32m~/anaconda3/lib/python3.8/site-packages/sklearn/metrics/_scorer.py\u001b[0m in \u001b[0;36m_cached_call\u001b[0;34m(cache, estimator, method, *args, **kwargs)\u001b[0m\n\u001b[1;32m     51\u001b[0m     \u001b[0;34m\"\"\"Call estimator with method and args and kwargs.\"\"\"\u001b[0m\u001b[0;34m\u001b[0m\u001b[0;34m\u001b[0m\u001b[0m\n\u001b[1;32m     52\u001b[0m     \u001b[0;32mif\u001b[0m \u001b[0mcache\u001b[0m \u001b[0;32mis\u001b[0m \u001b[0;32mNone\u001b[0m\u001b[0;34m:\u001b[0m\u001b[0;34m\u001b[0m\u001b[0;34m\u001b[0m\u001b[0m\n\u001b[0;32m---> 53\u001b[0;31m         \u001b[0;32mreturn\u001b[0m \u001b[0mgetattr\u001b[0m\u001b[0;34m(\u001b[0m\u001b[0mestimator\u001b[0m\u001b[0;34m,\u001b[0m \u001b[0mmethod\u001b[0m\u001b[0;34m)\u001b[0m\u001b[0;34m(\u001b[0m\u001b[0;34m*\u001b[0m\u001b[0margs\u001b[0m\u001b[0;34m,\u001b[0m \u001b[0;34m**\u001b[0m\u001b[0mkwargs\u001b[0m\u001b[0;34m)\u001b[0m\u001b[0;34m\u001b[0m\u001b[0;34m\u001b[0m\u001b[0m\n\u001b[0m\u001b[1;32m     54\u001b[0m \u001b[0;34m\u001b[0m\u001b[0m\n\u001b[1;32m     55\u001b[0m     \u001b[0;32mtry\u001b[0m\u001b[0;34m:\u001b[0m\u001b[0;34m\u001b[0m\u001b[0;34m\u001b[0m\u001b[0m\n",
            "\u001b[0;32m~/anaconda3/lib/python3.8/site-packages/sklearn/utils/metaestimators.py\u001b[0m in \u001b[0;36m<lambda>\u001b[0;34m(*args, **kwargs)\u001b[0m\n\u001b[1;32m    117\u001b[0m \u001b[0;34m\u001b[0m\u001b[0m\n\u001b[1;32m    118\u001b[0m         \u001b[0;31m# lambda, but not partial, allows help() to work with update_wrapper\u001b[0m\u001b[0;34m\u001b[0m\u001b[0;34m\u001b[0m\u001b[0;34m\u001b[0m\u001b[0m\n\u001b[0;32m--> 119\u001b[0;31m         \u001b[0mout\u001b[0m \u001b[0;34m=\u001b[0m \u001b[0;32mlambda\u001b[0m \u001b[0;34m*\u001b[0m\u001b[0margs\u001b[0m\u001b[0;34m,\u001b[0m \u001b[0;34m**\u001b[0m\u001b[0mkwargs\u001b[0m\u001b[0;34m:\u001b[0m \u001b[0mself\u001b[0m\u001b[0;34m.\u001b[0m\u001b[0mfn\u001b[0m\u001b[0;34m(\u001b[0m\u001b[0mobj\u001b[0m\u001b[0;34m,\u001b[0m \u001b[0;34m*\u001b[0m\u001b[0margs\u001b[0m\u001b[0;34m,\u001b[0m \u001b[0;34m**\u001b[0m\u001b[0mkwargs\u001b[0m\u001b[0;34m)\u001b[0m\u001b[0;34m\u001b[0m\u001b[0;34m\u001b[0m\u001b[0m\n\u001b[0m\u001b[1;32m    120\u001b[0m         \u001b[0;31m# update the docstring of the returned function\u001b[0m\u001b[0;34m\u001b[0m\u001b[0;34m\u001b[0m\u001b[0;34m\u001b[0m\u001b[0m\n\u001b[1;32m    121\u001b[0m         \u001b[0mupdate_wrapper\u001b[0m\u001b[0;34m(\u001b[0m\u001b[0mout\u001b[0m\u001b[0;34m,\u001b[0m \u001b[0mself\u001b[0m\u001b[0;34m.\u001b[0m\u001b[0mfn\u001b[0m\u001b[0;34m)\u001b[0m\u001b[0;34m\u001b[0m\u001b[0;34m\u001b[0m\u001b[0m\n",
            "\u001b[0;32m~/anaconda3/lib/python3.8/site-packages/sklearn/pipeline.py\u001b[0m in \u001b[0;36mpredict\u001b[0;34m(self, X, **predict_params)\u001b[0m\n\u001b[1;32m    405\u001b[0m         \u001b[0mXt\u001b[0m \u001b[0;34m=\u001b[0m \u001b[0mX\u001b[0m\u001b[0;34m\u001b[0m\u001b[0;34m\u001b[0m\u001b[0m\n\u001b[1;32m    406\u001b[0m         \u001b[0;32mfor\u001b[0m \u001b[0m_\u001b[0m\u001b[0;34m,\u001b[0m \u001b[0mname\u001b[0m\u001b[0;34m,\u001b[0m \u001b[0mtransform\u001b[0m \u001b[0;32min\u001b[0m \u001b[0mself\u001b[0m\u001b[0;34m.\u001b[0m\u001b[0m_iter\u001b[0m\u001b[0;34m(\u001b[0m\u001b[0mwith_final\u001b[0m\u001b[0;34m=\u001b[0m\u001b[0;32mFalse\u001b[0m\u001b[0;34m)\u001b[0m\u001b[0;34m:\u001b[0m\u001b[0;34m\u001b[0m\u001b[0;34m\u001b[0m\u001b[0m\n\u001b[0;32m--> 407\u001b[0;31m             \u001b[0mXt\u001b[0m \u001b[0;34m=\u001b[0m \u001b[0mtransform\u001b[0m\u001b[0;34m.\u001b[0m\u001b[0mtransform\u001b[0m\u001b[0;34m(\u001b[0m\u001b[0mXt\u001b[0m\u001b[0;34m)\u001b[0m\u001b[0;34m\u001b[0m\u001b[0;34m\u001b[0m\u001b[0m\n\u001b[0m\u001b[1;32m    408\u001b[0m         \u001b[0;32mreturn\u001b[0m \u001b[0mself\u001b[0m\u001b[0;34m.\u001b[0m\u001b[0msteps\u001b[0m\u001b[0;34m[\u001b[0m\u001b[0;34m-\u001b[0m\u001b[0;36m1\u001b[0m\u001b[0;34m]\u001b[0m\u001b[0;34m[\u001b[0m\u001b[0;34m-\u001b[0m\u001b[0;36m1\u001b[0m\u001b[0;34m]\u001b[0m\u001b[0;34m.\u001b[0m\u001b[0mpredict\u001b[0m\u001b[0;34m(\u001b[0m\u001b[0mXt\u001b[0m\u001b[0;34m,\u001b[0m \u001b[0;34m**\u001b[0m\u001b[0mpredict_params\u001b[0m\u001b[0;34m)\u001b[0m\u001b[0;34m\u001b[0m\u001b[0;34m\u001b[0m\u001b[0m\n\u001b[1;32m    409\u001b[0m \u001b[0;34m\u001b[0m\u001b[0m\n",
            "\u001b[0;32m~/anaconda3/lib/python3.8/site-packages/sklearn/compose/_column_transformer.py\u001b[0m in \u001b[0;36mtransform\u001b[0;34m(self, X)\u001b[0m\n\u001b[1;32m    602\u001b[0m         \u001b[0;31m# TODO: also call _check_n_features(reset=False) in 0.24\u001b[0m\u001b[0;34m\u001b[0m\u001b[0;34m\u001b[0m\u001b[0;34m\u001b[0m\u001b[0m\n\u001b[1;32m    603\u001b[0m         \u001b[0mself\u001b[0m\u001b[0;34m.\u001b[0m\u001b[0m_validate_features\u001b[0m\u001b[0;34m(\u001b[0m\u001b[0mX\u001b[0m\u001b[0;34m.\u001b[0m\u001b[0mshape\u001b[0m\u001b[0;34m[\u001b[0m\u001b[0;36m1\u001b[0m\u001b[0;34m]\u001b[0m\u001b[0;34m,\u001b[0m \u001b[0mX_feature_names\u001b[0m\u001b[0;34m)\u001b[0m\u001b[0;34m\u001b[0m\u001b[0;34m\u001b[0m\u001b[0m\n\u001b[0;32m--> 604\u001b[0;31m         \u001b[0mXs\u001b[0m \u001b[0;34m=\u001b[0m \u001b[0mself\u001b[0m\u001b[0;34m.\u001b[0m\u001b[0m_fit_transform\u001b[0m\u001b[0;34m(\u001b[0m\u001b[0mX\u001b[0m\u001b[0;34m,\u001b[0m \u001b[0;32mNone\u001b[0m\u001b[0;34m,\u001b[0m \u001b[0m_transform_one\u001b[0m\u001b[0;34m,\u001b[0m \u001b[0mfitted\u001b[0m\u001b[0;34m=\u001b[0m\u001b[0;32mTrue\u001b[0m\u001b[0;34m)\u001b[0m\u001b[0;34m\u001b[0m\u001b[0;34m\u001b[0m\u001b[0m\n\u001b[0m\u001b[1;32m    605\u001b[0m         \u001b[0mself\u001b[0m\u001b[0;34m.\u001b[0m\u001b[0m_validate_output\u001b[0m\u001b[0;34m(\u001b[0m\u001b[0mXs\u001b[0m\u001b[0;34m)\u001b[0m\u001b[0;34m\u001b[0m\u001b[0;34m\u001b[0m\u001b[0m\n\u001b[1;32m    606\u001b[0m \u001b[0;34m\u001b[0m\u001b[0m\n",
            "\u001b[0;32m~/anaconda3/lib/python3.8/site-packages/sklearn/compose/_column_transformer.py\u001b[0m in \u001b[0;36m_fit_transform\u001b[0;34m(self, X, y, func, fitted)\u001b[0m\n\u001b[1;32m    456\u001b[0m             self._iter(fitted=fitted, replace_strings=True))\n\u001b[1;32m    457\u001b[0m         \u001b[0;32mtry\u001b[0m\u001b[0;34m:\u001b[0m\u001b[0;34m\u001b[0m\u001b[0;34m\u001b[0m\u001b[0m\n\u001b[0;32m--> 458\u001b[0;31m             return Parallel(n_jobs=self.n_jobs)(\n\u001b[0m\u001b[1;32m    459\u001b[0m                 delayed(func)(\n\u001b[1;32m    460\u001b[0m                     \u001b[0mtransformer\u001b[0m\u001b[0;34m=\u001b[0m\u001b[0mclone\u001b[0m\u001b[0;34m(\u001b[0m\u001b[0mtrans\u001b[0m\u001b[0;34m)\u001b[0m \u001b[0;32mif\u001b[0m \u001b[0;32mnot\u001b[0m \u001b[0mfitted\u001b[0m \u001b[0;32melse\u001b[0m \u001b[0mtrans\u001b[0m\u001b[0;34m,\u001b[0m\u001b[0;34m\u001b[0m\u001b[0;34m\u001b[0m\u001b[0m\n",
            "\u001b[0;32m~/anaconda3/lib/python3.8/site-packages/joblib/parallel.py\u001b[0m in \u001b[0;36m__call__\u001b[0;34m(self, iterable)\u001b[0m\n\u001b[1;32m   1046\u001b[0m             \u001b[0;31m# remaining jobs.\u001b[0m\u001b[0;34m\u001b[0m\u001b[0;34m\u001b[0m\u001b[0;34m\u001b[0m\u001b[0m\n\u001b[1;32m   1047\u001b[0m             \u001b[0mself\u001b[0m\u001b[0;34m.\u001b[0m\u001b[0m_iterating\u001b[0m \u001b[0;34m=\u001b[0m \u001b[0;32mFalse\u001b[0m\u001b[0;34m\u001b[0m\u001b[0;34m\u001b[0m\u001b[0m\n\u001b[0;32m-> 1048\u001b[0;31m             \u001b[0;32mif\u001b[0m \u001b[0mself\u001b[0m\u001b[0;34m.\u001b[0m\u001b[0mdispatch_one_batch\u001b[0m\u001b[0;34m(\u001b[0m\u001b[0miterator\u001b[0m\u001b[0;34m)\u001b[0m\u001b[0;34m:\u001b[0m\u001b[0;34m\u001b[0m\u001b[0;34m\u001b[0m\u001b[0m\n\u001b[0m\u001b[1;32m   1049\u001b[0m                 \u001b[0mself\u001b[0m\u001b[0;34m.\u001b[0m\u001b[0m_iterating\u001b[0m \u001b[0;34m=\u001b[0m \u001b[0mself\u001b[0m\u001b[0;34m.\u001b[0m\u001b[0m_original_iterator\u001b[0m \u001b[0;32mis\u001b[0m \u001b[0;32mnot\u001b[0m \u001b[0;32mNone\u001b[0m\u001b[0;34m\u001b[0m\u001b[0;34m\u001b[0m\u001b[0m\n\u001b[1;32m   1050\u001b[0m \u001b[0;34m\u001b[0m\u001b[0m\n",
            "\u001b[0;32m~/anaconda3/lib/python3.8/site-packages/joblib/parallel.py\u001b[0m in \u001b[0;36mdispatch_one_batch\u001b[0;34m(self, iterator)\u001b[0m\n\u001b[1;32m    864\u001b[0m                 \u001b[0;32mreturn\u001b[0m \u001b[0;32mFalse\u001b[0m\u001b[0;34m\u001b[0m\u001b[0;34m\u001b[0m\u001b[0m\n\u001b[1;32m    865\u001b[0m             \u001b[0;32melse\u001b[0m\u001b[0;34m:\u001b[0m\u001b[0;34m\u001b[0m\u001b[0;34m\u001b[0m\u001b[0m\n\u001b[0;32m--> 866\u001b[0;31m                 \u001b[0mself\u001b[0m\u001b[0;34m.\u001b[0m\u001b[0m_dispatch\u001b[0m\u001b[0;34m(\u001b[0m\u001b[0mtasks\u001b[0m\u001b[0;34m)\u001b[0m\u001b[0;34m\u001b[0m\u001b[0;34m\u001b[0m\u001b[0m\n\u001b[0m\u001b[1;32m    867\u001b[0m                 \u001b[0;32mreturn\u001b[0m \u001b[0;32mTrue\u001b[0m\u001b[0;34m\u001b[0m\u001b[0;34m\u001b[0m\u001b[0m\n\u001b[1;32m    868\u001b[0m \u001b[0;34m\u001b[0m\u001b[0m\n",
            "\u001b[0;32m~/anaconda3/lib/python3.8/site-packages/joblib/parallel.py\u001b[0m in \u001b[0;36m_dispatch\u001b[0;34m(self, batch)\u001b[0m\n\u001b[1;32m    782\u001b[0m         \u001b[0;32mwith\u001b[0m \u001b[0mself\u001b[0m\u001b[0;34m.\u001b[0m\u001b[0m_lock\u001b[0m\u001b[0;34m:\u001b[0m\u001b[0;34m\u001b[0m\u001b[0;34m\u001b[0m\u001b[0m\n\u001b[1;32m    783\u001b[0m             \u001b[0mjob_idx\u001b[0m \u001b[0;34m=\u001b[0m \u001b[0mlen\u001b[0m\u001b[0;34m(\u001b[0m\u001b[0mself\u001b[0m\u001b[0;34m.\u001b[0m\u001b[0m_jobs\u001b[0m\u001b[0;34m)\u001b[0m\u001b[0;34m\u001b[0m\u001b[0;34m\u001b[0m\u001b[0m\n\u001b[0;32m--> 784\u001b[0;31m             \u001b[0mjob\u001b[0m \u001b[0;34m=\u001b[0m \u001b[0mself\u001b[0m\u001b[0;34m.\u001b[0m\u001b[0m_backend\u001b[0m\u001b[0;34m.\u001b[0m\u001b[0mapply_async\u001b[0m\u001b[0;34m(\u001b[0m\u001b[0mbatch\u001b[0m\u001b[0;34m,\u001b[0m \u001b[0mcallback\u001b[0m\u001b[0;34m=\u001b[0m\u001b[0mcb\u001b[0m\u001b[0;34m)\u001b[0m\u001b[0;34m\u001b[0m\u001b[0;34m\u001b[0m\u001b[0m\n\u001b[0m\u001b[1;32m    785\u001b[0m             \u001b[0;31m# A job can complete so quickly than its callback is\u001b[0m\u001b[0;34m\u001b[0m\u001b[0;34m\u001b[0m\u001b[0;34m\u001b[0m\u001b[0m\n\u001b[1;32m    786\u001b[0m             \u001b[0;31m# called before we get here, causing self._jobs to\u001b[0m\u001b[0;34m\u001b[0m\u001b[0;34m\u001b[0m\u001b[0;34m\u001b[0m\u001b[0m\n",
            "\u001b[0;32m~/anaconda3/lib/python3.8/site-packages/joblib/_parallel_backends.py\u001b[0m in \u001b[0;36mapply_async\u001b[0;34m(self, func, callback)\u001b[0m\n\u001b[1;32m    206\u001b[0m     \u001b[0;32mdef\u001b[0m \u001b[0mapply_async\u001b[0m\u001b[0;34m(\u001b[0m\u001b[0mself\u001b[0m\u001b[0;34m,\u001b[0m \u001b[0mfunc\u001b[0m\u001b[0;34m,\u001b[0m \u001b[0mcallback\u001b[0m\u001b[0;34m=\u001b[0m\u001b[0;32mNone\u001b[0m\u001b[0;34m)\u001b[0m\u001b[0;34m:\u001b[0m\u001b[0;34m\u001b[0m\u001b[0;34m\u001b[0m\u001b[0m\n\u001b[1;32m    207\u001b[0m         \u001b[0;34m\"\"\"Schedule a func to be run\"\"\"\u001b[0m\u001b[0;34m\u001b[0m\u001b[0;34m\u001b[0m\u001b[0m\n\u001b[0;32m--> 208\u001b[0;31m         \u001b[0mresult\u001b[0m \u001b[0;34m=\u001b[0m \u001b[0mImmediateResult\u001b[0m\u001b[0;34m(\u001b[0m\u001b[0mfunc\u001b[0m\u001b[0;34m)\u001b[0m\u001b[0;34m\u001b[0m\u001b[0;34m\u001b[0m\u001b[0m\n\u001b[0m\u001b[1;32m    209\u001b[0m         \u001b[0;32mif\u001b[0m \u001b[0mcallback\u001b[0m\u001b[0;34m:\u001b[0m\u001b[0;34m\u001b[0m\u001b[0;34m\u001b[0m\u001b[0m\n\u001b[1;32m    210\u001b[0m             \u001b[0mcallback\u001b[0m\u001b[0;34m(\u001b[0m\u001b[0mresult\u001b[0m\u001b[0;34m)\u001b[0m\u001b[0;34m\u001b[0m\u001b[0;34m\u001b[0m\u001b[0m\n",
            "\u001b[0;32m~/anaconda3/lib/python3.8/site-packages/joblib/_parallel_backends.py\u001b[0m in \u001b[0;36m__init__\u001b[0;34m(self, batch)\u001b[0m\n\u001b[1;32m    570\u001b[0m         \u001b[0;31m# Don't delay the application, to avoid keeping the input\u001b[0m\u001b[0;34m\u001b[0m\u001b[0;34m\u001b[0m\u001b[0;34m\u001b[0m\u001b[0m\n\u001b[1;32m    571\u001b[0m         \u001b[0;31m# arguments in memory\u001b[0m\u001b[0;34m\u001b[0m\u001b[0;34m\u001b[0m\u001b[0;34m\u001b[0m\u001b[0m\n\u001b[0;32m--> 572\u001b[0;31m         \u001b[0mself\u001b[0m\u001b[0;34m.\u001b[0m\u001b[0mresults\u001b[0m \u001b[0;34m=\u001b[0m \u001b[0mbatch\u001b[0m\u001b[0;34m(\u001b[0m\u001b[0;34m)\u001b[0m\u001b[0;34m\u001b[0m\u001b[0;34m\u001b[0m\u001b[0m\n\u001b[0m\u001b[1;32m    573\u001b[0m \u001b[0;34m\u001b[0m\u001b[0m\n\u001b[1;32m    574\u001b[0m     \u001b[0;32mdef\u001b[0m \u001b[0mget\u001b[0m\u001b[0;34m(\u001b[0m\u001b[0mself\u001b[0m\u001b[0;34m)\u001b[0m\u001b[0;34m:\u001b[0m\u001b[0;34m\u001b[0m\u001b[0;34m\u001b[0m\u001b[0m\n",
            "\u001b[0;32m~/anaconda3/lib/python3.8/site-packages/joblib/parallel.py\u001b[0m in \u001b[0;36m__call__\u001b[0;34m(self)\u001b[0m\n\u001b[1;32m    260\u001b[0m         \u001b[0;31m# change the default number of processes to -1\u001b[0m\u001b[0;34m\u001b[0m\u001b[0;34m\u001b[0m\u001b[0;34m\u001b[0m\u001b[0m\n\u001b[1;32m    261\u001b[0m         \u001b[0;32mwith\u001b[0m \u001b[0mparallel_backend\u001b[0m\u001b[0;34m(\u001b[0m\u001b[0mself\u001b[0m\u001b[0;34m.\u001b[0m\u001b[0m_backend\u001b[0m\u001b[0;34m,\u001b[0m \u001b[0mn_jobs\u001b[0m\u001b[0;34m=\u001b[0m\u001b[0mself\u001b[0m\u001b[0;34m.\u001b[0m\u001b[0m_n_jobs\u001b[0m\u001b[0;34m)\u001b[0m\u001b[0;34m:\u001b[0m\u001b[0;34m\u001b[0m\u001b[0;34m\u001b[0m\u001b[0m\n\u001b[0;32m--> 262\u001b[0;31m             return [func(*args, **kwargs)\n\u001b[0m\u001b[1;32m    263\u001b[0m                     for func, args, kwargs in self.items]\n\u001b[1;32m    264\u001b[0m \u001b[0;34m\u001b[0m\u001b[0m\n",
            "\u001b[0;32m~/anaconda3/lib/python3.8/site-packages/joblib/parallel.py\u001b[0m in \u001b[0;36m<listcomp>\u001b[0;34m(.0)\u001b[0m\n\u001b[1;32m    260\u001b[0m         \u001b[0;31m# change the default number of processes to -1\u001b[0m\u001b[0;34m\u001b[0m\u001b[0;34m\u001b[0m\u001b[0;34m\u001b[0m\u001b[0m\n\u001b[1;32m    261\u001b[0m         \u001b[0;32mwith\u001b[0m \u001b[0mparallel_backend\u001b[0m\u001b[0;34m(\u001b[0m\u001b[0mself\u001b[0m\u001b[0;34m.\u001b[0m\u001b[0m_backend\u001b[0m\u001b[0;34m,\u001b[0m \u001b[0mn_jobs\u001b[0m\u001b[0;34m=\u001b[0m\u001b[0mself\u001b[0m\u001b[0;34m.\u001b[0m\u001b[0m_n_jobs\u001b[0m\u001b[0;34m)\u001b[0m\u001b[0;34m:\u001b[0m\u001b[0;34m\u001b[0m\u001b[0;34m\u001b[0m\u001b[0m\n\u001b[0;32m--> 262\u001b[0;31m             return [func(*args, **kwargs)\n\u001b[0m\u001b[1;32m    263\u001b[0m                     for func, args, kwargs in self.items]\n\u001b[1;32m    264\u001b[0m \u001b[0;34m\u001b[0m\u001b[0m\n",
            "\u001b[0;32m~/anaconda3/lib/python3.8/site-packages/sklearn/pipeline.py\u001b[0m in \u001b[0;36m_transform_one\u001b[0;34m(transformer, X, y, weight, **fit_params)\u001b[0m\n\u001b[1;32m    717\u001b[0m \u001b[0;34m\u001b[0m\u001b[0m\n\u001b[1;32m    718\u001b[0m \u001b[0;32mdef\u001b[0m \u001b[0m_transform_one\u001b[0m\u001b[0;34m(\u001b[0m\u001b[0mtransformer\u001b[0m\u001b[0;34m,\u001b[0m \u001b[0mX\u001b[0m\u001b[0;34m,\u001b[0m \u001b[0my\u001b[0m\u001b[0;34m,\u001b[0m \u001b[0mweight\u001b[0m\u001b[0;34m,\u001b[0m \u001b[0;34m**\u001b[0m\u001b[0mfit_params\u001b[0m\u001b[0;34m)\u001b[0m\u001b[0;34m:\u001b[0m\u001b[0;34m\u001b[0m\u001b[0;34m\u001b[0m\u001b[0m\n\u001b[0;32m--> 719\u001b[0;31m     \u001b[0mres\u001b[0m \u001b[0;34m=\u001b[0m \u001b[0mtransformer\u001b[0m\u001b[0;34m.\u001b[0m\u001b[0mtransform\u001b[0m\u001b[0;34m(\u001b[0m\u001b[0mX\u001b[0m\u001b[0;34m)\u001b[0m\u001b[0;34m\u001b[0m\u001b[0;34m\u001b[0m\u001b[0m\n\u001b[0m\u001b[1;32m    720\u001b[0m     \u001b[0;31m# if we have a weight for this transformer, multiply output\u001b[0m\u001b[0;34m\u001b[0m\u001b[0;34m\u001b[0m\u001b[0;34m\u001b[0m\u001b[0m\n\u001b[1;32m    721\u001b[0m     \u001b[0;32mif\u001b[0m \u001b[0mweight\u001b[0m \u001b[0;32mis\u001b[0m \u001b[0;32mNone\u001b[0m\u001b[0;34m:\u001b[0m\u001b[0;34m\u001b[0m\u001b[0;34m\u001b[0m\u001b[0m\n",
            "\u001b[0;32m~/anaconda3/lib/python3.8/site-packages/sklearn/preprocessing/_encoders.py\u001b[0m in \u001b[0;36mtransform\u001b[0;34m(self, X)\u001b[0m\n\u001b[1;32m    698\u001b[0m             \u001b[0mTransformed\u001b[0m \u001b[0minput\u001b[0m\u001b[0;34m.\u001b[0m\u001b[0;34m\u001b[0m\u001b[0;34m\u001b[0m\u001b[0m\n\u001b[1;32m    699\u001b[0m         \"\"\"\n\u001b[0;32m--> 700\u001b[0;31m         \u001b[0mX_int\u001b[0m\u001b[0;34m,\u001b[0m \u001b[0m_\u001b[0m \u001b[0;34m=\u001b[0m \u001b[0mself\u001b[0m\u001b[0;34m.\u001b[0m\u001b[0m_transform\u001b[0m\u001b[0;34m(\u001b[0m\u001b[0mX\u001b[0m\u001b[0;34m)\u001b[0m\u001b[0;34m\u001b[0m\u001b[0;34m\u001b[0m\u001b[0m\n\u001b[0m\u001b[1;32m    701\u001b[0m         \u001b[0;32mreturn\u001b[0m \u001b[0mX_int\u001b[0m\u001b[0;34m.\u001b[0m\u001b[0mastype\u001b[0m\u001b[0;34m(\u001b[0m\u001b[0mself\u001b[0m\u001b[0;34m.\u001b[0m\u001b[0mdtype\u001b[0m\u001b[0;34m,\u001b[0m \u001b[0mcopy\u001b[0m\u001b[0;34m=\u001b[0m\u001b[0;32mFalse\u001b[0m\u001b[0;34m)\u001b[0m\u001b[0;34m\u001b[0m\u001b[0;34m\u001b[0m\u001b[0m\n\u001b[1;32m    702\u001b[0m \u001b[0;34m\u001b[0m\u001b[0m\n",
            "\u001b[0;32m~/anaconda3/lib/python3.8/site-packages/sklearn/preprocessing/_encoders.py\u001b[0m in \u001b[0;36m_transform\u001b[0;34m(self, X, handle_unknown)\u001b[0m\n\u001b[1;32m    122\u001b[0m                     msg = (\"Found unknown categories {0} in column {1}\"\n\u001b[1;32m    123\u001b[0m                            \" during transform\".format(diff, i))\n\u001b[0;32m--> 124\u001b[0;31m                     \u001b[0;32mraise\u001b[0m \u001b[0mValueError\u001b[0m\u001b[0;34m(\u001b[0m\u001b[0mmsg\u001b[0m\u001b[0;34m)\u001b[0m\u001b[0;34m\u001b[0m\u001b[0;34m\u001b[0m\u001b[0m\n\u001b[0m\u001b[1;32m    125\u001b[0m                 \u001b[0;32melse\u001b[0m\u001b[0;34m:\u001b[0m\u001b[0;34m\u001b[0m\u001b[0;34m\u001b[0m\u001b[0m\n\u001b[1;32m    126\u001b[0m                     \u001b[0;31m# Set the problematic rows to an acceptable value and\u001b[0m\u001b[0;34m\u001b[0m\u001b[0;34m\u001b[0m\u001b[0;34m\u001b[0m\u001b[0m\n",
            "\u001b[0;31mValueError\u001b[0m: Found unknown categories ['Rain-Thunderstorm-Tornado'] in column 3 during transform"
          ]
        }
      ]
    },
    {
      "cell_type": "markdown",
      "metadata": {
        "id": "7at4KqJ9QDvp"
      },
      "source": [
        "## Feature importances\n",
        "\n",
        "We can check the feature importances using the function [`sklearn.inspection.permutation_importances`](https://scikit-learn.org/stable/modules/generated/sklearn.inspection.permutation_importance.html). Since the first step of our pipeline adds the new external feature `Max TemperatureC`, we want to apply this transformation after adding `Max TemperatureC`, to check the importances of all features. Indeed, we can perform `sklearn.inspection.permutation_importances` at any stage of the pipeline, as we will see later on.\n",
        "\n",
        "\n",
        "The code below:\n",
        "\n",
        "* performs `transform` on the first step of the pipeline (`pipeline[0]`) producing the transformed train (`X_train_augmented`) and test (`X_test_augmented`) data\n",
        "* the transformed data is used to fit the pipeline from the second step onwards\n",
        "\n",
        "Note that pipelines can be sliced. `pipeline[0]` obtains the first step (tuple) of the pipeline. You can further slice to obtain either the transformer/estimator (first item in each tuple) or column list (second item within each tuple) inside each tuple. For example `pipeline[0][0]` obtains the transformer of the first step of the pipeline (first item of the first tuple)."
      ]
    },
    {
      "cell_type": "code",
      "metadata": {
        "id": "p_wDt8lZQDvp",
        "outputId": "0bad8085-930a-45d0-ef0e-8a4fbb12c361"
      },
      "source": [
        "print(pipeline)"
      ],
      "execution_count": null,
      "outputs": [
        {
          "output_type": "stream",
          "text": [
            "Pipeline(steps=[('functiontransformer-1',\n",
            "                 FunctionTransformer(func=<function _merge_external_data at 0x7fec2cc9e280>)),\n",
            "                ('functiontransformer-2',\n",
            "                 FunctionTransformer(func=<function _encode_dates at 0x7fec3149caf0>)),\n",
            "                ('columntransformer',\n",
            "                 ColumnTransformer(remainder='passthrough',\n",
            "                                   transformers=[('ordinalencoder',\n",
            "                                                  OrdinalEncoder(),\n",
            "                                                  ['Arrival', 'Departure'])])),\n",
            "                ('randomforestregressor',\n",
            "                 RandomForestRegressor(max_depth=10, max_features=10,\n",
            "                                       n_estimators=10))])\n"
          ],
          "name": "stdout"
        }
      ]
    },
    {
      "cell_type": "code",
      "metadata": {
        "id": "tFwsd1GaQDvp"
      },
      "source": [
        ""
      ],
      "execution_count": null,
      "outputs": []
    },
    {
      "cell_type": "code",
      "metadata": {
        "id": "GbO3bvAsQDvp",
        "outputId": "73e85fa8-56f3-40ac-aab5-67f263ed0ab3"
      },
      "source": [
        "from sklearn.model_selection import train_test_split\n",
        "\n",
        "X_train, X_test, y_train, y_test = train_test_split(\n",
        "    X, y, random_state=42\n",
        ")\n",
        "\n",
        "merger = pipeline[0]\n",
        "X_train_augmented = merger.transform(X_train)\n",
        "X_test_augmented = merger.transform(X_test)\n",
        "\n",
        "predictor = pipeline[1:]\n",
        "predictor.fit(X_train_augmented, y_train).score(X_test_augmented, y_test)"
      ],
      "execution_count": null,
      "outputs": [
        {
          "output_type": "execute_result",
          "data": {
            "text/plain": [
              "0.617276332720553"
            ]
          },
          "metadata": {
            "tags": []
          },
          "execution_count": 50
        }
      ]
    },
    {
      "cell_type": "markdown",
      "metadata": {
        "id": "yXV0fC7HQDvp"
      },
      "source": [
        "With the fitted pipeline, we can now use `permutation_importance` to calculate feature importances:"
      ]
    },
    {
      "cell_type": "code",
      "metadata": {
        "id": "6AQALhgCQDvp"
      },
      "source": [
        "from sklearn.inspection import permutation_importance\n",
        "\n",
        "feature_importances = permutation_importance(\n",
        "    predictor, X_train_augmented, y_train, n_repeats=5\n",
        ")"
      ],
      "execution_count": null,
      "outputs": []
    },
    {
      "cell_type": "markdown",
      "metadata": {
        "id": "L_fv9p9bQDvp"
      },
      "source": [
        "Here, we plot the permutation importance using the training set. The higher the value, more important the feature is."
      ]
    },
    {
      "cell_type": "code",
      "metadata": {
        "id": "v_0k_gwTQDvp",
        "outputId": "28b8ece3-a53e-4840-df3a-88bf81aee128"
      },
      "source": [
        "sorted_idx = feature_importances.importances_mean.argsort()\n",
        "\n",
        "fig, ax = plt.subplots()\n",
        "ax.boxplot(feature_importances.importances[sorted_idx].T,\n",
        "           vert=False, labels=X_train_augmented.columns[sorted_idx])\n",
        "ax.set_title(\"Permutation Importances (train set)\")\n",
        "fig.tight_layout()\n",
        "plt.show()"
      ],
      "execution_count": null,
      "outputs": [
        {
          "output_type": "display_data",
          "data": {
            "image/png": "[encoded data removed]",
            "text/plain": [
              "<Figure size 432x288 with 1 Axes>"
            ]
          },
          "metadata": {
            "tags": [],
            "needs_background": "light"
          }
        }
      ]
    },
    {
      "cell_type": "markdown",
      "metadata": {
        "id": "HZNeH-hUQDvp"
      },
      "source": [
        "We can replicate the same processing on the test set and see if we can observe the same trend."
      ]
    },
    {
      "cell_type": "code",
      "metadata": {
        "id": "Gr4fnJELQDvp"
      },
      "source": [
        "from sklearn.inspection import permutation_importance\n",
        "\n",
        "feature_importances = permutation_importance(\n",
        "    predictor, X_test_augmented, y_test, n_repeats=10\n",
        ")"
      ],
      "execution_count": null,
      "outputs": []
    },
    {
      "cell_type": "code",
      "metadata": {
        "id": "iKreXPA_QDvp",
        "outputId": "c9b83e00-bc5b-4dff-8f6d-f75931a4fe45"
      },
      "source": [
        "sorted_idx = feature_importances.importances_mean.argsort()\n",
        "\n",
        "fig, ax = plt.subplots()\n",
        "ax.boxplot(feature_importances.importances[sorted_idx].T,\n",
        "           vert=False, labels=X_test_augmented.columns[sorted_idx])\n",
        "ax.set_title(\"Permutation Importances (test set)\")\n",
        "fig.tight_layout()\n",
        "plt.show()"
      ],
      "execution_count": null,
      "outputs": [
        {
          "output_type": "display_data",
          "data": {
            "image/png": "[encoded data removed]",
            "text/plain": [
              "<Figure size 432x288 with 1 Axes>"
            ]
          },
          "metadata": {
            "tags": [],
            "needs_background": "light"
          }
        }
      ]
    },
    {
      "cell_type": "markdown",
      "metadata": {
        "id": "E0LunXCXQDvq"
      },
      "source": [
        "With the current version of scikit-learn, it is not handy but still possible to check the feature importances at the latest stage of the pipeline (once all features have been preprocessed).\n",
        "\n",
        "The difficult part is to get the name of the features."
      ]
    },
    {
      "cell_type": "code",
      "metadata": {
        "id": "rjlnc7aAQDvq"
      },
      "source": [
        "preprocessor = pipeline[:-1]\n",
        "predictor = pipeline[-1]\n",
        "\n",
        "X_train_augmented = preprocessor.transform(X_train)\n",
        "X_test_augmented = preprocessor.transform(X_test)"
      ],
      "execution_count": null,
      "outputs": []
    },
    {
      "cell_type": "markdown",
      "metadata": {
        "id": "p1GOBSxjQDvq"
      },
      "source": [
        "Let's find out the feature names (in the future, scikit-learn will provide a `get_feature_names` function to handle this case)."
      ]
    },
    {
      "cell_type": "code",
      "metadata": {
        "id": "iJScJnO4QDvq",
        "outputId": "b361af00-f937-4cba-e65c-0933832fe0f2"
      },
      "source": [
        "categorical_cols_name = categorical_cols\n",
        "passthrough_cols_name = (\n",
        "    pipeline[:2].transform(X_train[:1])  # Take only one sample to go fast\n",
        "    .columns[pipeline[2].transformers_[-1][-1]]\n",
        "    .tolist()\n",
        ")\n",
        "feature_names = np.array(\n",
        "    categorical_cols_name + passthrough_cols_name\n",
        ")\n",
        "feature_names"
      ],
      "execution_count": null,
      "outputs": [
        {
          "output_type": "execute_result",
          "data": {
            "text/plain": [
              "array(['Arrival', 'Departure', 'WeeksToDeparture', 'std_wtd',\n",
              "       'Mean TemperatureC', 'year', 'month', 'day', 'weekday', 'week',\n",
              "       'n_days', 'hol_days'], dtype='<U17')"
            ]
          },
          "metadata": {
            "tags": []
          },
          "execution_count": 56
        }
      ]
    },
    {
      "cell_type": "markdown",
      "metadata": {
        "id": "h9kgIzx9QDvq"
      },
      "source": [
        "We can repeat the previous processing at this finer grain, where the transformed date columns are included."
      ]
    },
    {
      "cell_type": "code",
      "metadata": {
        "id": "j7cQKlHBQDvq"
      },
      "source": [
        "from sklearn.inspection import permutation_importance\n",
        "\n",
        "feature_importances = permutation_importance(\n",
        "    predictor, X_train_augmented, y_train, n_repeats=5\n",
        ")"
      ],
      "execution_count": null,
      "outputs": []
    },
    {
      "cell_type": "markdown",
      "metadata": {
        "id": "0ZPzXoexQDvq"
      },
      "source": [
        "Here, we plot the permutation importance using the training set. Basically, higher the value, more important is the feature."
      ]
    },
    {
      "cell_type": "code",
      "metadata": {
        "id": "tZ2ufgQfQDvq",
        "outputId": "8ee00a7c-9bb2-41ac-f5aa-1b455fa5ec56"
      },
      "source": [
        "sorted_idx = feature_importances.importances_mean.argsort()\n",
        "\n",
        "fig, ax = plt.subplots()\n",
        "ax.boxplot(feature_importances.importances[sorted_idx].T,\n",
        "           vert=False, labels=feature_names[sorted_idx])\n",
        "ax.set_title(\"Permutation Importances (train set)\")\n",
        "fig.tight_layout()\n",
        "plt.show()"
      ],
      "execution_count": null,
      "outputs": [
        {
          "output_type": "display_data",
          "data": {
            "image/png": "[encoded data removed]",
            "text/plain": [
              "<Figure size 432x288 with 1 Axes>"
            ]
          },
          "metadata": {
            "tags": [],
            "needs_background": "light"
          }
        }
      ]
    },
    {
      "cell_type": "markdown",
      "metadata": {
        "id": "r1nTsE24QDvq"
      },
      "source": [
        "We can replicate the same processing on the test set and see if we can observe the same trend."
      ]
    },
    {
      "cell_type": "code",
      "metadata": {
        "id": "z_5BTwTMQDvq"
      },
      "source": [
        "from sklearn.inspection import permutation_importance\n",
        "\n",
        "feature_importances = permutation_importance(\n",
        "    predictor, X_test_augmented, y_test, n_repeats=10\n",
        ")"
      ],
      "execution_count": null,
      "outputs": []
    },
    {
      "cell_type": "code",
      "metadata": {
        "id": "2HQjBVMMQDvq",
        "outputId": "5d7833bd-63c8-4a8e-c89a-bae99bc31ad1"
      },
      "source": [
        "sorted_idx = feature_importances.importances_mean.argsort()\n",
        "\n",
        "fig, ax = plt.subplots()\n",
        "ax.boxplot(feature_importances.importances[sorted_idx].T,\n",
        "           vert=False, labels=feature_names[sorted_idx])\n",
        "ax.set_title(\"Permutation Importances (test set)\")\n",
        "fig.tight_layout()\n",
        "plt.show()"
      ],
      "execution_count": null,
      "outputs": [
        {
          "output_type": "display_data",
          "data": {
            "image/png": "[encoded data removed]",
            "text/plain": [
              "<Figure size 432x288 with 1 Axes>"
            ]
          },
          "metadata": {
            "tags": [],
            "needs_background": "light"
          }
        }
      ]
    },
    {
      "cell_type": "markdown",
      "metadata": {
        "id": "87rEM8msQDvq"
      },
      "source": [
        "## Submission\n",
        "\n",
        "To submit your code, you can refer to the [online documentation](https://paris-saclay-cds.github.io/ramp-docs/ramp-workflow/stable/using_kits.html)."
      ]
    }
  ]
}