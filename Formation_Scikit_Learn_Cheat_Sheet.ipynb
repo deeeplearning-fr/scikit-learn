{
  "nbformat": 4,
  "nbformat_minor": 0,
  "metadata": {
    "colab": {
      "name": "Formation Scikit-Learn Cheat Sheet.ipynb",
      "provenance": [],
      "authorship_tag": "ABX9TyNEPKcO2nF3qMd70ms6OiXk",
      "include_colab_link": true
    },
    "kernelspec": {
      "name": "python3",
      "display_name": "Python 3"
    }
  },
  "cells": [
    {
      "cell_type": "markdown",
      "metadata": {
        "id": "view-in-github",
        "colab_type": "text"
      },
      "source": [
        "<a href=\"https://colab.research.google.com/github/deeeplearning-fr/scikit-learn/blob/main/Formation_Scikit_Learn_Cheat_Sheet.ipynb\" target=\"_parent\"><img src=\"https://colab.research.google.com/assets/colab-badge.svg\" alt=\"Open In Colab\"/></a>"
      ]
    },
    {
      "cell_type": "markdown",
      "metadata": {
        "id": "wiaAeZkAab5J"
      },
      "source": [
        "## A Basic Example"
      ]
    },
    {
      "cell_type": "code",
      "metadata": {
        "id": "QSQO84WDadKL",
        "colab": {
          "base_uri": "https://localhost:8080/"
        },
        "outputId": "df422771-403f-47f7-8f82-3f343b9d80bd"
      },
      "source": [
        "from sklearn import neighbors, datasets, preprocessing\n",
        "from sklearn.model_selection import train_test_split\n",
        "from sklearn.metrics import accuracy_score\n",
        "import numpy as np\n",
        "\n",
        "iris = datasets.load_iris()\n",
        "X, y = iris.data[:, :2], iris.target\n",
        "\n",
        "X_train, X_test, y_train, y_test = train_test_split(X, y, random_state=33)\n",
        "\n",
        "scaler = preprocessing.StandardScaler().fit(X_train)\n",
        "X_train = scaler.transform(X_train)\n",
        "X_test = scaler.transform(X_test)\n",
        "\n",
        "knn = neighbors.KNeighborsClassifier(n_neighbors=5)\n",
        "knn.fit(X_train, y_train)\n",
        "\n",
        "y_pred = knn.predict(X_test)\n",
        "accuracy_score(y_test, y_pred)"
      ],
      "execution_count": null,
      "outputs": [
        {
          "output_type": "execute_result",
          "data": {
            "text/plain": [
              "0.631578947368421"
            ]
          },
          "metadata": {
            "tags": []
          },
          "execution_count": 1
        }
      ]
    },
    {
      "cell_type": "markdown",
      "metadata": {
        "id": "d-y4HmLNa9OD"
      },
      "source": [
        "## Loading The Data\n",
        "Your data needs to be numeric and stored as NumPy arrays or SciPy sparse matrices. Other types that are convertible to numeric arrays, such as Pandas DataFrame, are also acceptable."
      ]
    },
    {
      "cell_type": "code",
      "metadata": {
        "id": "mJGRE-jGa4mt"
      },
      "source": [
        "from sklearn import datasets\n",
        "\n",
        "iris = datasets.load_iris()\n",
        "# print(iris)\n",
        "X, y = iris.data, iris.target\n"
      ],
      "execution_count": null,
      "outputs": []
    },
    {
      "cell_type": "markdown",
      "metadata": {
        "id": "DGayg2vFfn05"
      },
      "source": [
        "# Split Data Training And Test Data : sklearn.model_selection"
      ]
    },
    {
      "cell_type": "code",
      "metadata": {
        "id": "l0Jh8BixfrQ8"
      },
      "source": [
        "from sklearn.model_selection import train_test_split\n",
        "\n",
        "X_train, X_test, y_train, y_test = train_test_split(X, y, random_state=33)"
      ],
      "execution_count": null,
      "outputs": []
    },
    {
      "cell_type": "markdown",
      "metadata": {
        "id": "0gt01DIZbh1u"
      },
      "source": [
        "# Preprocessing The Data : sklearn.preprocessing"
      ]
    },
    {
      "cell_type": "markdown",
      "metadata": {
        "id": "4-FMFY7we5rj"
      },
      "source": [
        "### Standardization\n",
        "Standardize features by removing the mean and scaling to unit variance\n",
        "z = (x - u) / s"
      ]
    },
    {
      "cell_type": "code",
      "metadata": {
        "id": "jDuPPB5QbZI6",
        "colab": {
          "base_uri": "https://localhost:8080/"
        },
        "outputId": "43818865-f550-4a29-a13c-87c42eed1f55"
      },
      "source": [
        "from sklearn.preprocessing import StandardScaler\n",
        "\n",
        "scaler = StandardScaler().fit(X_train)\n",
        "standardized_X = scaler.transform(X_train)\n",
        "standardized_X_test = scaler.transform(X_test)\n",
        "standardized_X[:3]"
      ],
      "execution_count": null,
      "outputs": [
        {
          "output_type": "execute_result",
          "data": {
            "text/plain": [
              "array([[-0.91090798, -1.59775374, -0.15379535, -0.14784433],\n",
              "       [-1.0271058 ,  0.08448757, -1.15396123, -1.2248242 ],\n",
              "       [ 0.59966379, -1.59775374,  0.45741713,  0.25602312]])"
            ]
          },
          "metadata": {
            "tags": []
          },
          "execution_count": 4
        }
      ]
    },
    {
      "cell_type": "markdown",
      "metadata": {
        "id": "EqQFIj_fcdMO"
      },
      "source": [
        "### Normalization"
      ]
    },
    {
      "cell_type": "code",
      "metadata": {
        "id": "XaqWBReGbt8U"
      },
      "source": [
        "from sklearn.preprocessing import Normalizer\n",
        "\n",
        "scaler = Normalizer().fit(X_train)\n",
        "normalized_X = scaler.transform(X_train)\n",
        "normalized_X_test = scaler.transform(X_test)"
      ],
      "execution_count": null,
      "outputs": []
    },
    {
      "cell_type": "markdown",
      "metadata": {
        "id": "ltdo7pwBe9Wa"
      },
      "source": [
        "### Binarization"
      ]
    },
    {
      "cell_type": "code",
      "metadata": {
        "id": "dtFRoKsXfBuD"
      },
      "source": [
        "from sklearn.preprocessing import Binarizer\n",
        "\n",
        "binarizer = Binarizer(threshold=0.0).fit(X)\n",
        "binary_X = binarizer.transform(X)"
      ],
      "execution_count": null,
      "outputs": []
    },
    {
      "cell_type": "markdown",
      "metadata": {
        "id": "3t3IByySh5FM"
      },
      "source": [
        "### Encoding Categorical Features"
      ]
    },
    {
      "cell_type": "code",
      "metadata": {
        "id": "zXTztMcPfKsy",
        "colab": {
          "base_uri": "https://localhost:8080/"
        },
        "outputId": "e1e1701a-513e-4e9a-bac1-bfcd3b12a3b3"
      },
      "source": [
        "from sklearn.preprocessing import LabelEncoder\n",
        "\n",
        "enc = LabelEncoder()\n",
        "y = enc.fit_transform(y)\n",
        "y"
      ],
      "execution_count": null,
      "outputs": [
        {
          "output_type": "execute_result",
          "data": {
            "text/plain": [
              "array([0, 0, 0, 0, 0, 0, 0, 0, 0, 0, 0, 0, 0, 0, 0, 0, 0, 0, 0, 0, 0, 0,\n",
              "       0, 0, 0, 0, 0, 0, 0, 0, 0, 0, 0, 0, 0, 0, 0, 0, 0, 0, 0, 0, 0, 0,\n",
              "       0, 0, 0, 0, 0, 0, 1, 1, 1, 1, 1, 1, 1, 1, 1, 1, 1, 1, 1, 1, 1, 1,\n",
              "       1, 1, 1, 1, 1, 1, 1, 1, 1, 1, 1, 1, 1, 1, 1, 1, 1, 1, 1, 1, 1, 1,\n",
              "       1, 1, 1, 1, 1, 1, 1, 1, 1, 1, 1, 1, 2, 2, 2, 2, 2, 2, 2, 2, 2, 2,\n",
              "       2, 2, 2, 2, 2, 2, 2, 2, 2, 2, 2, 2, 2, 2, 2, 2, 2, 2, 2, 2, 2, 2,\n",
              "       2, 2, 2, 2, 2, 2, 2, 2, 2, 2, 2, 2, 2, 2, 2, 2, 2, 2])"
            ]
          },
          "metadata": {
            "tags": []
          },
          "execution_count": 7
        }
      ]
    },
    {
      "cell_type": "markdown",
      "metadata": {
        "id": "7X5v-0R2kvd_"
      },
      "source": [
        "### Imputing Missing Values"
      ]
    },
    {
      "cell_type": "code",
      "metadata": {
        "id": "p7Vh6vqyiAF_",
        "colab": {
          "base_uri": "https://localhost:8080/"
        },
        "outputId": "b97431ec-28ea-40dc-969c-2af4ecc80af6"
      },
      "source": [
        "from sklearn.impute import SimpleImputer\n",
        "\n",
        "imp = SimpleImputer(missing_values=0, strategy='mean')\n",
        "imp.fit_transform(X_train)"
      ],
      "execution_count": null,
      "outputs": [
        {
          "output_type": "execute_result",
          "data": {
            "text/plain": [
              "array([[5. , 2.3, 3.3, 1. ],\n",
              "       [4.9, 3.1, 1.5, 0.2],\n",
              "       [6.3, 2.3, 4.4, 1.3],\n",
              "       [5.8, 2.6, 4. , 1.2],\n",
              "       [6.2, 2.9, 4.3, 1.3],\n",
              "       [4.7, 3.2, 1.3, 0.2],\n",
              "       [4.6, 3.4, 1.4, 0.3],\n",
              "       [5.1, 2.5, 3. , 1.1],\n",
              "       [4.8, 3.4, 1.6, 0.2],\n",
              "       [7.9, 3.8, 6.4, 2. ],\n",
              "       [5.1, 3.4, 1.5, 0.2],\n",
              "       [5.1, 3.7, 1.5, 0.4],\n",
              "       [5.6, 2.9, 3.6, 1.3],\n",
              "       [6.5, 3. , 5.5, 1.8],\n",
              "       [5.4, 3.9, 1.7, 0.4],\n",
              "       [7. , 3.2, 4.7, 1.4],\n",
              "       [5.8, 2.8, 5.1, 2.4],\n",
              "       [7.7, 2.6, 6.9, 2.3],\n",
              "       [5.5, 2.5, 4. , 1.3],\n",
              "       [5.9, 3.2, 4.8, 1.8],\n",
              "       [4.9, 3.6, 1.4, 0.1],\n",
              "       [4.5, 2.3, 1.3, 0.3],\n",
              "       [6.3, 2.8, 5.1, 1.5],\n",
              "       [4.4, 2.9, 1.4, 0.2],\n",
              "       [5. , 3.6, 1.4, 0.2],\n",
              "       [7.2, 3. , 5.8, 1.6],\n",
              "       [6. , 3.4, 4.5, 1.6],\n",
              "       [6.2, 2.2, 4.5, 1.5],\n",
              "       [7.4, 2.8, 6.1, 1.9],\n",
              "       [6.8, 3. , 5.5, 2.1],\n",
              "       [6.4, 2.8, 5.6, 2.2],\n",
              "       [5.7, 2.5, 5. , 2. ],\n",
              "       [5. , 3.5, 1.6, 0.6],\n",
              "       [5.1, 3.8, 1.5, 0.3],\n",
              "       [6.8, 2.8, 4.8, 1.4],\n",
              "       [5.2, 2.7, 3.9, 1.4],\n",
              "       [5.1, 3.8, 1.6, 0.2],\n",
              "       [5.6, 2.5, 3.9, 1.1],\n",
              "       [6.1, 3. , 4.9, 1.8],\n",
              "       [6.6, 2.9, 4.6, 1.3],\n",
              "       [6.4, 2.8, 5.6, 2.1],\n",
              "       [4.3, 3. , 1.1, 0.1],\n",
              "       [7.2, 3.6, 6.1, 2.5],\n",
              "       [5.1, 3.5, 1.4, 0.2],\n",
              "       [6.3, 2.5, 4.9, 1.5],\n",
              "       [4.4, 3.2, 1.3, 0.2],\n",
              "       [7.6, 3. , 6.6, 2.1],\n",
              "       [6.4, 3.2, 4.5, 1.5],\n",
              "       [5.1, 3.8, 1.9, 0.4],\n",
              "       [6.5, 3.2, 5.1, 2. ],\n",
              "       [6.3, 2.7, 4.9, 1.8],\n",
              "       [5. , 3.5, 1.3, 0.3],\n",
              "       [5.2, 3.4, 1.4, 0.2],\n",
              "       [6.4, 2.7, 5.3, 1.9],\n",
              "       [5.8, 4. , 1.2, 0.2],\n",
              "       [5.7, 4.4, 1.5, 0.4],\n",
              "       [4.6, 3.2, 1.4, 0.2],\n",
              "       [6.9, 3.1, 5.4, 2.1],\n",
              "       [6.3, 2.9, 5.6, 1.8],\n",
              "       [5.5, 3.5, 1.3, 0.2],\n",
              "       [5.7, 2.6, 3.5, 1. ],\n",
              "       [5. , 3.3, 1.4, 0.2],\n",
              "       [6. , 2.2, 4. , 1. ],\n",
              "       [4.9, 3. , 1.4, 0.2],\n",
              "       [5. , 2. , 3.5, 1. ],\n",
              "       [6.6, 3. , 4.4, 1.4],\n",
              "       [5.7, 2.8, 4.5, 1.3],\n",
              "       [5.5, 2.6, 4.4, 1.2],\n",
              "       [5.5, 2.3, 4. , 1.3],\n",
              "       [4.8, 3.1, 1.6, 0.2],\n",
              "       [6. , 2.9, 4.5, 1.5],\n",
              "       [5. , 3. , 1.6, 0.2],\n",
              "       [6.9, 3.1, 4.9, 1.5],\n",
              "       [6.7, 2.5, 5.8, 1.8],\n",
              "       [5.3, 3.7, 1.5, 0.2],\n",
              "       [5.2, 4.1, 1.5, 0.1],\n",
              "       [5. , 3.4, 1.6, 0.4],\n",
              "       [4.6, 3.6, 1. , 0.2],\n",
              "       [7.7, 3.8, 6.7, 2.2],\n",
              "       [7.3, 2.9, 6.3, 1.8],\n",
              "       [4.6, 3.1, 1.5, 0.2],\n",
              "       [5.5, 2.4, 3.7, 1. ],\n",
              "       [5.8, 2.7, 3.9, 1.2],\n",
              "       [6.7, 3.3, 5.7, 2.1],\n",
              "       [5.8, 2.7, 4.1, 1. ],\n",
              "       [5.4, 3.7, 1.5, 0.2],\n",
              "       [5. , 3.4, 1.5, 0.2],\n",
              "       [6. , 2.7, 5.1, 1.6],\n",
              "       [5.7, 2.8, 4.1, 1.3],\n",
              "       [6.1, 2.8, 4.7, 1.2],\n",
              "       [5.1, 3.3, 1.7, 0.5],\n",
              "       [5.6, 3. , 4.1, 1.3],\n",
              "       [5.4, 3. , 4.5, 1.5],\n",
              "       [5.4, 3.9, 1.3, 0.4],\n",
              "       [6.7, 3.3, 5.7, 2.5],\n",
              "       [4.9, 2.5, 4.5, 1.7],\n",
              "       [6.2, 3.4, 5.4, 2.3],\n",
              "       [5.5, 2.4, 3.8, 1.1],\n",
              "       [7.7, 2.8, 6.7, 2. ],\n",
              "       [5.4, 3.4, 1.5, 0.4],\n",
              "       [6.7, 3. , 5. , 1.7],\n",
              "       [5.5, 4.2, 1.4, 0.2],\n",
              "       [5. , 3.2, 1.2, 0.2],\n",
              "       [4.8, 3. , 1.4, 0.3],\n",
              "       [5.8, 2.7, 5.1, 1.9],\n",
              "       [5.9, 3. , 4.2, 1.5],\n",
              "       [7.1, 3. , 5.9, 2.1],\n",
              "       [4.9, 2.4, 3.3, 1. ],\n",
              "       [6.3, 2.5, 5. , 1.9],\n",
              "       [5.6, 3. , 4.5, 1.5],\n",
              "       [7.7, 3. , 6.1, 2.3],\n",
              "       [5.4, 3.4, 1.7, 0.2]])"
            ]
          },
          "metadata": {
            "tags": []
          },
          "execution_count": 8
        }
      ]
    },
    {
      "cell_type": "markdown",
      "metadata": {
        "id": "d3tF48K9ldV2"
      },
      "source": [
        "### Generating Polynomial Features"
      ]
    },
    {
      "cell_type": "code",
      "metadata": {
        "id": "gV47Yg_olEEF",
        "colab": {
          "base_uri": "https://localhost:8080/"
        },
        "outputId": "ef8723f1-94b3-4a4b-c7d8-8dbb57863d08"
      },
      "source": [
        "from sklearn.preprocessing import PolynomialFeatures\n",
        "poly = PolynomialFeatures(5)\n",
        "poly.fit_transform(X)"
      ],
      "execution_count": null,
      "outputs": [
        {
          "output_type": "execute_result",
          "data": {
            "text/plain": [
              "array([[1.0000000e+00, 5.1000000e+00, 3.5000000e+00, ..., 1.5680000e-02,\n",
              "        2.2400000e-03, 3.2000000e-04],\n",
              "       [1.0000000e+00, 4.9000000e+00, 3.0000000e+00, ..., 1.5680000e-02,\n",
              "        2.2400000e-03, 3.2000000e-04],\n",
              "       [1.0000000e+00, 4.7000000e+00, 3.2000000e+00, ..., 1.3520000e-02,\n",
              "        2.0800000e-03, 3.2000000e-04],\n",
              "       ...,\n",
              "       [1.0000000e+00, 6.5000000e+00, 3.0000000e+00, ..., 2.1632000e+02,\n",
              "        8.3200000e+01, 3.2000000e+01],\n",
              "       [1.0000000e+00, 6.2000000e+00, 3.4000000e+00, ..., 3.5478972e+02,\n",
              "        1.5111414e+02, 6.4363430e+01],\n",
              "       [1.0000000e+00, 5.9000000e+00, 3.0000000e+00, ..., 1.5169032e+02,\n",
              "        5.3537760e+01, 1.8895680e+01]])"
            ]
          },
          "metadata": {
            "tags": []
          },
          "execution_count": 9
        }
      ]
    },
    {
      "cell_type": "markdown",
      "metadata": {
        "id": "fncxjJenluNP"
      },
      "source": [
        "____________________________________________________________________\n",
        "# Create Your Model\n",
        "____________________________________________________________________"
      ]
    },
    {
      "cell_type": "markdown",
      "metadata": {
        "id": "KPb1VSXHmDi9"
      },
      "source": [
        ">## Supervised Learning Estimators"
      ]
    },
    {
      "cell_type": "markdown",
      "metadata": {
        "id": "gKe70z_rmISS"
      },
      "source": [
        ">>### Linear Regression"
      ]
    },
    {
      "cell_type": "code",
      "metadata": {
        "id": "2qT-kyTLllER"
      },
      "source": [
        "from sklearn.linear_model import LinearRegression\n",
        "\n",
        "lr = LinearRegression(normalize=True)"
      ],
      "execution_count": null,
      "outputs": []
    },
    {
      "cell_type": "markdown",
      "metadata": {
        "id": "TdzfU-qd8xaV"
      },
      "source": [
        ">>### Ridge regression"
      ]
    },
    {
      "cell_type": "code",
      "metadata": {
        "id": "-clXXjTj9A4A",
        "colab": {
          "base_uri": "https://localhost:8080/"
        },
        "outputId": "46e1978d-d417-439e-a0c0-84723e317be2"
      },
      "source": [
        "from sklearn import linear_model\n",
        "\n",
        "reg = linear_model.Ridge(alpha=.5)\n",
        "reg.fit([[0, 0], [0, 0], [1, 1]], [0, .1, 1])\n",
        "\n",
        "print(reg.coef_)\n",
        "print(reg.intercept_)\n"
      ],
      "execution_count": null,
      "outputs": [
        {
          "output_type": "stream",
          "text": [
            "[0.34545455 0.34545455]\n",
            "0.13636363636363638\n"
          ],
          "name": "stdout"
        }
      ]
    },
    {
      "cell_type": "markdown",
      "metadata": {
        "id": "5fRiq50bmoTR"
      },
      "source": [
        ">>### Support Vector Machines (SVM)"
      ]
    },
    {
      "cell_type": "code",
      "metadata": {
        "id": "bX71GEfqmYNA"
      },
      "source": [
        "from sklearn.svm import SVC\n",
        "\n",
        "svc = SVC(kernel='linear')"
      ],
      "execution_count": null,
      "outputs": []
    },
    {
      "cell_type": "markdown",
      "metadata": {
        "id": "m1NVhajrm30m"
      },
      "source": [
        ">>### Naive Bayes"
      ]
    },
    {
      "cell_type": "code",
      "metadata": {
        "id": "1pextIIbm2BC"
      },
      "source": [
        "from sklearn.naive_bayes import GaussianNB\n",
        "gnb = GaussianNB()"
      ],
      "execution_count": null,
      "outputs": []
    },
    {
      "cell_type": "markdown",
      "metadata": {
        "id": "nAdEvLyQnNOy"
      },
      "source": [
        ">>### KNN"
      ]
    },
    {
      "cell_type": "code",
      "metadata": {
        "id": "wndzxZL3nGvM"
      },
      "source": [
        "from sklearn import neighbors\n",
        "knn = neighbors.KNeighborsClassifier(n_neighbors=5)"
      ],
      "execution_count": null,
      "outputs": []
    },
    {
      "cell_type": "markdown",
      "metadata": {
        "id": "mbEtT36lng-6"
      },
      "source": [
        ">## Unsupervised Learning Estimators"
      ]
    },
    {
      "cell_type": "markdown",
      "metadata": {
        "id": "WCCxeEUNnmgp"
      },
      "source": [
        ">>### Principal Component Analysis (PCA)"
      ]
    },
    {
      "cell_type": "code",
      "metadata": {
        "id": "4sFXtwR9nfRh"
      },
      "source": [
        "from sklearn.decomposition import PCA\n",
        "pca = PCA(n_components=0.95)"
      ],
      "execution_count": null,
      "outputs": []
    },
    {
      "cell_type": "markdown",
      "metadata": {
        "id": "2bfNQajqn2cq"
      },
      "source": [
        ">>### K Means"
      ]
    },
    {
      "cell_type": "code",
      "metadata": {
        "id": "wE9noo9Nn1Ce"
      },
      "source": [
        "from sklearn.cluster import KMeans\n",
        "k_means = KMeans(n_clusters=3, random_state=0)"
      ],
      "execution_count": null,
      "outputs": []
    },
    {
      "cell_type": "markdown",
      "metadata": {
        "id": "FX_74q-JoJl7"
      },
      "source": [
        "____________________________________________________________________\n",
        "# Model Fitting\n",
        "____________________________________________________________________"
      ]
    },
    {
      "cell_type": "markdown",
      "metadata": {
        "id": "hCofgpRUoazm"
      },
      "source": [
        ">### Supervised learning"
      ]
    },
    {
      "cell_type": "code",
      "metadata": {
        "id": "JFIwlL5boL8c",
        "colab": {
          "base_uri": "https://localhost:8080/"
        },
        "outputId": "142152ac-8f09-4e39-f000-706025837716"
      },
      "source": [
        "lr.fit(X, y)\n",
        "knn.fit(X_train, y_train)\n",
        "svc.fit(X_train, y_train)"
      ],
      "execution_count": null,
      "outputs": [
        {
          "output_type": "execute_result",
          "data": {
            "text/plain": [
              "SVC(C=1.0, break_ties=False, cache_size=200, class_weight=None, coef0=0.0,\n",
              "    decision_function_shape='ovr', degree=3, gamma='scale', kernel='linear',\n",
              "    max_iter=-1, probability=False, random_state=None, shrinking=True,\n",
              "    tol=0.001, verbose=False)"
            ]
          },
          "metadata": {
            "tags": []
          },
          "execution_count": 23
        }
      ]
    },
    {
      "cell_type": "markdown",
      "metadata": {
        "id": "leQTK7NQo5PQ"
      },
      "source": [
        ">### Unsupervised Learning"
      ]
    },
    {
      "cell_type": "code",
      "metadata": {
        "id": "ZHSuOd5-o_aP"
      },
      "source": [
        "k_means.fit(X_train)\n",
        "pca_model = pca.fit_transform(X_train)"
      ],
      "execution_count": null,
      "outputs": []
    },
    {
      "cell_type": "markdown",
      "metadata": {
        "id": "kdXGcOqzpNH2"
      },
      "source": [
        "____________________________________________________________________\n",
        "# Prediction\n",
        "____________________________________________________________________"
      ]
    },
    {
      "cell_type": "markdown",
      "metadata": {
        "id": "jyKFq_AKqxW0"
      },
      "source": [
        ">### Supervised Estimators"
      ]
    },
    {
      "cell_type": "code",
      "metadata": {
        "id": "J-BKIM4spKm8"
      },
      "source": [
        "y_pred = svc.predict(np.random.random((2,4)))\n",
        "y_pred = lr.predict(X_test)\n",
        "y_pred = knn.predict_proba(X_test)"
      ],
      "execution_count": null,
      "outputs": []
    },
    {
      "cell_type": "markdown",
      "metadata": {
        "id": "4FYj4YUnrIGt"
      },
      "source": [
        ">### Unsupervised Estimators"
      ]
    },
    {
      "cell_type": "code",
      "metadata": {
        "id": "lmOVXUcEq-WJ"
      },
      "source": [
        "y_pred = k_means.predict(X_test)"
      ],
      "execution_count": null,
      "outputs": []
    },
    {
      "cell_type": "markdown",
      "metadata": {
        "id": "XKHWvqrtrg8-"
      },
      "source": [
        "____________________________________________________________________\n",
        "# Evaluate Your Model's Performance\n",
        "____________________________________________________________________"
      ]
    },
    {
      "cell_type": "markdown",
      "metadata": {
        "id": "javHzcsdruBf"
      },
      "source": [
        ">## Classification Metrics"
      ]
    },
    {
      "cell_type": "markdown",
      "metadata": {
        "id": "8bWY73pLr0M0"
      },
      "source": [
        ">>### Accuracy Score"
      ]
    },
    {
      "cell_type": "code",
      "metadata": {
        "id": "5GAIUljYri4h",
        "colab": {
          "base_uri": "https://localhost:8080/"
        },
        "outputId": "400f2cec-8cab-4f54-dd8e-fd6685ed5424"
      },
      "source": [
        "knn.score(X_test, y_test)\n",
        "\n",
        "from sklearn.metrics import accuracy_score\n",
        "accuracy_score(y_test, y_pred)"
      ],
      "execution_count": null,
      "outputs": [
        {
          "output_type": "execute_result",
          "data": {
            "text/plain": [
              "0.34210526315789475"
            ]
          },
          "metadata": {
            "tags": []
          },
          "execution_count": 27
        }
      ]
    },
    {
      "cell_type": "markdown",
      "metadata": {
        "id": "G97JAudjsDNH"
      },
      "source": [
        ">>### Classification Report"
      ]
    },
    {
      "cell_type": "code",
      "metadata": {
        "id": "LjXsZwiWr_xx",
        "colab": {
          "base_uri": "https://localhost:8080/"
        },
        "outputId": "1d3190b8-5bb8-470b-bba8-e255c90f6e7a"
      },
      "source": [
        "from sklearn.metrics import classification_report\n",
        "print(classification_report(y_test, y_pred))"
      ],
      "execution_count": null,
      "outputs": [
        {
          "output_type": "stream",
          "text": [
            "              precision    recall  f1-score   support\n",
            "\n",
            "           0       0.00      0.00      0.00         8\n",
            "           1       0.00      0.00      0.00        11\n",
            "           2       1.00      0.68      0.81        19\n",
            "\n",
            "    accuracy                           0.34        38\n",
            "   macro avg       0.33      0.23      0.27        38\n",
            "weighted avg       0.50      0.34      0.41        38\n",
            "\n"
          ],
          "name": "stdout"
        }
      ]
    },
    {
      "cell_type": "markdown",
      "metadata": {
        "id": "DseL7la8sUrZ"
      },
      "source": [
        ">>### Confusion Matrix"
      ]
    },
    {
      "cell_type": "code",
      "metadata": {
        "id": "G3Rm-gs-sNkn",
        "colab": {
          "base_uri": "https://localhost:8080/"
        },
        "outputId": "a017e6cf-851e-4994-e878-fe706880261d"
      },
      "source": [
        "from sklearn.metrics import confusion_matrix\n",
        "print(confusion_matrix(y_test, y_pred))"
      ],
      "execution_count": null,
      "outputs": [
        {
          "output_type": "stream",
          "text": [
            "[[ 0  8  0]\n",
            " [11  0  0]\n",
            " [ 6  0 13]]\n"
          ],
          "name": "stdout"
        }
      ]
    },
    {
      "cell_type": "markdown",
      "metadata": {
        "id": "_Kfbx42dshLJ"
      },
      "source": [
        ">## Regression Metrics"
      ]
    },
    {
      "cell_type": "markdown",
      "metadata": {
        "id": "NnyqBzz6spMz"
      },
      "source": [
        ">>### Mean Absolute Error"
      ]
    },
    {
      "cell_type": "code",
      "metadata": {
        "id": "o6U9S3d2saeJ",
        "colab": {
          "base_uri": "https://localhost:8080/",
          "height": 352
        },
        "outputId": "518750f0-d52a-4453-d396-21793c999dec"
      },
      "source": [
        "from sklearn.metrics import mean_absolute_error\n",
        "y_true = [3, -0.5, 2]\n",
        "mean_absolute_error(y_true, y_pred)"
      ],
      "execution_count": null,
      "outputs": [
        {
          "output_type": "error",
          "ename": "ValueError",
          "evalue": "ignored",
          "traceback": [
            "\u001b[0;31m---------------------------------------------------------------------------\u001b[0m",
            "\u001b[0;31mValueError\u001b[0m                                Traceback (most recent call last)",
            "\u001b[0;32m<ipython-input-30-4143dfc5f245>\u001b[0m in \u001b[0;36m<module>\u001b[0;34m()\u001b[0m\n\u001b[1;32m      1\u001b[0m \u001b[0;32mfrom\u001b[0m \u001b[0msklearn\u001b[0m\u001b[0;34m.\u001b[0m\u001b[0mmetrics\u001b[0m \u001b[0;32mimport\u001b[0m \u001b[0mmean_absolute_error\u001b[0m\u001b[0;34m\u001b[0m\u001b[0;34m\u001b[0m\u001b[0m\n\u001b[1;32m      2\u001b[0m \u001b[0my_true\u001b[0m \u001b[0;34m=\u001b[0m \u001b[0;34m[\u001b[0m\u001b[0;36m3\u001b[0m\u001b[0;34m,\u001b[0m \u001b[0;34m-\u001b[0m\u001b[0;36m0.5\u001b[0m\u001b[0;34m,\u001b[0m \u001b[0;36m2\u001b[0m\u001b[0;34m]\u001b[0m\u001b[0;34m\u001b[0m\u001b[0;34m\u001b[0m\u001b[0m\n\u001b[0;32m----> 3\u001b[0;31m \u001b[0mmean_absolute_error\u001b[0m\u001b[0;34m(\u001b[0m\u001b[0my_true\u001b[0m\u001b[0;34m,\u001b[0m \u001b[0my_pred\u001b[0m\u001b[0;34m)\u001b[0m\u001b[0;34m\u001b[0m\u001b[0;34m\u001b[0m\u001b[0m\n\u001b[0m",
            "\u001b[0;32m/usr/local/lib/python3.6/dist-packages/sklearn/metrics/_regression.py\u001b[0m in \u001b[0;36mmean_absolute_error\u001b[0;34m(y_true, y_pred, sample_weight, multioutput)\u001b[0m\n\u001b[1;32m    176\u001b[0m     \"\"\"\n\u001b[1;32m    177\u001b[0m     y_type, y_true, y_pred, multioutput = _check_reg_targets(\n\u001b[0;32m--> 178\u001b[0;31m         y_true, y_pred, multioutput)\n\u001b[0m\u001b[1;32m    179\u001b[0m     \u001b[0mcheck_consistent_length\u001b[0m\u001b[0;34m(\u001b[0m\u001b[0my_true\u001b[0m\u001b[0;34m,\u001b[0m \u001b[0my_pred\u001b[0m\u001b[0;34m,\u001b[0m \u001b[0msample_weight\u001b[0m\u001b[0;34m)\u001b[0m\u001b[0;34m\u001b[0m\u001b[0;34m\u001b[0m\u001b[0m\n\u001b[1;32m    180\u001b[0m     output_errors = np.average(np.abs(y_pred - y_true),\n",
            "\u001b[0;32m/usr/local/lib/python3.6/dist-packages/sklearn/metrics/_regression.py\u001b[0m in \u001b[0;36m_check_reg_targets\u001b[0;34m(y_true, y_pred, multioutput, dtype)\u001b[0m\n\u001b[1;32m     82\u001b[0m \u001b[0;34m\u001b[0m\u001b[0m\n\u001b[1;32m     83\u001b[0m     \"\"\"\n\u001b[0;32m---> 84\u001b[0;31m     \u001b[0mcheck_consistent_length\u001b[0m\u001b[0;34m(\u001b[0m\u001b[0my_true\u001b[0m\u001b[0;34m,\u001b[0m \u001b[0my_pred\u001b[0m\u001b[0;34m)\u001b[0m\u001b[0;34m\u001b[0m\u001b[0;34m\u001b[0m\u001b[0m\n\u001b[0m\u001b[1;32m     85\u001b[0m     \u001b[0my_true\u001b[0m \u001b[0;34m=\u001b[0m \u001b[0mcheck_array\u001b[0m\u001b[0;34m(\u001b[0m\u001b[0my_true\u001b[0m\u001b[0;34m,\u001b[0m \u001b[0mensure_2d\u001b[0m\u001b[0;34m=\u001b[0m\u001b[0;32mFalse\u001b[0m\u001b[0;34m,\u001b[0m \u001b[0mdtype\u001b[0m\u001b[0;34m=\u001b[0m\u001b[0mdtype\u001b[0m\u001b[0;34m)\u001b[0m\u001b[0;34m\u001b[0m\u001b[0;34m\u001b[0m\u001b[0m\n\u001b[1;32m     86\u001b[0m     \u001b[0my_pred\u001b[0m \u001b[0;34m=\u001b[0m \u001b[0mcheck_array\u001b[0m\u001b[0;34m(\u001b[0m\u001b[0my_pred\u001b[0m\u001b[0;34m,\u001b[0m \u001b[0mensure_2d\u001b[0m\u001b[0;34m=\u001b[0m\u001b[0;32mFalse\u001b[0m\u001b[0;34m,\u001b[0m \u001b[0mdtype\u001b[0m\u001b[0;34m=\u001b[0m\u001b[0mdtype\u001b[0m\u001b[0;34m)\u001b[0m\u001b[0;34m\u001b[0m\u001b[0;34m\u001b[0m\u001b[0m\n",
            "\u001b[0;32m/usr/local/lib/python3.6/dist-packages/sklearn/utils/validation.py\u001b[0m in \u001b[0;36mcheck_consistent_length\u001b[0;34m(*arrays)\u001b[0m\n\u001b[1;32m    210\u001b[0m     \u001b[0;32mif\u001b[0m \u001b[0mlen\u001b[0m\u001b[0;34m(\u001b[0m\u001b[0muniques\u001b[0m\u001b[0;34m)\u001b[0m \u001b[0;34m>\u001b[0m \u001b[0;36m1\u001b[0m\u001b[0;34m:\u001b[0m\u001b[0;34m\u001b[0m\u001b[0;34m\u001b[0m\u001b[0m\n\u001b[1;32m    211\u001b[0m         raise ValueError(\"Found input variables with inconsistent numbers of\"\n\u001b[0;32m--> 212\u001b[0;31m                          \" samples: %r\" % [int(l) for l in lengths])\n\u001b[0m\u001b[1;32m    213\u001b[0m \u001b[0;34m\u001b[0m\u001b[0m\n\u001b[1;32m    214\u001b[0m \u001b[0;34m\u001b[0m\u001b[0m\n",
            "\u001b[0;31mValueError\u001b[0m: Found input variables with inconsistent numbers of samples: [3, 38]"
          ]
        }
      ]
    },
    {
      "cell_type": "markdown",
      "metadata": {
        "id": "qvzh3LCUs9DO"
      },
      "source": [
        ">>### Mean Squared Error"
      ]
    },
    {
      "cell_type": "code",
      "metadata": {
        "id": "r_pj57e6s1ih"
      },
      "source": [
        "from sklearn.metrics import mean_squared_error\n",
        "mean_squared_error(y_test, y_pred)"
      ],
      "execution_count": null,
      "outputs": []
    },
    {
      "cell_type": "markdown",
      "metadata": {
        "id": "7XyKrKfyuTJP"
      },
      "source": [
        ">>### R2 Score"
      ]
    },
    {
      "cell_type": "code",
      "metadata": {
        "id": "_3UPKuSUtDq9"
      },
      "source": [
        "from sklearn.metrics import r2_score\n",
        "r2_score(y_true, y_pred)"
      ],
      "execution_count": null,
      "outputs": []
    },
    {
      "cell_type": "markdown",
      "metadata": {
        "id": "MzNTsJJkufQz"
      },
      "source": [
        ">## Clustering Metrics"
      ]
    },
    {
      "cell_type": "markdown",
      "metadata": {
        "id": "TqVrnuJKuryb"
      },
      "source": [
        ">>### Adjusted Rand Index"
      ]
    },
    {
      "cell_type": "code",
      "metadata": {
        "id": "Yv7Yij16uaDJ"
      },
      "source": [
        "from sklearn.metrics import adjusted_rand_score\n",
        "adjusted_rand_score(y_true, y_pred)"
      ],
      "execution_count": null,
      "outputs": []
    },
    {
      "cell_type": "markdown",
      "metadata": {
        "id": "BLID4cJ6u1oM"
      },
      "source": [
        ">>### Homogeneity"
      ]
    },
    {
      "cell_type": "code",
      "metadata": {
        "id": "mS9F147huyMX"
      },
      "source": [
        "from sklearn.metrics import homogeneity_score\n",
        "homogeneity_score(y_true, y_pred)"
      ],
      "execution_count": null,
      "outputs": []
    },
    {
      "cell_type": "markdown",
      "metadata": {
        "id": "tnT_G6SnvFHE"
      },
      "source": [
        ">>### V-measure"
      ]
    },
    {
      "cell_type": "code",
      "metadata": {
        "id": "QPI54MlqvA_n"
      },
      "source": [
        "from sklearn.metrics import v_measure_score\n",
        "metrics.v_measure_score(y_true, y_pred)"
      ],
      "execution_count": null,
      "outputs": []
    },
    {
      "cell_type": "markdown",
      "metadata": {
        "id": "Ria3oUH1vQZM"
      },
      "source": [
        ">>### Cross-Validation"
      ]
    },
    {
      "cell_type": "code",
      "metadata": {
        "id": "xkvlpMB6vNo0"
      },
      "source": [
        "print(cross_val_score(knn, X_train, y_train, cv=4)\n",
        "print(cross_val_score(lr, X, y, cv=2)"
      ],
      "execution_count": null,
      "outputs": []
    },
    {
      "cell_type": "markdown",
      "metadata": {
        "id": "o09p_lNqwUl8"
      },
      "source": [
        "____________________________________________________________________\n",
        "# Tune Your Model\n",
        "___________________________________________________________________"
      ]
    },
    {
      "cell_type": "markdown",
      "metadata": {
        "id": "dqCVczCuwwUd"
      },
      "source": [
        ">## Grid Search"
      ]
    },
    {
      "cell_type": "code",
      "metadata": {
        "id": "d20vN15rvfS7"
      },
      "source": [
        "from sklearn.grid_search import GridSearchCV\n",
        "params = {\"n_neighbors\": np.arange(1,3), \"metric\": [\"euclidean\", \"cityblock\"]}\n",
        "grid = GridSearchCV(estimator=knn,param_grid=params)\n",
        "grid.fit(X_train, y_train)\n",
        "print(grid.best_score_)\n",
        "print(grid.best_estimator_.n_neighbors)"
      ],
      "execution_count": null,
      "outputs": []
    },
    {
      "cell_type": "markdown",
      "metadata": {
        "id": "Q7jEKyh7w_qM"
      },
      "source": [
        ">## Randomized Parameter Optimization"
      ]
    },
    {
      "cell_type": "code",
      "metadata": {
        "id": "3DClTQwfw8ln"
      },
      "source": [
        "from sklearn.grid_search import RandomizedSearchCV\n",
        "params = {\"n_neighbors\": range(1,5), \"weights\": [\"uniform\", \"distance\"]}\n",
        "rsearch = RandomizedSearchCV(\n",
        "            estimator=knn,\n",
        "            param_distributions=params,\n",
        "            cv=4,\n",
        "            n_iter=8,\n",
        "            random_state=5)\n",
        "\n",
        "rsearch.fit(X_train, y_train)\n",
        "print(rsearch.best_score_)"
      ],
      "execution_count": null,
      "outputs": []
    }
  ]
}