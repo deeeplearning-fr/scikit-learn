{
  "nbformat": 4,
  "nbformat_minor": 0,
  "metadata": {
    "colab": {
      "name": "Formation Scikit-Learn Cheat Sheet.ipynb",
      "provenance": [],
      "authorship_tag": "ABX9TyNEPKcO2nF3qMd70ms6OiXk",
      "include_colab_link": true
    },
    "kernelspec": {
      "name": "python3",
      "display_name": "Python 3"
    }
  },
  "cells": [
    {
      "cell_type": "markdown",
      "metadata": {
        "id": "view-in-github",
        "colab_type": "text"
      },
      "source": [
        "<a href=\"https://colab.research.google.com/github/deeeplearning-fr/scikit-learn/blob/main/Formation_Scikit_Learn_Cheat_Sheet.ipynb\" target=\"_parent\"><img src=\"https://colab.research.google.com/assets/colab-badge.svg\" alt=\"Open In Colab\"/></a>"
      ]
    },
    {
      "cell_type": "markdown",
      "metadata": {
        "id": "wiaAeZkAab5J"
      },
      "source": [
        "## A Basic Example"
      ]
    },
    {
      "cell_type": "code",
      "metadata": {
        "id": "QSQO84WDadKL"
      },
      "source": [
        "from sklearn import neighbors, datasets, preprocessing\n",
        "from sklearn.model_selection import train_test_split\n",
        "from sklearn.metrics import accuracy_score\n",
        "import numpy as np\n",
        "\n",
        "iris = datasets.load_iris()\n",
        "X, y = iris.data[:, :2], iris.target\n",
        "\n",
        "X_train, X_test, y_train, y_test = train_test_split(X, y, random_state=33)\n",
        "\n",
        "scaler = preprocessing.StandardScaler().fit(X_train)\n",
        "X_train = scaler.transform(X_train)\n",
        "X_test = scaler.transform(X_test)\n",
        "\n",
        "knn = neighbors.KNeighborsClassifier(n_neighbors=5)\n",
        "knn.fit(X_train, y_train)\n",
        "\n",
        "y_pred = knn.predict(X_test)\n",
        "accuracy_score(y_test, y_pred)"
      ],
      "execution_count": null,
      "outputs": []
    },
    {
      "cell_type": "markdown",
      "metadata": {
        "id": "d-y4HmLNa9OD"
      },
      "source": [
        "## Loading The Data\n",
        "Your data needs to be numeric and stored as NumPy arrays or SciPy sparse matrices. Other types that are convertible to numeric arrays, such as Pandas DataFrame, are also acceptable."
      ]
    },
    {
      "cell_type": "code",
      "metadata": {
        "id": "mJGRE-jGa4mt"
      },
      "source": [
        "from sklearn import datasets\n",
        "\n",
        "iris = datasets.load_iris()\n",
        "# print(iris)\n",
        "X, y = iris.data, iris.target\n"
      ],
      "execution_count": null,
      "outputs": []
    },
    {
      "cell_type": "markdown",
      "metadata": {
        "id": "DGayg2vFfn05"
      },
      "source": [
        "# Split Data Training And Test Data : sklearn.model_selection"
      ]
    },
    {
      "cell_type": "code",
      "metadata": {
        "id": "l0Jh8BixfrQ8"
      },
      "source": [
        "from sklearn.model_selection import train_test_split\n",
        "\n",
        "X_train, X_test, y_train, y_test = train_test_split(X, y, random_state=33)"
      ],
      "execution_count": null,
      "outputs": []
    },
    {
      "cell_type": "markdown",
      "metadata": {
        "id": "0gt01DIZbh1u"
      },
      "source": [
        "# Preprocessing The Data : sklearn.preprocessing"
      ]
    },
    {
      "cell_type": "markdown",
      "metadata": {
        "id": "4-FMFY7we5rj"
      },
      "source": [
        "### Standardization\n",
        "Standardize features by removing the mean and scaling to unit variance\n",
        "z = (x - u) / s"
      ]
    },
    {
      "cell_type": "code",
      "metadata": {
        "id": "jDuPPB5QbZI6"
      },
      "source": [
        "from sklearn.preprocessing import StandardScaler\n",
        "\n",
        "scaler = StandardScaler().fit(X_train)\n",
        "standardized_X = scaler.transform(X_train)\n",
        "standardized_X_test = scaler.transform(X_test)\n",
        "standardized_X[:3]"
      ],
      "execution_count": null,
      "outputs": []
    },
    {
      "cell_type": "markdown",
      "metadata": {
        "id": "EqQFIj_fcdMO"
      },
      "source": [
        "### Normalization"
      ]
    },
    {
      "cell_type": "code",
      "metadata": {
        "id": "XaqWBReGbt8U"
      },
      "source": [
        "from sklearn.preprocessing import Normalizer\n",
        "\n",
        "scaler = Normalizer().fit(X_train)\n",
        "normalized_X = scaler.transform(X_train)\n",
        "normalized_X_test = scaler.transform(X_test)"
      ],
      "execution_count": null,
      "outputs": []
    },
    {
      "cell_type": "markdown",
      "metadata": {
        "id": "ltdo7pwBe9Wa"
      },
      "source": [
        "### Binarization"
      ]
    },
    {
      "cell_type": "code",
      "metadata": {
        "id": "dtFRoKsXfBuD"
      },
      "source": [
        "from sklearn.preprocessing import Binarizer\n",
        "\n",
        "binarizer = Binarizer(threshold=0.0).fit(X)\n",
        "binary_X = binarizer.transform(X)"
      ],
      "execution_count": null,
      "outputs": []
    },
    {
      "cell_type": "markdown",
      "metadata": {
        "id": "3t3IByySh5FM"
      },
      "source": [
        "### Encoding Categorical Features"
      ]
    },
    {
      "cell_type": "code",
      "metadata": {
        "id": "zXTztMcPfKsy"
      },
      "source": [
        "from sklearn.preprocessing import LabelEncoder\n",
        "\n",
        "enc = LabelEncoder()\n",
        "y = enc.fit_transform(y)\n",
        "y"
      ],
      "execution_count": null,
      "outputs": []
    },
    {
      "cell_type": "markdown",
      "metadata": {
        "id": "7X5v-0R2kvd_"
      },
      "source": [
        "### Imputing Missing Values"
      ]
    },
    {
      "cell_type": "code",
      "metadata": {
        "id": "p7Vh6vqyiAF_"
      },
      "source": [
        "from sklearn.impute import SimpleImputer\n",
        "\n",
        "imp = SimpleImputer(missing_values=0, strategy='mean')\n",
        "imp.fit_transform(X_train)"
      ],
      "execution_count": null,
      "outputs": []
    },
    {
      "cell_type": "markdown",
      "metadata": {
        "id": "d3tF48K9ldV2"
      },
      "source": [
        "### Generating Polynomial Features"
      ]
    },
    {
      "cell_type": "code",
      "metadata": {
        "id": "gV47Yg_olEEF"
      },
      "source": [
        "from sklearn.preprocessing import PolynomialFeatures\n",
        "poly = PolynomialFeatures(5)\n",
        "poly.fit_transform(X)"
      ],
      "execution_count": null,
      "outputs": []
    },
    {
      "cell_type": "markdown",
      "metadata": {
        "id": "fncxjJenluNP"
      },
      "source": [
        "____________________________________________________________________\n",
        "# Create Your Model\n",
        "____________________________________________________________________"
      ]
    },
    {
      "cell_type": "markdown",
      "metadata": {
        "id": "KPb1VSXHmDi9"
      },
      "source": [
        ">## Supervised Learning Estimators"
      ]
    },
    {
      "cell_type": "markdown",
      "metadata": {
        "id": "gKe70z_rmISS"
      },
      "source": [
        ">>### Linear Regression"
      ]
    },
    {
      "cell_type": "code",
      "metadata": {
        "id": "2qT-kyTLllER"
      },
      "source": [
        "from sklearn.linear_model import LinearRegression\n",
        "\n",
        "lr = LinearRegression(normalize=True)"
      ],
      "execution_count": null,
      "outputs": []
    },
    {
      "cell_type": "markdown",
      "metadata": {
        "id": "TdzfU-qd8xaV"
      },
      "source": [
        ">>### Ridge regression"
      ]
    },
    {
      "cell_type": "code",
      "metadata": {
        "id": "-clXXjTj9A4A"
      },
      "source": [
        "from sklearn import linear_model\n",
        "\n",
        "reg = linear_model.Ridge(alpha=.5)\n",
        "reg.fit([[0, 0], [0, 0], [1, 1]], [0, .1, 1])\n",
        "\n",
        "print(reg.coef_)\n",
        "print(reg.intercept_)\n"
      ],
      "execution_count": null,
      "outputs": []
    },
    {
      "cell_type": "markdown",
      "metadata": {
        "id": "5fRiq50bmoTR"
      },
      "source": [
        ">>### Support Vector Machines (SVM)"
      ]
    },
    {
      "cell_type": "code",
      "metadata": {
        "id": "bX71GEfqmYNA"
      },
      "source": [
        "from sklearn.svm import SVC\n",
        "\n",
        "svc = SVC(kernel='linear')"
      ],
      "execution_count": null,
      "outputs": []
    },
    {
      "cell_type": "markdown",
      "metadata": {
        "id": "m1NVhajrm30m"
      },
      "source": [
        ">>### Naive Bayes"
      ]
    },
    {
      "cell_type": "code",
      "metadata": {
        "id": "1pextIIbm2BC"
      },
      "source": [
        "from sklearn.naive_bayes import GaussianNB\n",
        "gnb = GaussianNB()"
      ],
      "execution_count": null,
      "outputs": []
    },
    {
      "cell_type": "markdown",
      "metadata": {
        "id": "nAdEvLyQnNOy"
      },
      "source": [
        ">>### KNN"
      ]
    },
    {
      "cell_type": "code",
      "metadata": {
        "id": "wndzxZL3nGvM"
      },
      "source": [
        "from sklearn import neighbors\n",
        "knn = neighbors.KNeighborsClassifier(n_neighbors=5)"
      ],
      "execution_count": null,
      "outputs": []
    },
    {
      "cell_type": "markdown",
      "metadata": {
        "id": "mbEtT36lng-6"
      },
      "source": [
        ">## Unsupervised Learning Estimators"
      ]
    },
    {
      "cell_type": "markdown",
      "metadata": {
        "id": "WCCxeEUNnmgp"
      },
      "source": [
        ">>### Principal Component Analysis (PCA)"
      ]
    },
    {
      "cell_type": "code",
      "metadata": {
        "id": "4sFXtwR9nfRh"
      },
      "source": [
        "from sklearn.decomposition import PCA\n",
        "pca = PCA(n_components=0.95)"
      ],
      "execution_count": null,
      "outputs": []
    },
    {
      "cell_type": "markdown",
      "metadata": {
        "id": "2bfNQajqn2cq"
      },
      "source": [
        ">>### K Means"
      ]
    },
    {
      "cell_type": "code",
      "metadata": {
        "id": "wE9noo9Nn1Ce"
      },
      "source": [
        "from sklearn.cluster import KMeans\n",
        "k_means = KMeans(n_clusters=3, random_state=0)"
      ],
      "execution_count": null,
      "outputs": []
    },
    {
      "cell_type": "markdown",
      "metadata": {
        "id": "FX_74q-JoJl7"
      },
      "source": [
        "____________________________________________________________________\n",
        "# Model Fitting\n",
        "____________________________________________________________________"
      ]
    },
    {
      "cell_type": "markdown",
      "metadata": {
        "id": "hCofgpRUoazm"
      },
      "source": [
        ">### Supervised learning"
      ]
    },
    {
      "cell_type": "code",
      "metadata": {
        "id": "JFIwlL5boL8c"
      },
      "source": [
        "lr.fit(X, y)\n",
        "knn.fit(X_train, y_train)\n",
        "svc.fit(X_train, y_train)"
      ],
      "execution_count": null,
      "outputs": []
    },
    {
      "cell_type": "markdown",
      "metadata": {
        "id": "leQTK7NQo5PQ"
      },
      "source": [
        ">### Unsupervised Learning"
      ]
    },
    {
      "cell_type": "code",
      "metadata": {
        "id": "ZHSuOd5-o_aP"
      },
      "source": [
        "k_means.fit(X_train)\n",
        "pca_model = pca.fit_transform(X_train)"
      ],
      "execution_count": null,
      "outputs": []
    },
    {
      "cell_type": "markdown",
      "metadata": {
        "id": "kdXGcOqzpNH2"
      },
      "source": [
        "____________________________________________________________________\n",
        "# Prediction\n",
        "____________________________________________________________________"
      ]
    },
    {
      "cell_type": "markdown",
      "metadata": {
        "id": "jyKFq_AKqxW0"
      },
      "source": [
        ">### Supervised Estimators"
      ]
    },
    {
      "cell_type": "code",
      "metadata": {
        "id": "J-BKIM4spKm8"
      },
      "source": [
        "y_pred = svc.predict(np.random.random((2,4)))\n",
        "y_pred = lr.predict(X_test)\n",
        "y_pred = knn.predict_proba(X_test)"
      ],
      "execution_count": null,
      "outputs": []
    },
    {
      "cell_type": "markdown",
      "metadata": {
        "id": "4FYj4YUnrIGt"
      },
      "source": [
        ">### Unsupervised Estimators"
      ]
    },
    {
      "cell_type": "code",
      "metadata": {
        "id": "lmOVXUcEq-WJ"
      },
      "source": [
        "y_pred = k_means.predict(X_test)"
      ],
      "execution_count": null,
      "outputs": []
    },
    {
      "cell_type": "markdown",
      "metadata": {
        "id": "XKHWvqrtrg8-"
      },
      "source": [
        "____________________________________________________________________\n",
        "# Evaluate Your Model's Performance\n",
        "____________________________________________________________________"
      ]
    },
    {
      "cell_type": "markdown",
      "metadata": {
        "id": "javHzcsdruBf"
      },
      "source": [
        ">## Classification Metrics"
      ]
    },
    {
      "cell_type": "markdown",
      "metadata": {
        "id": "8bWY73pLr0M0"
      },
      "source": [
        ">>### Accuracy Score"
      ]
    },
    {
      "cell_type": "code",
      "metadata": {
        "id": "5GAIUljYri4h"
      },
      "source": [
        "knn.score(X_test, y_test)\n",
        "\n",
        "from sklearn.metrics import accuracy_score\n",
        "accuracy_score(y_test, y_pred)"
      ],
      "execution_count": null,
      "outputs": []
    },
    {
      "cell_type": "markdown",
      "metadata": {
        "id": "G97JAudjsDNH"
      },
      "source": [
        ">>### Classification Report"
      ]
    },
    {
      "cell_type": "code",
      "metadata": {
        "id": "LjXsZwiWr_xx"
      },
      "source": [
        "from sklearn.metrics import classification_report\n",
        "print(classification_report(y_test, y_pred))"
      ],
      "execution_count": null,
      "outputs": []
    },
    {
      "cell_type": "markdown",
      "metadata": {
        "id": "DseL7la8sUrZ"
      },
      "source": [
        ">>### Confusion Matrix"
      ]
    },
    {
      "cell_type": "code",
      "metadata": {
        "id": "G3Rm-gs-sNkn"
      },
      "source": [
        "from sklearn.metrics import confusion_matrix\n",
        "print(confusion_matrix(y_test, y_pred))"
      ],
      "execution_count": null,
      "outputs": []
    },
    {
      "cell_type": "markdown",
      "metadata": {
        "id": "_Kfbx42dshLJ"
      },
      "source": [
        ">## Regression Metrics"
      ]
    },
    {
      "cell_type": "markdown",
      "metadata": {
        "id": "NnyqBzz6spMz"
      },
      "source": [
        ">>### Mean Absolute Error"
      ]
    },
    {
      "cell_type": "code",
      "metadata": {
        "id": "o6U9S3d2saeJ"
      },
      "source": [
        "from sklearn.metrics import mean_absolute_error\n",
        "y_true = [3, -0.5, 2]\n",
        "mean_absolute_error(y_true, y_pred)"
      ],
      "execution_count": null,
      "outputs": []
    },
    {
      "cell_type": "markdown",
      "metadata": {
        "id": "qvzh3LCUs9DO"
      },
      "source": [
        ">>### Mean Squared Error"
      ]
    },
    {
      "cell_type": "code",
      "metadata": {
        "id": "r_pj57e6s1ih"
      },
      "source": [
        "from sklearn.metrics import mean_squared_error\n",
        "mean_squared_error(y_test, y_pred)"
      ],
      "execution_count": null,
      "outputs": []
    },
    {
      "cell_type": "markdown",
      "metadata": {
        "id": "7XyKrKfyuTJP"
      },
      "source": [
        ">>### R2 Score"
      ]
    },
    {
      "cell_type": "code",
      "metadata": {
        "id": "_3UPKuSUtDq9"
      },
      "source": [
        "from sklearn.metrics import r2_score\n",
        "r2_score(y_true, y_pred)"
      ],
      "execution_count": null,
      "outputs": []
    },
    {
      "cell_type": "markdown",
      "metadata": {
        "id": "MzNTsJJkufQz"
      },
      "source": [
        ">## Clustering Metrics"
      ]
    },
    {
      "cell_type": "markdown",
      "metadata": {
        "id": "TqVrnuJKuryb"
      },
      "source": [
        ">>### Adjusted Rand Index"
      ]
    },
    {
      "cell_type": "code",
      "metadata": {
        "id": "Yv7Yij16uaDJ"
      },
      "source": [
        "from sklearn.metrics import adjusted_rand_score\n",
        "adjusted_rand_score(y_true, y_pred)"
      ],
      "execution_count": null,
      "outputs": []
    },
    {
      "cell_type": "markdown",
      "metadata": {
        "id": "BLID4cJ6u1oM"
      },
      "source": [
        ">>### Homogeneity"
      ]
    },
    {
      "cell_type": "code",
      "metadata": {
        "id": "mS9F147huyMX"
      },
      "source": [
        "from sklearn.metrics import homogeneity_score\n",
        "homogeneity_score(y_true, y_pred)"
      ],
      "execution_count": null,
      "outputs": []
    },
    {
      "cell_type": "markdown",
      "metadata": {
        "id": "tnT_G6SnvFHE"
      },
      "source": [
        ">>### V-measure"
      ]
    },
    {
      "cell_type": "code",
      "metadata": {
        "id": "QPI54MlqvA_n"
      },
      "source": [
        "from sklearn.metrics import v_measure_score\n",
        "metrics.v_measure_score(y_true, y_pred)"
      ],
      "execution_count": null,
      "outputs": []
    },
    {
      "cell_type": "markdown",
      "metadata": {
        "id": "Ria3oUH1vQZM"
      },
      "source": [
        ">>### Cross-Validation"
      ]
    },
    {
      "cell_type": "code",
      "metadata": {
        "id": "xkvlpMB6vNo0"
      },
      "source": [
        "print(cross_val_score(knn, X_train, y_train, cv=4)\n",
        "print(cross_val_score(lr, X, y, cv=2)"
      ],
      "execution_count": null,
      "outputs": []
    },
    {
      "cell_type": "markdown",
      "metadata": {
        "id": "o09p_lNqwUl8"
      },
      "source": [
        "____________________________________________________________________\n",
        "# Tune Your Model\n",
        "___________________________________________________________________"
      ]
    },
    {
      "cell_type": "markdown",
      "metadata": {
        "id": "dqCVczCuwwUd"
      },
      "source": [
        ">## Grid Search"
      ]
    },
    {
      "cell_type": "code",
      "metadata": {
        "id": "d20vN15rvfS7"
      },
      "source": [
        "from sklearn.grid_search import GridSearchCV\n",
        "params = {\"n_neighbors\": np.arange(1,3), \"metric\": [\"euclidean\", \"cityblock\"]}\n",
        "grid = GridSearchCV(estimator=knn,param_grid=params)\n",
        "grid.fit(X_train, y_train)\n",
        "print(grid.best_score_)\n",
        "print(grid.best_estimator_.n_neighbors)"
      ],
      "execution_count": null,
      "outputs": []
    },
    {
      "cell_type": "markdown",
      "metadata": {
        "id": "Q7jEKyh7w_qM"
      },
      "source": [
        ">## Randomized Parameter Optimization"
      ]
    },
    {
      "cell_type": "code",
      "metadata": {
        "id": "3DClTQwfw8ln"
      },
      "source": [
        "from sklearn.grid_search import RandomizedSearchCV\n",
        "params = {\"n_neighbors\": range(1,5), \"weights\": [\"uniform\", \"distance\"]}\n",
        "rsearch = RandomizedSearchCV(\n",
        "            estimator=knn,\n",
        "            param_distributions=params,\n",
        "            cv=4,\n",
        "            n_iter=8,\n",
        "            random_state=5)\n",
        "\n",
        "rsearch.fit(X_train, y_train)\n",
        "print(rsearch.best_score_)"
      ],
      "execution_count": null,
      "outputs": []
    }
  ]
}